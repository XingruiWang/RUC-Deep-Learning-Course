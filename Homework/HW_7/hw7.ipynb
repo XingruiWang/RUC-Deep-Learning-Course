{
  "nbformat": 4,
  "nbformat_minor": 0,
  "metadata": {
    "colab": {
      "name": "hw7.ipynb",
      "provenance": [],
      "collapsed_sections": [],
      "toc_visible": true,
      "authorship_tag": "ABX9TyPyRCElIKNsmCJli79r0X4k",
      "include_colab_link": true
    },
    "kernelspec": {
      "name": "python3",
      "display_name": "Python 3"
    }
  },
  "cells": [
    {
      "cell_type": "markdown",
      "metadata": {
        "id": "view-in-github",
        "colab_type": "text"
      },
      "source": [
        "<a href=\"https://colab.research.google.com/github/XingruiWang/RUC-Deep-Learning-Course/blob/master/Homework/HW_7/hw7.ipynb\" target=\"_parent\"><img src=\"https://colab.research.google.com/assets/colab-badge.svg\" alt=\"Open In Colab\"/></a>"
      ]
    },
    {
      "cell_type": "markdown",
      "metadata": {
        "id": "PLF77xGY0xF4"
      },
      "source": [
        "# 广告效果预测"
      ]
    },
    {
      "cell_type": "markdown",
      "metadata": {
        "id": "Rbb-7m371DCc"
      },
      "source": [
        "### 背景介绍\n",
        "\n",
        "**搜索引擎营销**（SEM: Search Engine Marketing）的核心是通过搜索引擎上，用户主动输入表达的意愿，推送相应的广告信息。搜索引擎营销运营的关键环节之一就是**关键词拓展**。所谓关键词拓展，就是根据已有的关键词表现数据，推测还有哪些尚未购买的关键词。因此，你需要构造一个从**X = 关键词**到**Y = 广告效果**的回归模型。不同场景下对广告效果的定义个不相同。可能是展现、点击、转化、再购买等。这样就构成了一个完整的销售漏斗。而本案例关注该销售漏斗的第一个环节：展现。具体而言，**因变量是Y=log(展现量)**，直接反映了广告主信息在用户面前暴露的强度。而X就是关键词本身的文本信息。"
      ]
    },
    {
      "cell_type": "markdown",
      "metadata": {
        "id": "_J4OKjCx1iUB"
      },
      "source": [
        "### 方法介绍\n",
        "\n",
        "#### 一、分词\n",
        "\n",
        "源数据中x为用户搜索内容，为了更好提取内容的语义信息，我们先将内容分割成不同的汉语词语。分词的工具采用的是python中的Jiba包。\n",
        "\n",
        "#### 二、word to vector\n",
        "\n",
        "在分词之后，我使用word-to-vector词编码模型对文本数据进行量化\n",
        "\n",
        "#### 三、RNN模型\n",
        "\n",
        "<img src = 'https://camo.githubusercontent.com/bee147253f0a81a87f02200007716adaf97943f6/687474703a2f2f6b657875652e666d2f7573722f75706c6f6164732f323031352f30382f323036373734313235372e706e67' width=70%>\n"
      ]
    },
    {
      "cell_type": "code",
      "metadata": {
        "colab": {
          "base_uri": "https://localhost:8080/"
        },
        "id": "GMHbwUUI0pRW",
        "outputId": "b54661a8-f409-4cb6-e46d-dcd573fc2c7b"
      },
      "source": [
        "from google.colab import drive\n",
        "\n",
        "drive.mount('/content/drive/')"
      ],
      "execution_count": 1,
      "outputs": [
        {
          "output_type": "stream",
          "text": [
            "Mounted at /content/drive/\n"
          ],
          "name": "stdout"
        }
      ]
    },
    {
      "cell_type": "markdown",
      "metadata": {
        "id": "nH2r8qq4BmHj"
      },
      "source": [
        "### 模型搭建"
      ]
    },
    {
      "cell_type": "markdown",
      "metadata": {
        "id": "Vo-cYG3PB0N3"
      },
      "source": [
        "一、数据读入与初步分词"
      ]
    },
    {
      "cell_type": "code",
      "metadata": {
        "colab": {
          "base_uri": "https://localhost:8080/",
          "height": 650
        },
        "id": "JM_4mDwxCsA3",
        "outputId": "73251dfc-db9a-42b2-9db7-17533c8c152e"
      },
      "source": [
        "# drive/MyDrive/RUC/DeepLearning/course7/SEM.csv\n",
        "import pandas as pd\n",
        "import numpy as np\n",
        "import matplotlib as mpl\n",
        "import matplotlib.pyplot as plt\n",
        "import jieba\n",
        "import random\n",
        "from collections import Counter\n",
        "%matplotlib inline\n",
        "\n",
        "\n",
        "data_table = pd.read_csv('drive/MyDrive/RUC/DeepLearning/course7/SEM.csv')\n",
        "sentences, y = data_table[\"kw\"], data_table[\"logImp\"].to_numpy().astype(np.float32)\n",
        "N = len(y)\n",
        "\n",
        "# 数据预处理\n",
        "y = (y - y.min()) / (y.max() - y.min())\n",
        "train_data = []\n",
        "for s in sentences:\n",
        "  train_data.append(jieba.lcut(s))\n",
        "\n",
        "# train_data = np.array(train_data)\n",
        "\n",
        "print(\"-------------- y的分布 -----------------\")\n",
        "plt.hist(y, bins=50, color = \"#0ABAB5\", alpha = 0.6)\n",
        "plt.show()\n",
        "\n",
        "\n",
        "print(\"\\n-------------- 分词结果 -----------------\")\n",
        "show_index = random.sample(range(N), 10)\n",
        "for s, cut in zip(sentences[show_index], np.array(train_data)[show_index]):\n",
        "  print(s, \"\\t\", cut)\n",
        "\n",
        "\n",
        "print(\"\\n-------------- 词频前20统计 -----------------\")\n",
        "\n",
        "all_words = np.hstack(train_data)\n",
        "words_count = Counter(all_words)\n",
        "W = len(words_count)\n",
        "print(\"%d words in total\"%(W))\n",
        "print(words_count.most_common(20))\n"
      ],
      "execution_count": 2,
      "outputs": [
        {
          "output_type": "stream",
          "text": [
            "Building prefix dict from the default dictionary ...\n",
            "Dumping model to file cache /tmp/jieba.cache\n",
            "Loading model cost 0.954 seconds.\n",
            "Prefix dict has been built successfully.\n"
          ],
          "name": "stderr"
        },
        {
          "output_type": "stream",
          "text": [
            "-------------- y的分布 -----------------\n"
          ],
          "name": "stdout"
        },
        {
          "output_type": "display_data",
          "data": {
            "image/png": "[encoded data removed]",
            "text/plain": [
              "<Figure size 432x288 with 1 Axes>"
            ]
          },
          "metadata": {
            "tags": [],
            "needs_background": "light"
          }
        },
        {
          "output_type": "stream",
          "text": [
            "\n",
            "-------------- 分词结果 -----------------\n",
            "吉林机票 \t ['吉林', '机票']\n",
            "济南特价飞机票查询 \t ['济南', '特价', '飞机票', '查询']\n",
            "三亚机票价格 \t ['三亚', '机票价格']\n",
            "井冈山机票 \t ['井冈山', '机票']\n",
            "上海到石家庄特价机票 \t ['上海', '到', '石家庄', '特价机票']\n",
            "广州机票哪个网站便宜 \t ['广州', '机票', '哪个', '网站', '便宜']\n",
            "贵阳特价机票 \t ['贵阳', '特价机票']\n",
            "南京飞机票-预订 \t ['南京', '飞机票', '-', '预订']\n",
            "黄山自由行攻略 \t ['黄山', '自由', '行', '攻略']\n",
            "郑州航班查询 \t ['郑州', '航班', '查询']\n",
            "\n",
            "-------------- 词频前20统计 -----------------\n",
            "506 words in total\n",
            "[('机票', 1954), ('飞机票', 971), ('特价机票', 633), ('查询', 625), ('预订', 449), ('便宜', 392), ('-', 369), ('打折', 327), ('特价', 268), ('到', 267), ('深圳', 265), ('北京', 256), ('航班', 243), ('广州', 240), ('的', 235), ('上海', 223), ('预定', 215), ('网站', 215), ('网', 180), ('飞机', 170)]\n"
          ],
          "name": "stdout"
        }
      ]
    },
    {
      "cell_type": "markdown",
      "metadata": {
        "id": "80J8crWTKrIg"
      },
      "source": [
        "#### 二、Word to vector"
      ]
    },
    {
      "cell_type": "code",
      "metadata": {
        "colab": {
          "base_uri": "https://localhost:8080/"
        },
        "id": "p98idB19B1ez",
        "outputId": "fa88a9d1-e563-4e98-d30f-2efe93df13bb"
      },
      "source": [
        "# 训练词向量\n",
        "from gensim.models import Word2Vec\n",
        "vec_size = 100\n",
        "\n",
        "w2v = Word2Vec(train_data, size = vec_size, min_count=1)\n",
        "w2v.wv['机票'].shape"
      ],
      "execution_count": 3,
      "outputs": [
        {
          "output_type": "execute_result",
          "data": {
            "text/plain": [
              "(100,)"
            ]
          },
          "metadata": {
            "tags": []
          },
          "execution_count": 3
        }
      ]
    },
    {
      "cell_type": "code",
      "metadata": {
        "colab": {
          "base_uri": "https://localhost:8080/"
        },
        "id": "88fEfI6QcLse",
        "outputId": "433dce66-1579-4823-c53f-9acf01d041ad"
      },
      "source": [
        "# 词编码\n",
        "from tensorflow.python.keras.preprocessing.text import Tokenizer\n",
        "\n",
        "tokenizer = Tokenizer(filters = \"\", split = \" \")\n",
        "tokenizer.fit_on_texts(train_data)\n",
        "\n",
        "train_tokens = tokenizer.texts_to_sequences(train_data)\n",
        "\n",
        "max_len = max([len(t) for t in train_tokens])\n",
        "print(max_len)\n",
        "print(\"----------Tokenizer 结果-----------------\")\n",
        "for d, t in zip(train_data[:10], train_tokens[:10]):\n",
        "  print(d, t)"
      ],
      "execution_count": 4,
      "outputs": [
        {
          "output_type": "stream",
          "text": [
            "7\n",
            "----------Tokenizer 结果-----------------\n",
            "['1.5', '折', '机票'] [363, 123, 1]\n",
            "['10.1', '机票'] [240, 1]\n",
            "['10.1', '机票', '查询'] [240, 1, 4]\n",
            "['10.1', '特价机票'] [240, 3]\n",
            "['10', '月份', '特价机票'] [364, 146, 3]\n",
            "['17u', '.', 'cn'] [365, 366, 367]\n",
            "['1', '元', '机票'] [134, 368, 1]\n",
            "['1', '折', '机票', '查询'] [134, 123, 1, 4]\n",
            "['1', '折', '机票', '订购'] [134, 123, 1, 34]\n",
            "['1', '折', '机票网'] [134, 123, 59]\n"
          ],
          "name": "stdout"
        }
      ]
    },
    {
      "cell_type": "code",
      "metadata": {
        "id": "xWgo7wkIaDSA"
      },
      "source": [
        "# 序列补全\n",
        "from tensorflow.python.keras.preprocessing.sequence import pad_sequences\n",
        "\n",
        "train_pad = pad_sequences(train_tokens, maxlen=max_len,\n",
        "                            padding='pre', truncating='pre')"
      ],
      "execution_count": 5,
      "outputs": []
    },
    {
      "cell_type": "code",
      "metadata": {
        "id": "udvUN9EETWzk"
      },
      "source": [
        "# 建立 index --> word 的映射，方便调用\n",
        "reverse_word_map = dict(map(reversed, tokenizer.word_index.items())) # \n",
        "\n",
        "# 用word2vec结果初始化模型Embedding参数\n",
        "# embedding_matrix为一个 [num_words，embedding_dim] 的矩阵\n",
        "# 维度为 507 * 200\n",
        "num_words = W + 1\n",
        "embedding_dim = vec_size\n",
        "embedding_matrix = np.zeros((num_words, embedding_dim))\n",
        "\n",
        "for i in range(1, num_words):\n",
        "    embedding_matrix[i,:] = w2v.wv[reverse_word_map[i]]\n",
        "embedding_matrix = embedding_matrix.astype('float32')"
      ],
      "execution_count": 6,
      "outputs": []
    },
    {
      "cell_type": "markdown",
      "metadata": {
        "id": "O8xI4jD1gjR2"
      },
      "source": [
        "#### 三、用keras搭建RNN模型并训练"
      ]
    },
    {
      "cell_type": "code",
      "metadata": {
        "id": "E_GV02ERfJKd"
      },
      "source": [
        "# x: train_pad, y: y\n",
        "from sklearn.model_selection import train_test_split\n",
        "X_train, X_test, y_train, y_test = train_test_split(train_pad,\n",
        "                                                    y,\n",
        "                                                    test_size=0.5,\n",
        "                                                    random_state=0)"
      ],
      "execution_count": 7,
      "outputs": []
    },
    {
      "cell_type": "code",
      "metadata": {
        "colab": {
          "base_uri": "https://localhost:8080/"
        },
        "id": "iQzR1yR0gs5V",
        "outputId": "dcd91711-b17d-4f57-ffa3-5aef7404e36f"
      },
      "source": [
        "from keras.layers import Input, Embedding, Dense, SimpleRNN\n",
        "from keras.models import Model\n",
        "\n",
        "# 507 * 200\n",
        "hidden_size = 256\n",
        "\n",
        "def RNN(layers = 2, trainable_embedding = False, embedding_init = [embedding_matrix]):\n",
        "  input = Input(shape = (max_len,))\n",
        "\n",
        "  x = Embedding(num_words, embedding_dim, mask_zero = True, weights=embedding_init,\n",
        "                      trainable = trainable_embedding)(input)\n",
        "  for _ in range(layers - 1):\n",
        "    x = SimpleRNN(hidden_size, return_sequences = True)(x)\n",
        "  x = SimpleRNN(hidden_size, return_sequences = False)(x)\n",
        "  x = Dense(1)(x)\n",
        "  model = Model(input, x)\n",
        "  return model\n",
        "\n",
        "model = RNN(1, False, [embedding_matrix])\n",
        "model.summary()"
      ],
      "execution_count": 8,
      "outputs": [
        {
          "output_type": "stream",
          "text": [
            "Model: \"functional_1\"\n",
            "_________________________________________________________________\n",
            "Layer (type)                 Output Shape              Param #   \n",
            "=================================================================\n",
            "input_1 (InputLayer)         [(None, 7)]               0         \n",
            "_________________________________________________________________\n",
            "embedding (Embedding)        (None, 7, 100)            50700     \n",
            "_________________________________________________________________\n",
            "simple_rnn (SimpleRNN)       (None, 256)               91392     \n",
            "_________________________________________________________________\n",
            "dense (Dense)                (None, 1)                 257       \n",
            "=================================================================\n",
            "Total params: 142,349\n",
            "Trainable params: 91,649\n",
            "Non-trainable params: 50,700\n",
            "_________________________________________________________________\n"
          ],
          "name": "stdout"
        }
      ]
    },
    {
      "cell_type": "code",
      "metadata": {
        "colab": {
          "base_uri": "https://localhost:8080/"
        },
        "id": "RvXq1bc4kNVi",
        "outputId": "e403b044-9163-4e2f-90bc-f68330d0a67d"
      },
      "source": [
        "from keras.optimizers import Adam\n",
        "from keras.callbacks import ModelCheckpoint\n",
        "\n",
        "filepath=\"weights.best.hdf5\"\n",
        "checkpoint = ModelCheckpoint(filepath, monitor='val_mse', verbose=1, save_best_only=True, mode='min')\n",
        "callbacks_list = [checkpoint]\n",
        "\n",
        "model.compile(optimizer=Adam(lr=0.001), metrics=['mse'], loss=\"mse\")\n",
        "# model.fit(X_train, y_train)\n",
        "history = model.fit(x=X_train, y=y_train, batch_size=16, epochs=100, verbose=1, validation_data = (X_test, y_test), callbacks=callbacks_list)\n"
      ],
      "execution_count": 13,
      "outputs": [
        {
          "output_type": "stream",
          "text": [
            "Epoch 1/100\n",
            "149/152 [============================>.] - ETA: 0s - loss: 0.0133 - mse: 0.0133\n",
            "Epoch 00001: val_mse improved from inf to 0.01369, saving model to weights.best.hdf5\n",
            "152/152 [==============================] - 2s 13ms/step - loss: 0.0133 - mse: 0.0133 - val_loss: 0.0137 - val_mse: 0.0137\n",
            "Epoch 2/100\n",
            "149/152 [============================>.] - ETA: 0s - loss: 0.0130 - mse: 0.0130\n",
            "Epoch 00002: val_mse improved from 0.01369 to 0.01267, saving model to weights.best.hdf5\n",
            "152/152 [==============================] - 2s 12ms/step - loss: 0.0129 - mse: 0.0129 - val_loss: 0.0127 - val_mse: 0.0127\n",
            "Epoch 3/100\n",
            "151/152 [============================>.] - ETA: 0s - loss: 0.0128 - mse: 0.0128\n",
            "Epoch 00003: val_mse did not improve from 0.01267\n",
            "152/152 [==============================] - 2s 11ms/step - loss: 0.0128 - mse: 0.0128 - val_loss: 0.0172 - val_mse: 0.0172\n",
            "Epoch 4/100\n",
            "151/152 [============================>.] - ETA: 0s - loss: 0.0137 - mse: 0.0137\n",
            "Epoch 00004: val_mse did not improve from 0.01267\n",
            "152/152 [==============================] - 2s 11ms/step - loss: 0.0137 - mse: 0.0137 - val_loss: 0.0143 - val_mse: 0.0143\n",
            "Epoch 5/100\n",
            "147/152 [============================>.] - ETA: 0s - loss: 0.0128 - mse: 0.0128\n",
            "Epoch 00005: val_mse did not improve from 0.01267\n",
            "152/152 [==============================] - 2s 12ms/step - loss: 0.0129 - mse: 0.0129 - val_loss: 0.0131 - val_mse: 0.0131\n",
            "Epoch 6/100\n",
            "147/152 [============================>.] - ETA: 0s - loss: 0.0129 - mse: 0.0129\n",
            "Epoch 00006: val_mse did not improve from 0.01267\n",
            "152/152 [==============================] - 2s 12ms/step - loss: 0.0129 - mse: 0.0129 - val_loss: 0.0134 - val_mse: 0.0134\n",
            "Epoch 7/100\n",
            "147/152 [============================>.] - ETA: 0s - loss: 0.0159 - mse: 0.0159\n",
            "Epoch 00007: val_mse did not improve from 0.01267\n",
            "152/152 [==============================] - 2s 12ms/step - loss: 0.0158 - mse: 0.0158 - val_loss: 0.0147 - val_mse: 0.0147\n",
            "Epoch 8/100\n",
            "152/152 [==============================] - ETA: 0s - loss: 0.0134 - mse: 0.0134\n",
            "Epoch 00008: val_mse did not improve from 0.01267\n",
            "152/152 [==============================] - 2s 13ms/step - loss: 0.0134 - mse: 0.0134 - val_loss: 0.0129 - val_mse: 0.0129\n",
            "Epoch 9/100\n",
            "149/152 [============================>.] - ETA: 0s - loss: 0.0123 - mse: 0.0123\n",
            "Epoch 00009: val_mse did not improve from 0.01267\n",
            "152/152 [==============================] - 2s 13ms/step - loss: 0.0123 - mse: 0.0123 - val_loss: 0.0134 - val_mse: 0.0134\n",
            "Epoch 10/100\n",
            "152/152 [==============================] - ETA: 0s - loss: 0.0132 - mse: 0.0132\n",
            "Epoch 00010: val_mse did not improve from 0.01267\n",
            "152/152 [==============================] - 2s 11ms/step - loss: 0.0132 - mse: 0.0132 - val_loss: 0.0130 - val_mse: 0.0130\n",
            "Epoch 11/100\n",
            "151/152 [============================>.] - ETA: 0s - loss: 0.0123 - mse: 0.0123\n",
            "Epoch 00011: val_mse did not improve from 0.01267\n",
            "152/152 [==============================] - 2s 11ms/step - loss: 0.0123 - mse: 0.0123 - val_loss: 0.0150 - val_mse: 0.0150\n",
            "Epoch 12/100\n",
            "152/152 [==============================] - ETA: 0s - loss: 0.0131 - mse: 0.0131\n",
            "Epoch 00012: val_mse did not improve from 0.01267\n",
            "152/152 [==============================] - 2s 10ms/step - loss: 0.0131 - mse: 0.0131 - val_loss: 0.0130 - val_mse: 0.0130\n",
            "Epoch 13/100\n",
            "147/152 [============================>.] - ETA: 0s - loss: 0.0127 - mse: 0.0127\n",
            "Epoch 00013: val_mse did not improve from 0.01267\n",
            "152/152 [==============================] - 2s 11ms/step - loss: 0.0126 - mse: 0.0126 - val_loss: 0.0128 - val_mse: 0.0128\n",
            "Epoch 14/100\n",
            "151/152 [============================>.] - ETA: 0s - loss: 0.0128 - mse: 0.0128\n",
            "Epoch 00014: val_mse did not improve from 0.01267\n",
            "152/152 [==============================] - 2s 11ms/step - loss: 0.0128 - mse: 0.0128 - val_loss: 0.0137 - val_mse: 0.0137\n",
            "Epoch 15/100\n",
            "147/152 [============================>.] - ETA: 0s - loss: 0.0127 - mse: 0.0127\n",
            "Epoch 00015: val_mse did not improve from 0.01267\n",
            "152/152 [==============================] - 2s 10ms/step - loss: 0.0128 - mse: 0.0128 - val_loss: 0.0136 - val_mse: 0.0136\n",
            "Epoch 16/100\n",
            "150/152 [============================>.] - ETA: 0s - loss: 0.0125 - mse: 0.0125\n",
            "Epoch 00016: val_mse did not improve from 0.01267\n",
            "152/152 [==============================] - 2s 10ms/step - loss: 0.0125 - mse: 0.0125 - val_loss: 0.0127 - val_mse: 0.0127\n",
            "Epoch 17/100\n",
            "149/152 [============================>.] - ETA: 0s - loss: 0.0126 - mse: 0.0126\n",
            "Epoch 00017: val_mse did not improve from 0.01267\n",
            "152/152 [==============================] - 2s 11ms/step - loss: 0.0126 - mse: 0.0126 - val_loss: 0.0127 - val_mse: 0.0127\n",
            "Epoch 18/100\n",
            "152/152 [==============================] - ETA: 0s - loss: 0.0129 - mse: 0.0129\n",
            "Epoch 00018: val_mse did not improve from 0.01267\n",
            "152/152 [==============================] - 2s 11ms/step - loss: 0.0129 - mse: 0.0129 - val_loss: 0.0142 - val_mse: 0.0142\n",
            "Epoch 19/100\n",
            "148/152 [============================>.] - ETA: 0s - loss: 0.0132 - mse: 0.0132\n",
            "Epoch 00019: val_mse did not improve from 0.01267\n",
            "152/152 [==============================] - 2s 11ms/step - loss: 0.0133 - mse: 0.0133 - val_loss: 0.0135 - val_mse: 0.0135\n",
            "Epoch 20/100\n",
            "152/152 [==============================] - ETA: 0s - loss: 0.0129 - mse: 0.0129\n",
            "Epoch 00020: val_mse did not improve from 0.01267\n",
            "152/152 [==============================] - 2s 11ms/step - loss: 0.0129 - mse: 0.0129 - val_loss: 0.0140 - val_mse: 0.0140\n",
            "Epoch 21/100\n",
            "146/152 [===========================>..] - ETA: 0s - loss: 0.0130 - mse: 0.0130\n",
            "Epoch 00021: val_mse did not improve from 0.01267\n",
            "152/152 [==============================] - 2s 11ms/step - loss: 0.0129 - mse: 0.0129 - val_loss: 0.0135 - val_mse: 0.0135\n",
            "Epoch 22/100\n",
            "146/152 [===========================>..] - ETA: 0s - loss: 0.0127 - mse: 0.0127\n",
            "Epoch 00022: val_mse did not improve from 0.01267\n",
            "152/152 [==============================] - 2s 11ms/step - loss: 0.0127 - mse: 0.0127 - val_loss: 0.0146 - val_mse: 0.0146\n",
            "Epoch 23/100\n",
            "146/152 [===========================>..] - ETA: 0s - loss: 0.0138 - mse: 0.0138\n",
            "Epoch 00023: val_mse did not improve from 0.01267\n",
            "152/152 [==============================] - 2s 10ms/step - loss: 0.0137 - mse: 0.0137 - val_loss: 0.0140 - val_mse: 0.0140\n",
            "Epoch 24/100\n",
            "150/152 [============================>.] - ETA: 0s - loss: 0.0129 - mse: 0.0129\n",
            "Epoch 00024: val_mse did not improve from 0.01267\n",
            "152/152 [==============================] - 2s 11ms/step - loss: 0.0129 - mse: 0.0129 - val_loss: 0.0129 - val_mse: 0.0129\n",
            "Epoch 25/100\n",
            "147/152 [============================>.] - ETA: 0s - loss: 0.0136 - mse: 0.0136\n",
            "Epoch 00025: val_mse did not improve from 0.01267\n",
            "152/152 [==============================] - 2s 11ms/step - loss: 0.0137 - mse: 0.0137 - val_loss: 0.0191 - val_mse: 0.0191\n",
            "Epoch 26/100\n",
            "151/152 [============================>.] - ETA: 0s - loss: 0.0131 - mse: 0.0131\n",
            "Epoch 00026: val_mse did not improve from 0.01267\n",
            "152/152 [==============================] - 2s 11ms/step - loss: 0.0131 - mse: 0.0131 - val_loss: 0.0134 - val_mse: 0.0134\n",
            "Epoch 27/100\n",
            "147/152 [============================>.] - ETA: 0s - loss: 0.0128 - mse: 0.0128\n",
            "Epoch 00027: val_mse improved from 0.01267 to 0.01257, saving model to weights.best.hdf5\n",
            "152/152 [==============================] - 2s 11ms/step - loss: 0.0127 - mse: 0.0127 - val_loss: 0.0126 - val_mse: 0.0126\n",
            "Epoch 28/100\n",
            "149/152 [============================>.] - ETA: 0s - loss: 0.0127 - mse: 0.0127\n",
            "Epoch 00028: val_mse did not improve from 0.01257\n",
            "152/152 [==============================] - 2s 11ms/step - loss: 0.0127 - mse: 0.0127 - val_loss: 0.0128 - val_mse: 0.0128\n",
            "Epoch 29/100\n",
            "146/152 [===========================>..] - ETA: 0s - loss: 0.0128 - mse: 0.0128\n",
            "Epoch 00029: val_mse did not improve from 0.01257\n",
            "152/152 [==============================] - 2s 11ms/step - loss: 0.0128 - mse: 0.0128 - val_loss: 0.0139 - val_mse: 0.0139\n",
            "Epoch 30/100\n",
            "151/152 [============================>.] - ETA: 0s - loss: 0.0125 - mse: 0.0125\n",
            "Epoch 00030: val_mse did not improve from 0.01257\n",
            "152/152 [==============================] - 2s 11ms/step - loss: 0.0125 - mse: 0.0125 - val_loss: 0.0127 - val_mse: 0.0127\n",
            "Epoch 31/100\n",
            "148/152 [============================>.] - ETA: 0s - loss: 0.0127 - mse: 0.0127\n",
            "Epoch 00031: val_mse did not improve from 0.01257\n",
            "152/152 [==============================] - 2s 10ms/step - loss: 0.0128 - mse: 0.0128 - val_loss: 0.0126 - val_mse: 0.0126\n",
            "Epoch 32/100\n",
            "148/152 [============================>.] - ETA: 0s - loss: 0.0127 - mse: 0.0127\n",
            "Epoch 00032: val_mse did not improve from 0.01257\n",
            "152/152 [==============================] - 2s 10ms/step - loss: 0.0127 - mse: 0.0127 - val_loss: 0.0127 - val_mse: 0.0127\n",
            "Epoch 33/100\n",
            "146/152 [===========================>..] - ETA: 0s - loss: 0.0125 - mse: 0.0125\n",
            "Epoch 00033: val_mse did not improve from 0.01257\n",
            "152/152 [==============================] - 2s 11ms/step - loss: 0.0125 - mse: 0.0125 - val_loss: 0.0130 - val_mse: 0.0130\n",
            "Epoch 34/100\n",
            "148/152 [============================>.] - ETA: 0s - loss: 0.0126 - mse: 0.0126\n",
            "Epoch 00034: val_mse did not improve from 0.01257\n",
            "152/152 [==============================] - 2s 11ms/step - loss: 0.0127 - mse: 0.0127 - val_loss: 0.0154 - val_mse: 0.0154\n",
            "Epoch 35/100\n",
            "147/152 [============================>.] - ETA: 0s - loss: 0.0144 - mse: 0.0144\n",
            "Epoch 00035: val_mse did not improve from 0.01257\n",
            "152/152 [==============================] - 2s 11ms/step - loss: 0.0143 - mse: 0.0143 - val_loss: 0.0142 - val_mse: 0.0142\n",
            "Epoch 36/100\n",
            "148/152 [============================>.] - ETA: 0s - loss: 0.0130 - mse: 0.0130\n",
            "Epoch 00036: val_mse did not improve from 0.01257\n",
            "152/152 [==============================] - 2s 11ms/step - loss: 0.0129 - mse: 0.0129 - val_loss: 0.0141 - val_mse: 0.0141\n",
            "Epoch 37/100\n",
            "151/152 [============================>.] - ETA: 0s - loss: 0.0133 - mse: 0.0133\n",
            "Epoch 00037: val_mse did not improve from 0.01257\n",
            "152/152 [==============================] - 2s 11ms/step - loss: 0.0133 - mse: 0.0133 - val_loss: 0.0158 - val_mse: 0.0158\n",
            "Epoch 38/100\n",
            "148/152 [============================>.] - ETA: 0s - loss: 0.0122 - mse: 0.0122\n",
            "Epoch 00038: val_mse did not improve from 0.01257\n",
            "152/152 [==============================] - 2s 11ms/step - loss: 0.0123 - mse: 0.0123 - val_loss: 0.0128 - val_mse: 0.0128\n",
            "Epoch 39/100\n",
            "146/152 [===========================>..] - ETA: 0s - loss: 0.0122 - mse: 0.0122\n",
            "Epoch 00039: val_mse did not improve from 0.01257\n",
            "152/152 [==============================] - 2s 11ms/step - loss: 0.0123 - mse: 0.0123 - val_loss: 0.0136 - val_mse: 0.0136\n",
            "Epoch 40/100\n",
            "151/152 [============================>.] - ETA: 0s - loss: 0.0127 - mse: 0.0127\n",
            "Epoch 00040: val_mse improved from 0.01257 to 0.01252, saving model to weights.best.hdf5\n",
            "152/152 [==============================] - 2s 11ms/step - loss: 0.0127 - mse: 0.0127 - val_loss: 0.0125 - val_mse: 0.0125\n",
            "Epoch 41/100\n",
            "148/152 [============================>.] - ETA: 0s - loss: 0.0122 - mse: 0.0122\n",
            "Epoch 00041: val_mse did not improve from 0.01252\n",
            "152/152 [==============================] - 2s 10ms/step - loss: 0.0123 - mse: 0.0123 - val_loss: 0.0136 - val_mse: 0.0136\n",
            "Epoch 42/100\n",
            "151/152 [============================>.] - ETA: 0s - loss: 0.0126 - mse: 0.0126\n",
            "Epoch 00042: val_mse did not improve from 0.01252\n",
            "152/152 [==============================] - 2s 12ms/step - loss: 0.0126 - mse: 0.0126 - val_loss: 0.0129 - val_mse: 0.0129\n",
            "Epoch 43/100\n",
            "151/152 [============================>.] - ETA: 0s - loss: 0.0125 - mse: 0.0125\n",
            "Epoch 00043: val_mse did not improve from 0.01252\n",
            "152/152 [==============================] - 2s 12ms/step - loss: 0.0124 - mse: 0.0124 - val_loss: 0.0133 - val_mse: 0.0133\n",
            "Epoch 44/100\n",
            "148/152 [============================>.] - ETA: 0s - loss: 0.0123 - mse: 0.0123\n",
            "Epoch 00044: val_mse did not improve from 0.01252\n",
            "152/152 [==============================] - 2s 12ms/step - loss: 0.0124 - mse: 0.0124 - val_loss: 0.0135 - val_mse: 0.0135\n",
            "Epoch 45/100\n",
            "146/152 [===========================>..] - ETA: 0s - loss: 0.0132 - mse: 0.0132\n",
            "Epoch 00045: val_mse did not improve from 0.01252\n",
            "152/152 [==============================] - 2s 12ms/step - loss: 0.0130 - mse: 0.0130 - val_loss: 0.0136 - val_mse: 0.0136\n",
            "Epoch 46/100\n",
            "150/152 [============================>.] - ETA: 0s - loss: 0.0126 - mse: 0.0126\n",
            "Epoch 00046: val_mse did not improve from 0.01252\n",
            "152/152 [==============================] - 2s 11ms/step - loss: 0.0126 - mse: 0.0126 - val_loss: 0.0128 - val_mse: 0.0128\n",
            "Epoch 47/100\n",
            "150/152 [============================>.] - ETA: 0s - loss: 0.0132 - mse: 0.0132\n",
            "Epoch 00047: val_mse did not improve from 0.01252\n",
            "152/152 [==============================] - 2s 11ms/step - loss: 0.0132 - mse: 0.0132 - val_loss: 0.0141 - val_mse: 0.0141\n",
            "Epoch 48/100\n",
            "147/152 [============================>.] - ETA: 0s - loss: 0.0139 - mse: 0.0139\n",
            "Epoch 00048: val_mse did not improve from 0.01252\n",
            "152/152 [==============================] - 2s 11ms/step - loss: 0.0138 - mse: 0.0138 - val_loss: 0.0138 - val_mse: 0.0138\n",
            "Epoch 49/100\n",
            "150/152 [============================>.] - ETA: 0s - loss: 0.0126 - mse: 0.0126\n",
            "Epoch 00049: val_mse did not improve from 0.01252\n",
            "152/152 [==============================] - 2s 11ms/step - loss: 0.0127 - mse: 0.0127 - val_loss: 0.0152 - val_mse: 0.0152\n",
            "Epoch 50/100\n",
            "150/152 [============================>.] - ETA: 0s - loss: 0.0122 - mse: 0.0122\n",
            "Epoch 00050: val_mse did not improve from 0.01252\n",
            "152/152 [==============================] - 2s 11ms/step - loss: 0.0121 - mse: 0.0121 - val_loss: 0.0132 - val_mse: 0.0132\n",
            "Epoch 51/100\n",
            "149/152 [============================>.] - ETA: 0s - loss: 0.0125 - mse: 0.0125\n",
            "Epoch 00051: val_mse did not improve from 0.01252\n",
            "152/152 [==============================] - 2s 11ms/step - loss: 0.0125 - mse: 0.0125 - val_loss: 0.0139 - val_mse: 0.0139\n",
            "Epoch 52/100\n",
            "151/152 [============================>.] - ETA: 0s - loss: 0.0125 - mse: 0.0125\n",
            "Epoch 00052: val_mse did not improve from 0.01252\n",
            "152/152 [==============================] - 2s 11ms/step - loss: 0.0125 - mse: 0.0125 - val_loss: 0.0140 - val_mse: 0.0140\n",
            "Epoch 53/100\n",
            "147/152 [============================>.] - ETA: 0s - loss: 0.0124 - mse: 0.0124\n",
            "Epoch 00053: val_mse did not improve from 0.01252\n",
            "152/152 [==============================] - 2s 11ms/step - loss: 0.0125 - mse: 0.0125 - val_loss: 0.0163 - val_mse: 0.0163\n",
            "Epoch 54/100\n",
            "148/152 [============================>.] - ETA: 0s - loss: 0.0125 - mse: 0.0125\n",
            "Epoch 00054: val_mse did not improve from 0.01252\n",
            "152/152 [==============================] - 2s 11ms/step - loss: 0.0125 - mse: 0.0125 - val_loss: 0.0132 - val_mse: 0.0132\n",
            "Epoch 55/100\n",
            "150/152 [============================>.] - ETA: 0s - loss: 0.0121 - mse: 0.0121\n",
            "Epoch 00055: val_mse did not improve from 0.01252\n",
            "152/152 [==============================] - 2s 11ms/step - loss: 0.0121 - mse: 0.0121 - val_loss: 0.0126 - val_mse: 0.0126\n",
            "Epoch 56/100\n",
            "146/152 [===========================>..] - ETA: 0s - loss: 0.0130 - mse: 0.0130\n",
            "Epoch 00056: val_mse did not improve from 0.01252\n",
            "152/152 [==============================] - 2s 11ms/step - loss: 0.0130 - mse: 0.0130 - val_loss: 0.0133 - val_mse: 0.0133\n",
            "Epoch 57/100\n",
            "146/152 [===========================>..] - ETA: 0s - loss: 0.0149 - mse: 0.0149\n",
            "Epoch 00057: val_mse did not improve from 0.01252\n",
            "152/152 [==============================] - 2s 11ms/step - loss: 0.0150 - mse: 0.0150 - val_loss: 0.0137 - val_mse: 0.0137\n",
            "Epoch 58/100\n",
            "147/152 [============================>.] - ETA: 0s - loss: 0.0123 - mse: 0.0123\n",
            "Epoch 00058: val_mse did not improve from 0.01252\n",
            "152/152 [==============================] - 2s 11ms/step - loss: 0.0125 - mse: 0.0125 - val_loss: 0.0135 - val_mse: 0.0135\n",
            "Epoch 59/100\n",
            "148/152 [============================>.] - ETA: 0s - loss: 0.0124 - mse: 0.0124\n",
            "Epoch 00059: val_mse did not improve from 0.01252\n",
            "152/152 [==============================] - 2s 11ms/step - loss: 0.0125 - mse: 0.0125 - val_loss: 0.0126 - val_mse: 0.0126\n",
            "Epoch 60/100\n",
            "146/152 [===========================>..] - ETA: 0s - loss: 0.0119 - mse: 0.0119\n",
            "Epoch 00060: val_mse did not improve from 0.01252\n",
            "152/152 [==============================] - 2s 11ms/step - loss: 0.0119 - mse: 0.0119 - val_loss: 0.0131 - val_mse: 0.0131\n",
            "Epoch 61/100\n",
            "147/152 [============================>.] - ETA: 0s - loss: 0.0120 - mse: 0.0120\n",
            "Epoch 00061: val_mse did not improve from 0.01252\n",
            "152/152 [==============================] - 2s 11ms/step - loss: 0.0121 - mse: 0.0121 - val_loss: 0.0126 - val_mse: 0.0126\n",
            "Epoch 62/100\n",
            "147/152 [============================>.] - ETA: 0s - loss: 0.0122 - mse: 0.0122\n",
            "Epoch 00062: val_mse did not improve from 0.01252\n",
            "152/152 [==============================] - 2s 11ms/step - loss: 0.0122 - mse: 0.0122 - val_loss: 0.0125 - val_mse: 0.0125\n",
            "Epoch 63/100\n",
            "150/152 [============================>.] - ETA: 0s - loss: 0.0118 - mse: 0.0118\n",
            "Epoch 00063: val_mse did not improve from 0.01252\n",
            "152/152 [==============================] - 2s 11ms/step - loss: 0.0118 - mse: 0.0118 - val_loss: 0.0135 - val_mse: 0.0135\n",
            "Epoch 64/100\n",
            "146/152 [===========================>..] - ETA: 0s - loss: 0.0122 - mse: 0.0122\n",
            "Epoch 00064: val_mse improved from 0.01252 to 0.01239, saving model to weights.best.hdf5\n",
            "152/152 [==============================] - 2s 11ms/step - loss: 0.0122 - mse: 0.0122 - val_loss: 0.0124 - val_mse: 0.0124\n",
            "Epoch 65/100\n",
            "150/152 [============================>.] - ETA: 0s - loss: 0.0121 - mse: 0.0121\n",
            "Epoch 00065: val_mse did not improve from 0.01239\n",
            "152/152 [==============================] - 2s 11ms/step - loss: 0.0121 - mse: 0.0121 - val_loss: 0.0147 - val_mse: 0.0147\n",
            "Epoch 66/100\n",
            "152/152 [==============================] - ETA: 0s - loss: 0.0126 - mse: 0.0126\n",
            "Epoch 00066: val_mse improved from 0.01239 to 0.01234, saving model to weights.best.hdf5\n",
            "152/152 [==============================] - 2s 11ms/step - loss: 0.0126 - mse: 0.0126 - val_loss: 0.0123 - val_mse: 0.0123\n",
            "Epoch 67/100\n",
            "149/152 [============================>.] - ETA: 0s - loss: 0.0124 - mse: 0.0124\n",
            "Epoch 00067: val_mse improved from 0.01234 to 0.01230, saving model to weights.best.hdf5\n",
            "152/152 [==============================] - 2s 11ms/step - loss: 0.0124 - mse: 0.0124 - val_loss: 0.0123 - val_mse: 0.0123\n",
            "Epoch 68/100\n",
            "150/152 [============================>.] - ETA: 0s - loss: 0.0123 - mse: 0.0123\n",
            "Epoch 00068: val_mse did not improve from 0.01230\n",
            "152/152 [==============================] - 2s 11ms/step - loss: 0.0123 - mse: 0.0123 - val_loss: 0.0151 - val_mse: 0.0151\n",
            "Epoch 69/100\n",
            "149/152 [============================>.] - ETA: 0s - loss: 0.0125 - mse: 0.0125\n",
            "Epoch 00069: val_mse did not improve from 0.01230\n",
            "152/152 [==============================] - 2s 11ms/step - loss: 0.0126 - mse: 0.0126 - val_loss: 0.0132 - val_mse: 0.0132\n",
            "Epoch 70/100\n",
            "150/152 [============================>.] - ETA: 0s - loss: 0.0123 - mse: 0.0123\n",
            "Epoch 00070: val_mse did not improve from 0.01230\n",
            "152/152 [==============================] - 2s 11ms/step - loss: 0.0122 - mse: 0.0122 - val_loss: 0.0144 - val_mse: 0.0144\n",
            "Epoch 71/100\n",
            "149/152 [============================>.] - ETA: 0s - loss: 0.0143 - mse: 0.0143\n",
            "Epoch 00071: val_mse did not improve from 0.01230\n",
            "152/152 [==============================] - 2s 11ms/step - loss: 0.0143 - mse: 0.0143 - val_loss: 0.0153 - val_mse: 0.0153\n",
            "Epoch 72/100\n",
            "149/152 [============================>.] - ETA: 0s - loss: 0.0127 - mse: 0.0127\n",
            "Epoch 00072: val_mse did not improve from 0.01230\n",
            "152/152 [==============================] - 2s 11ms/step - loss: 0.0126 - mse: 0.0126 - val_loss: 0.0128 - val_mse: 0.0128\n",
            "Epoch 73/100\n",
            "146/152 [===========================>..] - ETA: 0s - loss: 0.0118 - mse: 0.0118\n",
            "Epoch 00073: val_mse did not improve from 0.01230\n",
            "152/152 [==============================] - 2s 11ms/step - loss: 0.0120 - mse: 0.0120 - val_loss: 0.0136 - val_mse: 0.0136\n",
            "Epoch 74/100\n",
            "150/152 [============================>.] - ETA: 0s - loss: 0.0126 - mse: 0.0126\n",
            "Epoch 00074: val_mse did not improve from 0.01230\n",
            "152/152 [==============================] - 2s 11ms/step - loss: 0.0126 - mse: 0.0126 - val_loss: 0.0138 - val_mse: 0.0138\n",
            "Epoch 75/100\n",
            "148/152 [============================>.] - ETA: 0s - loss: 0.0126 - mse: 0.0126\n",
            "Epoch 00075: val_mse did not improve from 0.01230\n",
            "152/152 [==============================] - 2s 11ms/step - loss: 0.0127 - mse: 0.0127 - val_loss: 0.0174 - val_mse: 0.0174\n",
            "Epoch 76/100\n",
            "149/152 [============================>.] - ETA: 0s - loss: 0.0135 - mse: 0.0135\n",
            "Epoch 00076: val_mse did not improve from 0.01230\n",
            "152/152 [==============================] - 2s 11ms/step - loss: 0.0134 - mse: 0.0134 - val_loss: 0.0141 - val_mse: 0.0141\n",
            "Epoch 77/100\n",
            "148/152 [============================>.] - ETA: 0s - loss: 0.0124 - mse: 0.0124\n",
            "Epoch 00077: val_mse did not improve from 0.01230\n",
            "152/152 [==============================] - 2s 11ms/step - loss: 0.0124 - mse: 0.0124 - val_loss: 0.0143 - val_mse: 0.0143\n",
            "Epoch 78/100\n",
            "152/152 [==============================] - ETA: 0s - loss: 0.0125 - mse: 0.0125\n",
            "Epoch 00078: val_mse did not improve from 0.01230\n",
            "152/152 [==============================] - 2s 11ms/step - loss: 0.0125 - mse: 0.0125 - val_loss: 0.0160 - val_mse: 0.0160\n",
            "Epoch 79/100\n",
            "148/152 [============================>.] - ETA: 0s - loss: 0.0124 - mse: 0.0124\n",
            "Epoch 00079: val_mse did not improve from 0.01230\n",
            "152/152 [==============================] - 2s 11ms/step - loss: 0.0125 - mse: 0.0125 - val_loss: 0.0127 - val_mse: 0.0127\n",
            "Epoch 80/100\n",
            "149/152 [============================>.] - ETA: 0s - loss: 0.0124 - mse: 0.0124\n",
            "Epoch 00080: val_mse did not improve from 0.01230\n",
            "152/152 [==============================] - 2s 12ms/step - loss: 0.0124 - mse: 0.0124 - val_loss: 0.0130 - val_mse: 0.0130\n",
            "Epoch 81/100\n",
            "149/152 [============================>.] - ETA: 0s - loss: 0.0126 - mse: 0.0126\n",
            "Epoch 00081: val_mse did not improve from 0.01230\n",
            "152/152 [==============================] - 2s 11ms/step - loss: 0.0126 - mse: 0.0126 - val_loss: 0.0144 - val_mse: 0.0144\n",
            "Epoch 82/100\n",
            "148/152 [============================>.] - ETA: 0s - loss: 0.0121 - mse: 0.0121\n",
            "Epoch 00082: val_mse did not improve from 0.01230\n",
            "152/152 [==============================] - 2s 11ms/step - loss: 0.0121 - mse: 0.0121 - val_loss: 0.0131 - val_mse: 0.0131\n",
            "Epoch 83/100\n",
            "151/152 [============================>.] - ETA: 0s - loss: 0.0123 - mse: 0.0123\n",
            "Epoch 00083: val_mse improved from 0.01230 to 0.01221, saving model to weights.best.hdf5\n",
            "152/152 [==============================] - 2s 11ms/step - loss: 0.0123 - mse: 0.0123 - val_loss: 0.0122 - val_mse: 0.0122\n",
            "Epoch 84/100\n",
            "150/152 [============================>.] - ETA: 0s - loss: 0.0120 - mse: 0.0120\n",
            "Epoch 00084: val_mse did not improve from 0.01221\n",
            "152/152 [==============================] - 2s 11ms/step - loss: 0.0120 - mse: 0.0120 - val_loss: 0.0136 - val_mse: 0.0136\n",
            "Epoch 85/100\n",
            "150/152 [============================>.] - ETA: 0s - loss: 0.0126 - mse: 0.0126\n",
            "Epoch 00085: val_mse did not improve from 0.01221\n",
            "152/152 [==============================] - 2s 11ms/step - loss: 0.0125 - mse: 0.0125 - val_loss: 0.0127 - val_mse: 0.0127\n",
            "Epoch 86/100\n",
            "150/152 [============================>.] - ETA: 0s - loss: 0.0125 - mse: 0.0125\n",
            "Epoch 00086: val_mse did not improve from 0.01221\n",
            "152/152 [==============================] - 2s 11ms/step - loss: 0.0125 - mse: 0.0125 - val_loss: 0.0126 - val_mse: 0.0126\n",
            "Epoch 87/100\n",
            "149/152 [============================>.] - ETA: 0s - loss: 0.0122 - mse: 0.0122\n",
            "Epoch 00087: val_mse did not improve from 0.01221\n",
            "152/152 [==============================] - 2s 11ms/step - loss: 0.0122 - mse: 0.0122 - val_loss: 0.0129 - val_mse: 0.0129\n",
            "Epoch 88/100\n",
            "148/152 [============================>.] - ETA: 0s - loss: 0.0120 - mse: 0.0120\n",
            "Epoch 00088: val_mse did not improve from 0.01221\n",
            "152/152 [==============================] - 2s 11ms/step - loss: 0.0120 - mse: 0.0120 - val_loss: 0.0128 - val_mse: 0.0128\n",
            "Epoch 89/100\n",
            "147/152 [============================>.] - ETA: 0s - loss: 0.0123 - mse: 0.0123\n",
            "Epoch 00089: val_mse did not improve from 0.01221\n",
            "152/152 [==============================] - 2s 11ms/step - loss: 0.0123 - mse: 0.0123 - val_loss: 0.0136 - val_mse: 0.0136\n",
            "Epoch 90/100\n",
            "148/152 [============================>.] - ETA: 0s - loss: 0.0122 - mse: 0.0122\n",
            "Epoch 00090: val_mse did not improve from 0.01221\n",
            "152/152 [==============================] - 2s 12ms/step - loss: 0.0121 - mse: 0.0121 - val_loss: 0.0128 - val_mse: 0.0128\n",
            "Epoch 91/100\n",
            "149/152 [============================>.] - ETA: 0s - loss: 0.0117 - mse: 0.0117\n",
            "Epoch 00091: val_mse did not improve from 0.01221\n",
            "152/152 [==============================] - 2s 11ms/step - loss: 0.0117 - mse: 0.0117 - val_loss: 0.0141 - val_mse: 0.0141\n",
            "Epoch 92/100\n",
            "149/152 [============================>.] - ETA: 0s - loss: 0.0151 - mse: 0.0151\n",
            "Epoch 00092: val_mse did not improve from 0.01221\n",
            "152/152 [==============================] - 2s 12ms/step - loss: 0.0151 - mse: 0.0151 - val_loss: 0.0145 - val_mse: 0.0145\n",
            "Epoch 93/100\n",
            "149/152 [============================>.] - ETA: 0s - loss: 0.0131 - mse: 0.0131\n",
            "Epoch 00093: val_mse did not improve from 0.01221\n",
            "152/152 [==============================] - 2s 12ms/step - loss: 0.0131 - mse: 0.0131 - val_loss: 0.0131 - val_mse: 0.0131\n",
            "Epoch 94/100\n",
            "151/152 [============================>.] - ETA: 0s - loss: 0.0119 - mse: 0.0119\n",
            "Epoch 00094: val_mse did not improve from 0.01221\n",
            "152/152 [==============================] - 2s 12ms/step - loss: 0.0118 - mse: 0.0118 - val_loss: 0.0138 - val_mse: 0.0138\n",
            "Epoch 95/100\n",
            "147/152 [============================>.] - ETA: 0s - loss: 0.0118 - mse: 0.0118\n",
            "Epoch 00095: val_mse did not improve from 0.01221\n",
            "152/152 [==============================] - 2s 12ms/step - loss: 0.0119 - mse: 0.0119 - val_loss: 0.0127 - val_mse: 0.0127\n",
            "Epoch 96/100\n",
            "146/152 [===========================>..] - ETA: 0s - loss: 0.0119 - mse: 0.0119\n",
            "Epoch 00096: val_mse did not improve from 0.01221\n",
            "152/152 [==============================] - 2s 11ms/step - loss: 0.0117 - mse: 0.0117 - val_loss: 0.0127 - val_mse: 0.0127\n",
            "Epoch 97/100\n",
            "149/152 [============================>.] - ETA: 0s - loss: 0.0121 - mse: 0.0121\n",
            "Epoch 00097: val_mse did not improve from 0.01221\n",
            "152/152 [==============================] - 2s 11ms/step - loss: 0.0121 - mse: 0.0121 - val_loss: 0.0128 - val_mse: 0.0128\n",
            "Epoch 98/100\n",
            "147/152 [============================>.] - ETA: 0s - loss: 0.0118 - mse: 0.0118\n",
            "Epoch 00098: val_mse did not improve from 0.01221\n",
            "152/152 [==============================] - 2s 11ms/step - loss: 0.0121 - mse: 0.0121 - val_loss: 0.0163 - val_mse: 0.0163\n",
            "Epoch 99/100\n",
            "148/152 [============================>.] - ETA: 0s - loss: 0.0122 - mse: 0.0122\n",
            "Epoch 00099: val_mse did not improve from 0.01221\n",
            "152/152 [==============================] - 2s 11ms/step - loss: 0.0123 - mse: 0.0123 - val_loss: 0.0125 - val_mse: 0.0125\n",
            "Epoch 100/100\n",
            "152/152 [==============================] - ETA: 0s - loss: 0.0127 - mse: 0.0127\n",
            "Epoch 00100: val_mse did not improve from 0.01221\n",
            "152/152 [==============================] - 2s 11ms/step - loss: 0.0127 - mse: 0.0127 - val_loss: 0.0127 - val_mse: 0.0127\n"
          ],
          "name": "stdout"
        }
      ]
    },
    {
      "cell_type": "code",
      "metadata": {
        "colab": {
          "base_uri": "https://localhost:8080/",
          "height": 295
        },
        "id": "9cU9LBuul4n3",
        "outputId": "1ff2ada2-1db5-4e3d-9221-bf637302471c"
      },
      "source": [
        "plt.plot(history.history['loss'][:100])\n",
        "plt.plot(history.history['val_loss'][:100])\n",
        "plt.title('model loss')\n",
        "plt.ylabel('loss')\n",
        "plt.xlabel('epoch')\n",
        "plt.legend(['train', 'test'], loc='upper left')\n",
        "plt.show()"
      ],
      "execution_count": 11,
      "outputs": [
        {
          "output_type": "display_data",
          "data": {
            "image/png": "[encoded data removed]",
            "text/plain": [
              "<Figure size 432x288 with 1 Axes>"
            ]
          },
          "metadata": {
            "tags": [],
            "needs_background": "light"
          }
        }
      ]
    },
    {
      "cell_type": "code",
      "metadata": {
        "id": "VLTjekyuw21M"
      },
      "source": [
        "import keras\n",
        "model = keras.models.load_model('weights.best.hdf5')\n",
        "y_pred = []\n",
        "# for x_test in X_test:\n",
        "#   y_pred.append(model.predict(X_test))\n",
        "# y_pred\n",
        "\n",
        "y_pred = model.predict(X_test, batch_size=8)"
      ],
      "execution_count": 17,
      "outputs": []
    },
    {
      "cell_type": "code",
      "metadata": {
        "id": "gBTzpPqpyfqw",
        "outputId": "cf871db1-117d-4616-e9e9-e07a2404c7e0",
        "colab": {
          "base_uri": "https://localhost:8080/",
          "height": 283
        }
      },
      "source": [
        "plt.scatter(y_test, y_pred)"
      ],
      "execution_count": 24,
      "outputs": [
        {
          "output_type": "execute_result",
          "data": {
            "text/plain": [
              "<matplotlib.collections.PathCollection at 0x7fd52b58e048>"
            ]
          },
          "metadata": {
            "tags": []
          },
          "execution_count": 24
        },
        {
          "output_type": "display_data",
          "data": {
            "image/png": "[encoded data removed]",
            "text/plain": [
              "<Figure size 432x288 with 1 Axes>"
            ]
          },
          "metadata": {
            "tags": [],
            "needs_background": "light"
          }
        }
      ]
    }
  ]
}