{
  "nbformat": 4,
  "nbformat_minor": 0,
  "metadata": {
    "colab": {
      "name": "王兴睿-2017201690-DL-W03.ipynb",
      "provenance": [],
      "authorship_tag": "ABX9TyM/j7RHCW8xOObIky9Br+Q9",
      "include_colab_link": true
    },
    "kernelspec": {
      "name": "python3",
      "display_name": "Python 3"
    },
    "accelerator": "GPU"
  },
  "cells": [
    {
      "cell_type": "markdown",
      "metadata": {
        "id": "view-in-github",
        "colab_type": "text"
      },
      "source": [
        "<a href=\"https://colab.research.google.com/github/XingruiWang/RUC-Deep-Learning-Course/blob/master/Homework/HW_3/%E7%8E%8B%E5%85%B4%E7%9D%BF_2017201690_DL_W03.ipynb\" target=\"_parent\"><img src=\"https://colab.research.google.com/assets/colab-badge.svg\" alt=\"Open In Colab\"/></a>"
      ]
    },
    {
      "cell_type": "code",
      "metadata": {
        "id": "5oLzDmv9LpZy",
        "outputId": "0c2b615d-6bbb-484a-e0f5-82a0e9a1b0d1",
        "colab": {
          "base_uri": "https://localhost:8080/"
        }
      },
      "source": [
        "from google.colab import drive\n",
        "drive.mount('/content/gdrive')\n",
        "%cd /content/gdrive/My\\ Drive/RUC/DeepLearning/course7\n",
        "!ls"
      ],
      "execution_count": 1,
      "outputs": [
        {
          "output_type": "stream",
          "text": [
            "Mounted at /content/gdrive\n",
            "/content/gdrive/My Drive/RUC/DeepLearning/course7\n",
            "data_facescore\tdata_foodscore\tFoodScore.csv  程序\n"
          ],
          "name": "stdout"
        }
      ]
    }
  ]
}