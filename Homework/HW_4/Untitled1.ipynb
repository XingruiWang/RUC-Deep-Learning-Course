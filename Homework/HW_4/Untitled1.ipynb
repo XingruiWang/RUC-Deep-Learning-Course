{
  "nbformat": 4,
  "nbformat_minor": 0,
  "metadata": {
    "colab": {
      "name": "Untitled1.ipynb",
      "provenance": [],
      "authorship_tag": "ABX9TyMaWtfoZDJuGH6QqKEhvthH",
      "include_colab_link": true
    },
    "kernelspec": {
      "name": "python3",
      "display_name": "Python 3"
    },
    "accelerator": "GPU"
  },
  "cells": [
    {
      "cell_type": "markdown",
      "metadata": {
        "id": "view-in-github",
        "colab_type": "text"
      },
      "source": [
        "<a href=\"https://colab.research.google.com/github/XingruiWang/RUC-Deep-Learning-Course/blob/master/Homework/HW_4/Untitled1.ipynb\" target=\"_parent\"><img src=\"https://colab.research.google.com/assets/colab-badge.svg\" alt=\"Open In Colab\"/></a>"
      ]
    },
    {
      "cell_type": "markdown",
      "metadata": {
        "id": "yAD79lKDIVQw"
      },
      "source": [
        "# Homework 4: Comparison between Different Optimizers"
      ]
    },
    {
      "cell_type": "code",
      "metadata": {
        "id": "2XsH6fC-Hv0I",
        "outputId": "d242e165-7814-400f-c294-f3cbb3d929df",
        "colab": {
          "base_uri": "https://localhost:8080/",
          "height": 69
        }
      },
      "source": [
        "from google.colab import drive\n",
        "drive.mount('/content/gdrive')\n",
        "%cd /content/gdrive/My\\ Drive/RUC/DeepLearning/course7\n",
        "!ls"
      ],
      "execution_count": 48,
      "outputs": [
        {
          "output_type": "stream",
          "text": [
            "Drive already mounted at /content/gdrive; to attempt to forcibly remount, call drive.mount(\"/content/gdrive\", force_remount=True).\n",
            "/content/gdrive/My Drive/RUC/DeepLearning/course7\n",
            "data_facescore\tdata_foodscore\tFoodScore.csv  程序\n"
          ],
          "name": "stdout"
        }
      ]
    },
    {
      "cell_type": "markdown",
      "metadata": {
        "id": "HDZrYqTbIJ2R"
      },
      "source": [
        "### 一、载入函数包"
      ]
    },
    {
      "cell_type": "code",
      "metadata": {
        "id": "SAmj28XAH8wD"
      },
      "source": [
        "import numpy as np\n",
        "import matplotlib.pyplot as plt\n",
        "\n",
        "import tensorflow as tf\n",
        "from keras import Model, Input\n",
        "from keras.layers import Dense,Flatten,Input\n",
        "from keras.optimizers import SGD,RMSprop,Adam\n",
        "\n",
        "from keras.utils import to_categorical "
      ],
      "execution_count": 49,
      "outputs": []
    },
    {
      "cell_type": "code",
      "metadata": {
        "id": "Y8LDwgj5IvkF",
        "outputId": "6ed4582d-db35-4950-a9aa-7db39ca749f6",
        "colab": {
          "base_uri": "https://localhost:8080/",
          "height": 52
        }
      },
      "source": [
        "## loading mnist dataset\n",
        "mnist = tf.keras.datasets.mnist\n",
        "(X_train, y_train), (X_test, y_test) = mnist.load_data() \n",
        "\n",
        "## One-hot encode y label\n",
        "Y_train=to_categorical(y_train)\n",
        "Y_test=to_categorical(y_test)\n",
        "\n",
        "print(Y_train.shape) # 60000 * 10. 60000 means the amount of data, 10 means 10 classes of number in dataset.\n",
        "print(Y_train[0]) # [0. 0. 0. 0. 0. 1. 0. 0. 0. 0.] means number 5"
      ],
      "execution_count": 50,
      "outputs": [
        {
          "output_type": "stream",
          "text": [
            "(60000, 10)\n",
            "[0. 0. 0. 0. 0. 1. 0. 0. 0. 0.]\n"
          ],
          "name": "stdout"
        }
      ]
    },
    {
      "cell_type": "markdown",
      "metadata": {
        "id": "mYlRvV9cKKDl"
      },
      "source": [
        "### 二、使用Keras搭建模型"
      ]
    },
    {
      "cell_type": "markdown",
      "metadata": {
        "id": "vALzfTkqNBML"
      },
      "source": [
        "定义`NewModel()`函数，每次调用可以返回新的**初始化模型**"
      ]
    },
    {
      "cell_type": "code",
      "metadata": {
        "id": "1t01y8pDKF0N"
      },
      "source": [
        "def NewModel(IMSIZE = 28, p = 1000, q = 10):  \n",
        "    '''\n",
        "    Description: Define the model\n",
        "    ----------------------\n",
        "    Args:\n",
        "        IMSIZE: the size of input image, the width and height are same here.\n",
        "        p: the number of neurons in first hidden layer, defult value is 1000\n",
        "        q: the number of neurons in output layer，defult value is 10 since there are 10 classes.\n",
        "    ----------------------\n",
        "    return:\n",
        "        model: the keras model\n",
        "    ----------------------\n",
        "    Usages:\n",
        "    >>> model = NNModel(28, 1000, 10)\n",
        "\n",
        "    '''                                            \n",
        "    input_layer = Input([IMSIZE,IMSIZE])         # the size of a MNIST image is 28 * 28 * 1\n",
        "    x = input_layer                              \n",
        "    x = Flatten()(input_layer)                   # flatten the Tensor (28*28*1) to a vetor (784 * 1)\n",
        "    x = Dense(1000,activation = 'relu')(x)       # hidden layer: fully connection (1000 neurons) + relu\n",
        "    x = Dense(10,activation = 'softmax')(x)      # output layer，fully connection (10 neurons) + softmax, output value range from 0 to 1\n",
        "    output_layer = x\n",
        "    model=Model(input_layer,output_layer)        # connect the input layer, hidden layer and output layer.\n",
        "    model.summary()\n",
        "    return model"
      ],
      "execution_count": 51,
      "outputs": []
    },
    {
      "cell_type": "markdown",
      "metadata": {
        "id": "5L0dZ5T7WoNe"
      },
      "source": [
        "定义`Momentum()`函数，因为keras中Momentum是用`SGD`函数实现的，为了方便循环可以重新定义"
      ]
    },
    {
      "cell_type": "code",
      "metadata": {
        "id": "4Y_0_8g6WVCi"
      },
      "source": [
        "def Momentum(lr, momentum = 0.5):\n",
        "    '''\n",
        "    Momentum optimizer, defined by keras.optimizers.SGD() function with the parameter `momentum > 0`\n",
        "    '''\n",
        "    return SGD(lr = lr, momentum = momentum)\n"
      ],
      "execution_count": 52,
      "outputs": []
    },
    {
      "cell_type": "markdown",
      "metadata": {
        "id": "bRwbKnZnW9Lp"
      },
      "source": [
        "定义`train()`函数，用来训练搭建好的模型。在`train()`函数中，**传入参数**为模型、数据集、超参数，**返回值**为训练好的模型`model` 和 `loss`"
      ]
    },
    {
      "cell_type": "code",
      "metadata": {
        "id": "5M8gjIf9QATK"
      },
      "source": [
        "def train(model, X_train, X_test, y_train, y_test,\n",
        "            batch_size = 128, epochs = 50,\n",
        "            opt = SGD, lr = 0.001, \n",
        "            loss_type = \"categorical_crossentropy\",\n",
        "            metrics = ['accuracy']):\n",
        "    '''\n",
        "    Desctiption: Training function. Compile the model with different optimizers\n",
        "    ------------------------------------------------\n",
        "    Parameter:\n",
        "        model: keras Model\n",
        "        X_train, X_test, y_train, y_test: <numpy.array> training set and validation set, \n",
        "        batch_size: <int> batch size, defualt value is 128\n",
        "        epochs: <int> maximum epochs of training, defualt value is 50\n",
        "        opt: optimizer function, e.g. keras.optimizers.SGD\n",
        "        lr: learning rate, default value is 0.001\n",
        "        loss_type: <string> the name of loss function, for the classification task here, default value is 'categorical_crossentropy'\n",
        "        metrics: <string> the name of matric, for the classification task here, default value is 'accuracy'\n",
        "    -------------------------------------------------\n",
        "    return:\n",
        "        model:     |        | the keras model\n",
        "        train_loss | <list> | loss in training of each epoch\n",
        "        val_loss   | <list> | loss in validation of each epoch\n",
        "        train_auc  | <list> | AUC in training of each epoch\n",
        "        val_auc    | <list> | AUC in validation of each epoch\n",
        "    ----------------------------------------------------\n",
        "    Usage:\n",
        "    >>> model, loss = train(model,  X_train, X_test, Y_train, Y_test, opt = eval(optimizors[i]))\n",
        "    >>> print(loss['train_loss'], loss['val_loss'], loss['accuracy'], loss['val_accuracy'])\n",
        "    '''\n",
        "\n",
        "    model.compile(loss = loss_type, optimizer = opt(lr = lr), metrics = metrics)\n",
        "    history = model.fit(X_train, Y_train, validation_data = (X_test, Y_test), batch_size = batch_size, epochs = epochs, verbose = 2)\n",
        "    \n",
        "    train_loss = history.history[\"loss\"]\n",
        "    val_loss = history.history[\"val_loss\"]\n",
        "    train_auc = history.history[\"accuracy\"]\n",
        "    val_auc = history.history[\"val_accuracy\"]\n",
        "\n",
        "    return model, {\"loss\": train_loss, \"val_loss\": val_loss, \"accuracy\": train_auc, \"val_accuracy\": val_auc}"
      ],
      "execution_count": 53,
      "outputs": []
    },
    {
      "cell_type": "markdown",
      "metadata": {
        "id": "jgGqribYXZEf"
      },
      "source": [
        "定义函数`render_loss`，将四组`loss`画成**折线图**"
      ]
    },
    {
      "cell_type": "code",
      "metadata": {
        "id": "rJWwcbWISCnk"
      },
      "source": [
        "def render_loss(losses, name):\n",
        "    t = np.arange(len(losses[0]))\n",
        "    for i, loss in enumerate(losses):\n",
        "        print(i, loss)\n",
        "        plt.plot(t, loss, label = name[i])\n",
        "    plt.xlabel('Epochs')\n",
        "    plt.ylabel('loss') \n",
        "    plt.show()"
      ],
      "execution_count": 54,
      "outputs": []
    },
    {
      "cell_type": "markdown",
      "metadata": {
        "id": "Qj8mhPzJXpdl"
      },
      "source": [
        "### 三、正式训练"
      ]
    },
    {
      "cell_type": "markdown",
      "metadata": {
        "id": "DBqEKFc9XxAJ"
      },
      "source": [
        "* optimizers 是四个优化器的名称，**和函数名一致**\n",
        "\n",
        "* 每一个循环中都会先**初始化新的模型**`model`，之后在`train()`中设定**不同的优化器**\n",
        "\n",
        "* `eval()`函数可以把**优化器名称**转化为**优化器函数**"
      ]
    },
    {
      "cell_type": "code",
      "metadata": {
        "id": "0faVky43T0QI",
        "outputId": "bbffe467-f144-4041-b308-5e1a63a3eed7",
        "colab": {
          "base_uri": "https://localhost:8080/",
          "height": 849
        }
      },
      "source": [
        "optimizers = [\"SGD\", \"Momentum\", \"RMSprop\", \"Adam\"]\n",
        "losses = [None] * 4\n",
        "\n",
        "for i, opt in enumerate(optimizors):\n",
        "    print(\"=====================================\\n Training %s \\n\"%(opt))\n",
        "    model = NewModel()\n",
        "    model, loss = train(model,  X_train, X_test, Y_train, Y_test, opt = eval(optimizers[i]))\n",
        "    losses[i] = loss['loss']"
      ],
      "execution_count": null,
      "outputs": [
        {
          "output_type": "stream",
          "text": [
            "=====================================\n",
            " Training SGD \n",
            "\n",
            "Model: \"functional_53\"\n",
            "_________________________________________________________________\n",
            "Layer (type)                 Output Shape              Param #   \n",
            "=================================================================\n",
            "input_27 (InputLayer)        [(None, 28, 28)]          0         \n",
            "_________________________________________________________________\n",
            "flatten_26 (Flatten)         (None, 784)               0         \n",
            "_________________________________________________________________\n",
            "dense_52 (Dense)             (None, 1000)              785000    \n",
            "_________________________________________________________________\n",
            "dense_53 (Dense)             (None, 10)                10010     \n",
            "=================================================================\n",
            "Total params: 795,010\n",
            "Trainable params: 795,010\n",
            "Non-trainable params: 0\n",
            "_________________________________________________________________\n",
            "Epoch 1/50\n",
            "469/469 - 1s - loss: 4.9862 - accuracy: 0.9005 - val_loss: 1.0670 - val_accuracy: 0.9300\n",
            "Epoch 2/50\n",
            "469/469 - 1s - loss: 0.5274 - accuracy: 0.9563 - val_loss: 0.7322 - val_accuracy: 0.9447\n",
            "Epoch 3/50\n",
            "469/469 - 1s - loss: 0.2582 - accuracy: 0.9712 - val_loss: 0.6339 - val_accuracy: 0.9510\n",
            "Epoch 4/50\n",
            "469/469 - 1s - loss: 0.1279 - accuracy: 0.9813 - val_loss: 0.5873 - val_accuracy: 0.9517\n",
            "Epoch 5/50\n",
            "469/469 - 1s - loss: 0.0655 - accuracy: 0.9885 - val_loss: 0.5707 - val_accuracy: 0.9541\n",
            "Epoch 6/50\n",
            "469/469 - 1s - loss: 0.0303 - accuracy: 0.9938 - val_loss: 0.5567 - val_accuracy: 0.9542\n",
            "Epoch 7/50\n",
            "469/469 - 1s - loss: 0.0143 - accuracy: 0.9970 - val_loss: 0.5340 - val_accuracy: 0.9554\n",
            "Epoch 8/50\n",
            "469/469 - 1s - loss: 0.0067 - accuracy: 0.9984 - val_loss: 0.5366 - val_accuracy: 0.9557\n",
            "Epoch 9/50\n",
            "469/469 - 1s - loss: 0.0026 - accuracy: 0.9995 - val_loss: 0.5335 - val_accuracy: 0.9553\n",
            "Epoch 10/50\n",
            "469/469 - 1s - loss: 0.0010 - accuracy: 0.9999 - val_loss: 0.5324 - val_accuracy: 0.9558\n",
            "Epoch 11/50\n",
            "469/469 - 1s - loss: 5.3777e-04 - accuracy: 0.9999 - val_loss: 0.5322 - val_accuracy: 0.9563\n",
            "Epoch 12/50\n",
            "469/469 - 1s - loss: 3.0272e-04 - accuracy: 1.0000 - val_loss: 0.5318 - val_accuracy: 0.9565\n",
            "Epoch 13/50\n",
            "469/469 - 1s - loss: 2.5306e-04 - accuracy: 1.0000 - val_loss: 0.5308 - val_accuracy: 0.9570\n",
            "Epoch 14/50\n",
            "469/469 - 1s - loss: 2.2715e-04 - accuracy: 1.0000 - val_loss: 0.5311 - val_accuracy: 0.9567\n",
            "Epoch 15/50\n"
          ],
          "name": "stdout"
        }
      ]
    },
    {
      "cell_type": "markdown",
      "metadata": {
        "id": "6LCiRcs3YQK9"
      },
      "source": [
        "画图"
      ]
    },
    {
      "cell_type": "code",
      "metadata": {
        "id": "y4Cg5CRbXBAd"
      },
      "source": [
        "render_loss(losses, optimizers)"
      ],
      "execution_count": null,
      "outputs": []
    }
  ]
}