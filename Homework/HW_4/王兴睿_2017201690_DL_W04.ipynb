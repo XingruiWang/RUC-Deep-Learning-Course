{
  "nbformat": 4,
  "nbformat_minor": 0,
  "metadata": {
    "colab": {
      "name": "Untitled1.ipynb",
      "provenance": [],
      "authorship_tag": "ABX9TyO+/eu0gWZtsDQeFYEbNwpy",
      "include_colab_link": true
    },
    "kernelspec": {
      "name": "python3",
      "display_name": "Python 3"
    },
    "accelerator": "GPU"
  },
  "cells": [
    {
      "cell_type": "markdown",
      "metadata": {
        "id": "view-in-github",
        "colab_type": "text"
      },
      "source": [
        "<a href=\"https://colab.research.google.com/github/XingruiWang/RUC-Deep-Learning-Course/blob/master/Homework/HW_4/%E7%8E%8B%E5%85%B4%E7%9D%BF_2017201690_DL_W04.ipynb\" target=\"_parent\"><img src=\"https://colab.research.google.com/assets/colab-badge.svg\" alt=\"Open In Colab\"/></a>"
      ]
    },
    {
      "cell_type": "markdown",
      "metadata": {
        "id": "yAD79lKDIVQw"
      },
      "source": [
        "# Homework 4: Comparison between Different Optimizers"
      ]
    },
    {
      "cell_type": "code",
      "metadata": {
        "id": "2XsH6fC-Hv0I",
        "outputId": "d242e165-7814-400f-c294-f3cbb3d929df",
        "colab": {
          "base_uri": "https://localhost:8080/",
          "height": 69
        }
      },
      "source": [
        "from google.colab import drive\n",
        "drive.mount('/content/gdrive')\n",
        "%cd /content/gdrive/My\\ Drive/RUC/DeepLearning/course7\n",
        "!ls"
      ],
      "execution_count": null,
      "outputs": [
        {
          "output_type": "stream",
          "text": [
            "Drive already mounted at /content/gdrive; to attempt to forcibly remount, call drive.mount(\"/content/gdrive\", force_remount=True).\n",
            "/content/gdrive/My Drive/RUC/DeepLearning/course7\n",
            "data_facescore\tdata_foodscore\tFoodScore.csv  程序\n"
          ],
          "name": "stdout"
        }
      ]
    },
    {
      "cell_type": "markdown",
      "metadata": {
        "id": "HDZrYqTbIJ2R"
      },
      "source": [
        "### 一、载入函数包"
      ]
    },
    {
      "cell_type": "code",
      "metadata": {
        "id": "SAmj28XAH8wD"
      },
      "source": [
        "import numpy as np\n",
        "import matplotlib.pyplot as plt\n",
        "\n",
        "import tensorflow as tf\n",
        "from keras import Model, Input\n",
        "from keras.layers import Dense,Flatten,Input\n",
        "from keras.optimizers import SGD,RMSprop,Adam\n",
        "\n",
        "from keras.utils import to_categorical "
      ],
      "execution_count": null,
      "outputs": []
    },
    {
      "cell_type": "code",
      "metadata": {
        "id": "Y8LDwgj5IvkF",
        "outputId": "6ed4582d-db35-4950-a9aa-7db39ca749f6",
        "colab": {
          "base_uri": "https://localhost:8080/",
          "height": 52
        }
      },
      "source": [
        "## loading mnist dataset\n",
        "mnist = tf.keras.datasets.mnist\n",
        "(X_train, y_train), (X_test, y_test) = mnist.load_data() \n",
        "\n",
        "## One-hot encode y label\n",
        "Y_train=to_categorical(y_train)\n",
        "Y_test=to_categorical(y_test)\n",
        "\n",
        "print(Y_train.shape) # 60000 * 10. 60000 means the amount of data, 10 means 10 classes of number in dataset.\n",
        "print(Y_train[0]) # [0. 0. 0. 0. 0. 1. 0. 0. 0. 0.] means number 5"
      ],
      "execution_count": null,
      "outputs": [
        {
          "output_type": "stream",
          "text": [
            "(60000, 10)\n",
            "[0. 0. 0. 0. 0. 1. 0. 0. 0. 0.]\n"
          ],
          "name": "stdout"
        }
      ]
    },
    {
      "cell_type": "markdown",
      "metadata": {
        "id": "mYlRvV9cKKDl"
      },
      "source": [
        "### 二、使用Keras搭建模型"
      ]
    },
    {
      "cell_type": "markdown",
      "metadata": {
        "id": "vALzfTkqNBML"
      },
      "source": [
        "* 定义`NewModel()`函数，每次调用可以返回新的**初始化模型**"
      ]
    },
    {
      "cell_type": "code",
      "metadata": {
        "id": "1t01y8pDKF0N"
      },
      "source": [
        "def NewModel(IMSIZE = 28, p = 1000, q = 10):  \n",
        "    '''\n",
        "    Description: Define the model\n",
        "    ----------------------\n",
        "    Args:\n",
        "        IMSIZE: the size of input image, the width and height are same here.\n",
        "        p: the number of neurons in first hidden layer, defult value is 1000\n",
        "        q: the number of neurons in output layer，defult value is 10 since there are 10 classes.\n",
        "    ----------------------\n",
        "    return:\n",
        "        model: the keras model\n",
        "    ----------------------\n",
        "    Usages:\n",
        "    >>> model = NNModel(28, 1000, 10)\n",
        "\n",
        "    '''                                            \n",
        "    input_layer = Input([IMSIZE,IMSIZE])         # the size of a MNIST image is 28 * 28 * 1\n",
        "    x = input_layer                              \n",
        "    x = Flatten()(input_layer)                   # flatten the Tensor (28*28*1) to a vetor (784 * 1)\n",
        "    x = Dense(1000, activation = 'relu')(x)       # hidden layer: fully connection (1000 neurons) + relu\n",
        "    x = Dense(10, activation = 'softmax')(x)      # output layer，fully connection (10 neurons) + softmax, output value range from 0 to 1\n",
        "    output_layer = x\n",
        "    model=Model(input_layer,output_layer)        # connect the input layer, hidden layer and output layer.\n",
        "    model.summary()\n",
        "    return model"
      ],
      "execution_count": null,
      "outputs": []
    },
    {
      "cell_type": "markdown",
      "metadata": {
        "id": "5L0dZ5T7WoNe"
      },
      "source": [
        "* 定义`Momentum()`函数，因为keras中Momentum是用`SGD`函数实现的，为了方便循环可以重新定义"
      ]
    },
    {
      "cell_type": "code",
      "metadata": {
        "id": "4Y_0_8g6WVCi"
      },
      "source": [
        "def Momentum(lr, momentum = 0.5):\n",
        "    '''\n",
        "    Momentum optimizer, defined by keras.optimizers.SGD() function with the parameter `momentum > 0`\n",
        "    '''\n",
        "    return SGD(lr = lr, momentum = momentum)\n"
      ],
      "execution_count": null,
      "outputs": []
    },
    {
      "cell_type": "markdown",
      "metadata": {
        "id": "bRwbKnZnW9Lp"
      },
      "source": [
        "* 定义`train()`函数，用来训练搭建好的模型。在`train()`函数中，**传入参数**为模型、数据集、超参数，**返回值**为训练好的模型`model` 和 `loss`"
      ]
    },
    {
      "cell_type": "code",
      "metadata": {
        "id": "5M8gjIf9QATK"
      },
      "source": [
        "def train(model, X_train, X_test, y_train, y_test,\n",
        "            batch_size = 128, epochs = 50,\n",
        "            opt = SGD, lr = 0.001, \n",
        "            loss_type = \"categorical_crossentropy\",\n",
        "            metrics = ['accuracy']):\n",
        "    '''\n",
        "    Desctiption: Training function. Compile the model with different optimizers\n",
        "    ------------------------------------------------\n",
        "    Parameter:\n",
        "        model: keras Model\n",
        "        X_train, X_test, y_train, y_test: <numpy.array> training set and validation set, \n",
        "        batch_size: <int> batch size, defualt value is 128\n",
        "        epochs: <int> maximum epochs of training, defualt value is 50\n",
        "        opt: optimizer function, e.g. keras.optimizers.SGD\n",
        "        lr: learning rate, default value is 0.001\n",
        "        loss_type: <string> the name of loss function, for the classification task here, default value is 'categorical_crossentropy'\n",
        "        metrics: <string> the name of matric, for the classification task here, default value is 'accuracy'\n",
        "    -------------------------------------------------\n",
        "    return:\n",
        "        model:     |        | the keras model\n",
        "        train_loss | <list> | loss in training of each epoch\n",
        "        val_loss   | <list> | loss in validation of each epoch\n",
        "        train_auc  | <list> | AUC in training of each epoch\n",
        "        val_auc    | <list> | AUC in validation of each epoch\n",
        "    ----------------------------------------------------\n",
        "    Usage:\n",
        "    >>> model, loss = train(model,  X_train, X_test, Y_train, Y_test, opt = eval(optimizors[i]))\n",
        "    >>> print(loss['train_loss'], loss['val_loss'], loss['accuracy'], loss['val_accuracy'])\n",
        "    '''\n",
        "\n",
        "    model.compile(loss = loss_type, optimizer = opt(lr = lr), metrics = metrics)\n",
        "    history = model.fit(X_train, Y_train, validation_data = (X_test, Y_test), batch_size = batch_size, epochs = epochs, verbose = 2)\n",
        "    \n",
        "    train_loss = history.history[\"loss\"]\n",
        "    val_loss = history.history[\"val_loss\"]\n",
        "    train_auc = history.history[\"accuracy\"]\n",
        "    val_auc = history.history[\"val_accuracy\"]\n",
        "\n",
        "    return model, {\"loss\": train_loss, \"val_loss\": val_loss, \"accuracy\": train_auc, \"val_accuracy\": val_auc}"
      ],
      "execution_count": null,
      "outputs": []
    },
    {
      "cell_type": "markdown",
      "metadata": {
        "id": "jgGqribYXZEf"
      },
      "source": [
        "* 定义函数`render_loss`，将四组`loss`画成**折线图**"
      ]
    },
    {
      "cell_type": "code",
      "metadata": {
        "id": "rJWwcbWISCnk"
      },
      "source": [
        "def render_loss(losses, name):\n",
        "    t = np.arange(len(losses[0]['loss']))\n",
        "    fig, axs = plt.subplots(2, 2, figsize=(12, 8), sharex = True, sharey = \"row\")\n",
        "    axs = axs.flatten()\n",
        "    for i, loss in enumerate(losses): # [\"SGD\", \"Momentum\", \"RMSprop\", \"Adam\"]\n",
        "        for j, l in enumerate(loss): # [\"loss\", \"val_loss\", \"accuracy\", \"val_accuracy\"]\n",
        "            axs[j].plot(t, loss[l], label = name[i])\n",
        "            axs[j].set_title(l)\n",
        "    plt.xlabel('Epochs')\n",
        "    plt.ylabel('loss') \n",
        "    plt.legend()\n",
        "    plt.show()"
      ],
      "execution_count": null,
      "outputs": []
    },
    {
      "cell_type": "markdown",
      "metadata": {
        "id": "Qj8mhPzJXpdl"
      },
      "source": [
        "### 三、正式训练"
      ]
    },
    {
      "cell_type": "markdown",
      "metadata": {
        "id": "DBqEKFc9XxAJ"
      },
      "source": [
        "* optimizers 是四个优化器的名称，**和函数名一致**\n",
        "\n",
        "* 每一个循环中都会先**初始化新的模型**`model`，之后在`train()`中设定**不同的优化器**\n",
        "\n",
        "* `eval()`函数可以把**优化器名称**转化为**优化器函数**"
      ]
    },
    {
      "cell_type": "code",
      "metadata": {
        "id": "0faVky43T0QI",
        "outputId": "393deb09-8882-43de-fae1-9965e394ffbc",
        "colab": {
          "base_uri": "https://localhost:8080/",
          "height": 1000
        }
      },
      "source": [
        "optimizers = [\"SGD\", \"Momentum\", \"RMSprop\", \"Adam\"]\n",
        "losses = [None]*4\n",
        "\n",
        "for i, opt in enumerate(optimizors):\n",
        "    print(\"=====================================\\n Training %s \\n\"%(opt))\n",
        "    model = NewModel()\n",
        "    model, loss = train(model,  X_train, X_test, Y_train, Y_test, opt = eval(optimizers[i]))\n",
        "    losses[i] = loss"
      ],
      "execution_count": null,
      "outputs": [
        {
          "output_type": "stream",
          "text": [
            "=====================================\n",
            " Training SGD \n",
            "\n",
            "Model: \"functional_69\"\n",
            "_________________________________________________________________\n",
            "Layer (type)                 Output Shape              Param #   \n",
            "=================================================================\n",
            "input_35 (InputLayer)        [(None, 28, 28)]          0         \n",
            "_________________________________________________________________\n",
            "flatten_34 (Flatten)         (None, 784)               0         \n",
            "_________________________________________________________________\n",
            "dense_68 (Dense)             (None, 1000)              785000    \n",
            "_________________________________________________________________\n",
            "dense_69 (Dense)             (None, 10)                10010     \n",
            "=================================================================\n",
            "Total params: 795,010\n",
            "Trainable params: 795,010\n",
            "Non-trainable params: 0\n",
            "_________________________________________________________________\n",
            "Epoch 1/50\n",
            "469/469 - 1s - loss: 5.5322 - accuracy: 0.8977 - val_loss: 0.9741 - val_accuracy: 0.9334\n",
            "Epoch 2/50\n",
            "469/469 - 1s - loss: 0.5081 - accuracy: 0.9545 - val_loss: 0.7045 - val_accuracy: 0.9444\n",
            "Epoch 3/50\n",
            "469/469 - 1s - loss: 0.2450 - accuracy: 0.9707 - val_loss: 0.6095 - val_accuracy: 0.9515\n",
            "Epoch 4/50\n",
            "469/469 - 1s - loss: 0.1223 - accuracy: 0.9812 - val_loss: 0.5960 - val_accuracy: 0.9509\n",
            "Epoch 5/50\n",
            "469/469 - 1s - loss: 0.0679 - accuracy: 0.9873 - val_loss: 0.5585 - val_accuracy: 0.9522\n",
            "Epoch 6/50\n",
            "469/469 - 1s - loss: 0.0360 - accuracy: 0.9925 - val_loss: 0.5396 - val_accuracy: 0.9539\n",
            "Epoch 7/50\n",
            "469/469 - 1s - loss: 0.0163 - accuracy: 0.9959 - val_loss: 0.5344 - val_accuracy: 0.9549\n",
            "Epoch 8/50\n",
            "469/469 - 1s - loss: 0.0065 - accuracy: 0.9987 - val_loss: 0.5398 - val_accuracy: 0.9544\n",
            "Epoch 9/50\n",
            "469/469 - 1s - loss: 0.0031 - accuracy: 0.9993 - val_loss: 0.5409 - val_accuracy: 0.9537\n",
            "Epoch 10/50\n",
            "469/469 - 1s - loss: 0.0015 - accuracy: 0.9998 - val_loss: 0.5357 - val_accuracy: 0.9542\n",
            "Epoch 11/50\n",
            "469/469 - 1s - loss: 9.3416e-04 - accuracy: 0.9999 - val_loss: 0.5345 - val_accuracy: 0.9537\n",
            "Epoch 12/50\n",
            "469/469 - 1s - loss: 7.5345e-04 - accuracy: 0.9999 - val_loss: 0.5359 - val_accuracy: 0.9536\n",
            "Epoch 13/50\n",
            "469/469 - 1s - loss: 6.5329e-04 - accuracy: 1.0000 - val_loss: 0.5352 - val_accuracy: 0.9540\n",
            "Epoch 14/50\n",
            "469/469 - 1s - loss: 5.7672e-04 - accuracy: 1.0000 - val_loss: 0.5350 - val_accuracy: 0.9544\n",
            "Epoch 15/50\n",
            "469/469 - 1s - loss: 5.2195e-04 - accuracy: 1.0000 - val_loss: 0.5349 - val_accuracy: 0.9544\n",
            "Epoch 16/50\n",
            "469/469 - 1s - loss: 4.7935e-04 - accuracy: 1.0000 - val_loss: 0.5359 - val_accuracy: 0.9545\n",
            "Epoch 17/50\n",
            "469/469 - 1s - loss: 4.4307e-04 - accuracy: 1.0000 - val_loss: 0.5355 - val_accuracy: 0.9546\n",
            "Epoch 18/50\n",
            "469/469 - 1s - loss: 4.1302e-04 - accuracy: 1.0000 - val_loss: 0.5354 - val_accuracy: 0.9549\n",
            "Epoch 19/50\n",
            "469/469 - 1s - loss: 3.8630e-04 - accuracy: 1.0000 - val_loss: 0.5353 - val_accuracy: 0.9552\n",
            "Epoch 20/50\n",
            "469/469 - 1s - loss: 3.6639e-04 - accuracy: 1.0000 - val_loss: 0.5351 - val_accuracy: 0.9550\n",
            "Epoch 21/50\n",
            "469/469 - 1s - loss: 3.4715e-04 - accuracy: 1.0000 - val_loss: 0.5351 - val_accuracy: 0.9552\n",
            "Epoch 22/50\n",
            "469/469 - 1s - loss: 3.3059e-04 - accuracy: 1.0000 - val_loss: 0.5354 - val_accuracy: 0.9553\n",
            "Epoch 23/50\n",
            "469/469 - 1s - loss: 3.1420e-04 - accuracy: 1.0000 - val_loss: 0.5351 - val_accuracy: 0.9554\n",
            "Epoch 24/50\n",
            "469/469 - 1s - loss: 3.0076e-04 - accuracy: 1.0000 - val_loss: 0.5351 - val_accuracy: 0.9552\n",
            "Epoch 25/50\n",
            "469/469 - 1s - loss: 2.8880e-04 - accuracy: 1.0000 - val_loss: 0.5349 - val_accuracy: 0.9551\n",
            "Epoch 26/50\n",
            "469/469 - 1s - loss: 2.7834e-04 - accuracy: 1.0000 - val_loss: 0.5350 - val_accuracy: 0.9554\n",
            "Epoch 27/50\n",
            "469/469 - 1s - loss: 2.6731e-04 - accuracy: 1.0000 - val_loss: 0.5348 - val_accuracy: 0.9556\n",
            "Epoch 28/50\n",
            "469/469 - 1s - loss: 2.5911e-04 - accuracy: 1.0000 - val_loss: 0.5349 - val_accuracy: 0.9554\n",
            "Epoch 29/50\n",
            "469/469 - 1s - loss: 2.5043e-04 - accuracy: 1.0000 - val_loss: 0.5346 - val_accuracy: 0.9553\n",
            "Epoch 30/50\n",
            "469/469 - 1s - loss: 2.4241e-04 - accuracy: 1.0000 - val_loss: 0.5347 - val_accuracy: 0.9554\n",
            "Epoch 31/50\n",
            "469/469 - 1s - loss: 2.3495e-04 - accuracy: 1.0000 - val_loss: 0.5345 - val_accuracy: 0.9554\n",
            "Epoch 32/50\n",
            "469/469 - 1s - loss: 2.2840e-04 - accuracy: 1.0000 - val_loss: 0.5345 - val_accuracy: 0.9554\n",
            "Epoch 33/50\n",
            "469/469 - 1s - loss: 2.2198e-04 - accuracy: 1.0000 - val_loss: 0.5344 - val_accuracy: 0.9554\n",
            "Epoch 34/50\n",
            "469/469 - 1s - loss: 2.1591e-04 - accuracy: 1.0000 - val_loss: 0.5345 - val_accuracy: 0.9554\n",
            "Epoch 35/50\n",
            "469/469 - 1s - loss: 2.0999e-04 - accuracy: 1.0000 - val_loss: 0.5345 - val_accuracy: 0.9557\n",
            "Epoch 36/50\n",
            "469/469 - 1s - loss: 2.0489e-04 - accuracy: 1.0000 - val_loss: 0.5343 - val_accuracy: 0.9557\n",
            "Epoch 37/50\n",
            "469/469 - 1s - loss: 1.9982e-04 - accuracy: 1.0000 - val_loss: 0.5342 - val_accuracy: 0.9556\n",
            "Epoch 38/50\n",
            "469/469 - 1s - loss: 1.9516e-04 - accuracy: 1.0000 - val_loss: 0.5342 - val_accuracy: 0.9557\n",
            "Epoch 39/50\n",
            "469/469 - 1s - loss: 1.9055e-04 - accuracy: 1.0000 - val_loss: 0.5342 - val_accuracy: 0.9556\n",
            "Epoch 40/50\n",
            "469/469 - 1s - loss: 1.8619e-04 - accuracy: 1.0000 - val_loss: 0.5340 - val_accuracy: 0.9558\n",
            "Epoch 41/50\n",
            "469/469 - 1s - loss: 1.8224e-04 - accuracy: 1.0000 - val_loss: 0.5340 - val_accuracy: 0.9557\n",
            "Epoch 42/50\n",
            "469/469 - 1s - loss: 1.7816e-04 - accuracy: 1.0000 - val_loss: 0.5341 - val_accuracy: 0.9558\n",
            "Epoch 43/50\n",
            "469/469 - 1s - loss: 1.7444e-04 - accuracy: 1.0000 - val_loss: 0.5340 - val_accuracy: 0.9558\n",
            "Epoch 44/50\n",
            "469/469 - 1s - loss: 1.7123e-04 - accuracy: 1.0000 - val_loss: 0.5339 - val_accuracy: 0.9558\n",
            "Epoch 45/50\n",
            "469/469 - 1s - loss: 1.6793e-04 - accuracy: 1.0000 - val_loss: 0.5338 - val_accuracy: 0.9558\n",
            "Epoch 46/50\n",
            "469/469 - 1s - loss: 1.6449e-04 - accuracy: 1.0000 - val_loss: 0.5338 - val_accuracy: 0.9558\n",
            "Epoch 47/50\n",
            "469/469 - 1s - loss: 1.6140e-04 - accuracy: 1.0000 - val_loss: 0.5339 - val_accuracy: 0.9558\n",
            "Epoch 48/50\n",
            "469/469 - 1s - loss: 1.5858e-04 - accuracy: 1.0000 - val_loss: 0.5338 - val_accuracy: 0.9558\n",
            "Epoch 49/50\n",
            "469/469 - 1s - loss: 1.5577e-04 - accuracy: 1.0000 - val_loss: 0.5337 - val_accuracy: 0.9558\n",
            "Epoch 50/50\n",
            "469/469 - 1s - loss: 1.5307e-04 - accuracy: 1.0000 - val_loss: 0.5337 - val_accuracy: 0.9560\n",
            "=====================================\n",
            " Training Momentum \n",
            "\n",
            "Model: \"functional_71\"\n",
            "_________________________________________________________________\n",
            "Layer (type)                 Output Shape              Param #   \n",
            "=================================================================\n",
            "input_36 (InputLayer)        [(None, 28, 28)]          0         \n",
            "_________________________________________________________________\n",
            "flatten_35 (Flatten)         (None, 784)               0         \n",
            "_________________________________________________________________\n",
            "dense_70 (Dense)             (None, 1000)              785000    \n",
            "_________________________________________________________________\n",
            "dense_71 (Dense)             (None, 10)                10010     \n",
            "=================================================================\n",
            "Total params: 795,010\n",
            "Trainable params: 795,010\n",
            "Non-trainable params: 0\n",
            "_________________________________________________________________\n",
            "Epoch 1/50\n",
            "469/469 - 1s - loss: 4.9297 - accuracy: 0.8884 - val_loss: 0.4873 - val_accuracy: 0.9257\n",
            "Epoch 2/50\n",
            "469/469 - 1s - loss: 0.2658 - accuracy: 0.9499 - val_loss: 0.3816 - val_accuracy: 0.9370\n",
            "Epoch 3/50\n",
            "469/469 - 1s - loss: 0.1408 - accuracy: 0.9662 - val_loss: 0.3498 - val_accuracy: 0.9438\n",
            "Epoch 4/50\n",
            "469/469 - 1s - loss: 0.0833 - accuracy: 0.9779 - val_loss: 0.3301 - val_accuracy: 0.9463\n",
            "Epoch 5/50\n",
            "469/469 - 1s - loss: 0.0527 - accuracy: 0.9855 - val_loss: 0.3149 - val_accuracy: 0.9493\n",
            "Epoch 6/50\n",
            "469/469 - 1s - loss: 0.0365 - accuracy: 0.9900 - val_loss: 0.3157 - val_accuracy: 0.9518\n",
            "Epoch 7/50\n",
            "469/469 - 1s - loss: 0.0263 - accuracy: 0.9934 - val_loss: 0.3130 - val_accuracy: 0.9521\n",
            "Epoch 8/50\n",
            "469/469 - 1s - loss: 0.0202 - accuracy: 0.9950 - val_loss: 0.3072 - val_accuracy: 0.9520\n",
            "Epoch 9/50\n",
            "469/469 - 1s - loss: 0.0159 - accuracy: 0.9962 - val_loss: 0.3093 - val_accuracy: 0.9525\n",
            "Epoch 10/50\n",
            "469/469 - 1s - loss: 0.0128 - accuracy: 0.9973 - val_loss: 0.3120 - val_accuracy: 0.9538\n",
            "Epoch 11/50\n",
            "469/469 - 1s - loss: 0.0107 - accuracy: 0.9977 - val_loss: 0.3109 - val_accuracy: 0.9548\n",
            "Epoch 12/50\n",
            "469/469 - 1s - loss: 0.0090 - accuracy: 0.9984 - val_loss: 0.3106 - val_accuracy: 0.9550\n",
            "Epoch 13/50\n",
            "469/469 - 1s - loss: 0.0078 - accuracy: 0.9985 - val_loss: 0.3122 - val_accuracy: 0.9549\n",
            "Epoch 14/50\n",
            "469/469 - 1s - loss: 0.0069 - accuracy: 0.9987 - val_loss: 0.3126 - val_accuracy: 0.9547\n",
            "Epoch 15/50\n",
            "469/469 - 1s - loss: 0.0060 - accuracy: 0.9991 - val_loss: 0.3140 - val_accuracy: 0.9551\n",
            "Epoch 16/50\n",
            "469/469 - 1s - loss: 0.0054 - accuracy: 0.9992 - val_loss: 0.3153 - val_accuracy: 0.9551\n",
            "Epoch 17/50\n",
            "469/469 - 1s - loss: 0.0048 - accuracy: 0.9994 - val_loss: 0.3149 - val_accuracy: 0.9561\n",
            "Epoch 18/50\n",
            "469/469 - 1s - loss: 0.0044 - accuracy: 0.9994 - val_loss: 0.3160 - val_accuracy: 0.9558\n",
            "Epoch 19/50\n",
            "469/469 - 1s - loss: 0.0039 - accuracy: 0.9995 - val_loss: 0.3159 - val_accuracy: 0.9564\n",
            "Epoch 20/50\n",
            "469/469 - 1s - loss: 0.0037 - accuracy: 0.9995 - val_loss: 0.3168 - val_accuracy: 0.9561\n",
            "Epoch 21/50\n",
            "469/469 - 1s - loss: 0.0034 - accuracy: 0.9996 - val_loss: 0.3161 - val_accuracy: 0.9571\n",
            "Epoch 22/50\n",
            "469/469 - 1s - loss: 0.0031 - accuracy: 0.9996 - val_loss: 0.3189 - val_accuracy: 0.9567\n",
            "Epoch 23/50\n",
            "469/469 - 1s - loss: 0.0029 - accuracy: 0.9997 - val_loss: 0.3179 - val_accuracy: 0.9566\n",
            "Epoch 24/50\n",
            "469/469 - 1s - loss: 0.0027 - accuracy: 0.9997 - val_loss: 0.3193 - val_accuracy: 0.9570\n",
            "Epoch 25/50\n",
            "469/469 - 1s - loss: 0.0025 - accuracy: 0.9997 - val_loss: 0.3203 - val_accuracy: 0.9576\n",
            "Epoch 26/50\n",
            "469/469 - 1s - loss: 0.0024 - accuracy: 0.9998 - val_loss: 0.3196 - val_accuracy: 0.9570\n",
            "Epoch 27/50\n",
            "469/469 - 1s - loss: 0.0023 - accuracy: 0.9998 - val_loss: 0.3212 - val_accuracy: 0.9573\n",
            "Epoch 28/50\n",
            "469/469 - 1s - loss: 0.0021 - accuracy: 0.9998 - val_loss: 0.3216 - val_accuracy: 0.9577\n",
            "Epoch 29/50\n",
            "469/469 - 1s - loss: 0.0020 - accuracy: 0.9998 - val_loss: 0.3232 - val_accuracy: 0.9575\n",
            "Epoch 30/50\n",
            "469/469 - 1s - loss: 0.0019 - accuracy: 0.9998 - val_loss: 0.3222 - val_accuracy: 0.9576\n",
            "Epoch 31/50\n",
            "469/469 - 1s - loss: 0.0018 - accuracy: 0.9998 - val_loss: 0.3233 - val_accuracy: 0.9578\n",
            "Epoch 32/50\n",
            "469/469 - 1s - loss: 0.0017 - accuracy: 0.9998 - val_loss: 0.3239 - val_accuracy: 0.9581\n",
            "Epoch 33/50\n",
            "469/469 - 1s - loss: 0.0017 - accuracy: 0.9999 - val_loss: 0.3256 - val_accuracy: 0.9576\n",
            "Epoch 34/50\n",
            "469/469 - 1s - loss: 0.0016 - accuracy: 0.9998 - val_loss: 0.3249 - val_accuracy: 0.9580\n",
            "Epoch 35/50\n",
            "469/469 - 1s - loss: 0.0015 - accuracy: 0.9999 - val_loss: 0.3249 - val_accuracy: 0.9580\n",
            "Epoch 36/50\n",
            "469/469 - 1s - loss: 0.0015 - accuracy: 0.9999 - val_loss: 0.3255 - val_accuracy: 0.9581\n",
            "Epoch 37/50\n",
            "469/469 - 1s - loss: 0.0014 - accuracy: 0.9999 - val_loss: 0.3264 - val_accuracy: 0.9584\n",
            "Epoch 38/50\n",
            "469/469 - 1s - loss: 0.0013 - accuracy: 0.9999 - val_loss: 0.3269 - val_accuracy: 0.9583\n",
            "Epoch 39/50\n",
            "469/469 - 1s - loss: 0.0013 - accuracy: 0.9999 - val_loss: 0.3271 - val_accuracy: 0.9584\n",
            "Epoch 40/50\n",
            "469/469 - 1s - loss: 0.0012 - accuracy: 0.9999 - val_loss: 0.3269 - val_accuracy: 0.9586\n",
            "Epoch 41/50\n",
            "469/469 - 1s - loss: 0.0012 - accuracy: 0.9999 - val_loss: 0.3272 - val_accuracy: 0.9585\n",
            "Epoch 42/50\n",
            "469/469 - 1s - loss: 0.0012 - accuracy: 0.9999 - val_loss: 0.3278 - val_accuracy: 0.9584\n",
            "Epoch 43/50\n",
            "469/469 - 1s - loss: 0.0011 - accuracy: 0.9999 - val_loss: 0.3276 - val_accuracy: 0.9584\n",
            "Epoch 44/50\n",
            "469/469 - 1s - loss: 0.0011 - accuracy: 0.9999 - val_loss: 0.3289 - val_accuracy: 0.9582\n",
            "Epoch 45/50\n",
            "469/469 - 1s - loss: 0.0011 - accuracy: 0.9999 - val_loss: 0.3288 - val_accuracy: 0.9585\n",
            "Epoch 46/50\n",
            "469/469 - 1s - loss: 0.0010 - accuracy: 0.9999 - val_loss: 0.3287 - val_accuracy: 0.9586\n",
            "Epoch 47/50\n",
            "469/469 - 1s - loss: 9.8825e-04 - accuracy: 0.9999 - val_loss: 0.3290 - val_accuracy: 0.9585\n",
            "Epoch 48/50\n",
            "469/469 - 1s - loss: 9.6767e-04 - accuracy: 0.9999 - val_loss: 0.3297 - val_accuracy: 0.9582\n",
            "Epoch 49/50\n",
            "469/469 - 1s - loss: 9.3741e-04 - accuracy: 0.9999 - val_loss: 0.3296 - val_accuracy: 0.9584\n",
            "Epoch 50/50\n",
            "469/469 - 1s - loss: 9.1264e-04 - accuracy: 0.9999 - val_loss: 0.3301 - val_accuracy: 0.9586\n",
            "=====================================\n",
            " Training RMSprop \n",
            "\n",
            "Model: \"functional_73\"\n",
            "_________________________________________________________________\n",
            "Layer (type)                 Output Shape              Param #   \n",
            "=================================================================\n",
            "input_37 (InputLayer)        [(None, 28, 28)]          0         \n",
            "_________________________________________________________________\n",
            "flatten_36 (Flatten)         (None, 784)               0         \n",
            "_________________________________________________________________\n",
            "dense_72 (Dense)             (None, 1000)              785000    \n",
            "_________________________________________________________________\n",
            "dense_73 (Dense)             (None, 10)                10010     \n",
            "=================================================================\n",
            "Total params: 795,010\n",
            "Trainable params: 795,010\n",
            "Non-trainable params: 0\n",
            "_________________________________________________________________\n",
            "Epoch 1/50\n",
            "469/469 - 1s - loss: 5.9664 - accuracy: 0.9065 - val_loss: 0.7872 - val_accuracy: 0.9513\n",
            "Epoch 2/50\n",
            "469/469 - 1s - loss: 0.7442 - accuracy: 0.9564 - val_loss: 0.9372 - val_accuracy: 0.9529\n",
            "Epoch 3/50\n",
            "469/469 - 1s - loss: 0.5264 - accuracy: 0.9686 - val_loss: 0.6171 - val_accuracy: 0.9675\n",
            "Epoch 4/50\n",
            "469/469 - 1s - loss: 0.4239 - accuracy: 0.9742 - val_loss: 0.9050 - val_accuracy: 0.9613\n",
            "Epoch 5/50\n",
            "469/469 - 1s - loss: 0.3803 - accuracy: 0.9781 - val_loss: 1.0552 - val_accuracy: 0.9536\n",
            "Epoch 6/50\n",
            "469/469 - 1s - loss: 0.4021 - accuracy: 0.9796 - val_loss: 0.7134 - val_accuracy: 0.9729\n",
            "Epoch 7/50\n",
            "469/469 - 1s - loss: 0.3021 - accuracy: 0.9835 - val_loss: 0.7930 - val_accuracy: 0.9740\n",
            "Epoch 8/50\n",
            "469/469 - 1s - loss: 0.2641 - accuracy: 0.9858 - val_loss: 0.8149 - val_accuracy: 0.9730\n",
            "Epoch 9/50\n",
            "469/469 - 1s - loss: 0.2532 - accuracy: 0.9863 - val_loss: 0.9201 - val_accuracy: 0.9707\n",
            "Epoch 10/50\n",
            "469/469 - 1s - loss: 0.2362 - accuracy: 0.9881 - val_loss: 0.8774 - val_accuracy: 0.9742\n",
            "Epoch 11/50\n",
            "469/469 - 1s - loss: 0.2250 - accuracy: 0.9887 - val_loss: 0.8430 - val_accuracy: 0.9759\n",
            "Epoch 12/50\n",
            "469/469 - 1s - loss: 0.2100 - accuracy: 0.9899 - val_loss: 1.0551 - val_accuracy: 0.9751\n",
            "Epoch 13/50\n",
            "469/469 - 1s - loss: 0.2100 - accuracy: 0.9907 - val_loss: 0.9849 - val_accuracy: 0.9743\n",
            "Epoch 14/50\n",
            "469/469 - 1s - loss: 0.1601 - accuracy: 0.9916 - val_loss: 1.0411 - val_accuracy: 0.9760\n",
            "Epoch 15/50\n",
            "469/469 - 1s - loss: 0.1701 - accuracy: 0.9922 - val_loss: 1.2346 - val_accuracy: 0.9737\n",
            "Epoch 16/50\n",
            "469/469 - 1s - loss: 0.1622 - accuracy: 0.9926 - val_loss: 1.0752 - val_accuracy: 0.9777\n",
            "Epoch 17/50\n",
            "469/469 - 1s - loss: 0.1717 - accuracy: 0.9924 - val_loss: 1.1440 - val_accuracy: 0.9763\n",
            "Epoch 18/50\n",
            "469/469 - 1s - loss: 0.1418 - accuracy: 0.9934 - val_loss: 1.1397 - val_accuracy: 0.9767\n",
            "Epoch 19/50\n",
            "469/469 - 1s - loss: 0.1433 - accuracy: 0.9936 - val_loss: 1.2088 - val_accuracy: 0.9775\n",
            "Epoch 20/50\n",
            "469/469 - 1s - loss: 0.1376 - accuracy: 0.9942 - val_loss: 1.4226 - val_accuracy: 0.9743\n",
            "Epoch 21/50\n",
            "469/469 - 1s - loss: 0.1249 - accuracy: 0.9944 - val_loss: 1.2230 - val_accuracy: 0.9734\n",
            "Epoch 22/50\n",
            "469/469 - 1s - loss: 0.1524 - accuracy: 0.9937 - val_loss: 1.3285 - val_accuracy: 0.9778\n",
            "Epoch 23/50\n",
            "469/469 - 1s - loss: 0.1277 - accuracy: 0.9947 - val_loss: 1.3805 - val_accuracy: 0.9744\n",
            "Epoch 24/50\n",
            "469/469 - 1s - loss: 0.1230 - accuracy: 0.9947 - val_loss: 1.3865 - val_accuracy: 0.9749\n",
            "Epoch 25/50\n",
            "469/469 - 1s - loss: 0.1226 - accuracy: 0.9951 - val_loss: 1.3691 - val_accuracy: 0.9754\n",
            "Epoch 26/50\n",
            "469/469 - 1s - loss: 0.0821 - accuracy: 0.9962 - val_loss: 1.5125 - val_accuracy: 0.9757\n",
            "Epoch 27/50\n",
            "469/469 - 1s - loss: 0.1326 - accuracy: 0.9947 - val_loss: 1.4513 - val_accuracy: 0.9781\n",
            "Epoch 28/50\n",
            "469/469 - 1s - loss: 0.1136 - accuracy: 0.9954 - val_loss: 1.4103 - val_accuracy: 0.9771\n",
            "Epoch 29/50\n",
            "469/469 - 1s - loss: 0.0993 - accuracy: 0.9961 - val_loss: 1.3835 - val_accuracy: 0.9773\n",
            "Epoch 30/50\n",
            "469/469 - 1s - loss: 0.0895 - accuracy: 0.9961 - val_loss: 1.5807 - val_accuracy: 0.9751\n",
            "Epoch 31/50\n",
            "469/469 - 1s - loss: 0.0902 - accuracy: 0.9965 - val_loss: 1.3325 - val_accuracy: 0.9786\n",
            "Epoch 32/50\n",
            "469/469 - 1s - loss: 0.0862 - accuracy: 0.9966 - val_loss: 1.4328 - val_accuracy: 0.9792\n",
            "Epoch 33/50\n",
            "469/469 - 1s - loss: 0.0840 - accuracy: 0.9964 - val_loss: 1.6403 - val_accuracy: 0.9776\n",
            "Epoch 34/50\n",
            "469/469 - 1s - loss: 0.0773 - accuracy: 0.9969 - val_loss: 1.5367 - val_accuracy: 0.9776\n",
            "Epoch 35/50\n",
            "469/469 - 1s - loss: 0.0730 - accuracy: 0.9972 - val_loss: 1.4970 - val_accuracy: 0.9788\n",
            "Epoch 36/50\n",
            "469/469 - 1s - loss: 0.0886 - accuracy: 0.9966 - val_loss: 1.5511 - val_accuracy: 0.9783\n",
            "Epoch 37/50\n",
            "469/469 - 1s - loss: 0.0682 - accuracy: 0.9974 - val_loss: 1.5107 - val_accuracy: 0.9800\n",
            "Epoch 38/50\n",
            "469/469 - 1s - loss: 0.0779 - accuracy: 0.9969 - val_loss: 1.7926 - val_accuracy: 0.9772\n",
            "Epoch 39/50\n",
            "469/469 - 1s - loss: 0.0844 - accuracy: 0.9971 - val_loss: 1.6598 - val_accuracy: 0.9797\n",
            "Epoch 40/50\n",
            "469/469 - 1s - loss: 0.0768 - accuracy: 0.9972 - val_loss: 1.8219 - val_accuracy: 0.9790\n",
            "Epoch 41/50\n",
            "469/469 - 1s - loss: 0.0519 - accuracy: 0.9980 - val_loss: 1.7593 - val_accuracy: 0.9788\n",
            "Epoch 42/50\n",
            "469/469 - 1s - loss: 0.0670 - accuracy: 0.9976 - val_loss: 1.6743 - val_accuracy: 0.9780\n",
            "Epoch 43/50\n",
            "469/469 - 1s - loss: 0.0582 - accuracy: 0.9976 - val_loss: 1.7539 - val_accuracy: 0.9788\n",
            "Epoch 44/50\n",
            "469/469 - 1s - loss: 0.0539 - accuracy: 0.9981 - val_loss: 1.7362 - val_accuracy: 0.9792\n",
            "Epoch 45/50\n",
            "469/469 - 1s - loss: 0.0448 - accuracy: 0.9980 - val_loss: 1.4682 - val_accuracy: 0.9808\n",
            "Epoch 46/50\n",
            "469/469 - 1s - loss: 0.0507 - accuracy: 0.9983 - val_loss: 1.4169 - val_accuracy: 0.9803\n",
            "Epoch 47/50\n",
            "469/469 - 1s - loss: 0.0485 - accuracy: 0.9980 - val_loss: 1.5998 - val_accuracy: 0.9796\n",
            "Epoch 48/50\n",
            "469/469 - 1s - loss: 0.0650 - accuracy: 0.9978 - val_loss: 1.6189 - val_accuracy: 0.9800\n",
            "Epoch 49/50\n",
            "469/469 - 1s - loss: 0.0453 - accuracy: 0.9981 - val_loss: 1.6126 - val_accuracy: 0.9808\n",
            "Epoch 50/50\n",
            "469/469 - 1s - loss: 0.0772 - accuracy: 0.9973 - val_loss: 1.8700 - val_accuracy: 0.9799\n",
            "=====================================\n",
            " Training Adam \n",
            "\n",
            "Model: \"functional_75\"\n",
            "_________________________________________________________________\n",
            "Layer (type)                 Output Shape              Param #   \n",
            "=================================================================\n",
            "input_38 (InputLayer)        [(None, 28, 28)]          0         \n",
            "_________________________________________________________________\n",
            "flatten_37 (Flatten)         (None, 784)               0         \n",
            "_________________________________________________________________\n",
            "dense_74 (Dense)             (None, 1000)              785000    \n",
            "_________________________________________________________________\n",
            "dense_75 (Dense)             (None, 10)                10010     \n",
            "=================================================================\n",
            "Total params: 795,010\n",
            "Trainable params: 795,010\n",
            "Non-trainable params: 0\n",
            "_________________________________________________________________\n",
            "Epoch 1/50\n",
            "469/469 - 1s - loss: 4.4884 - accuracy: 0.9157 - val_loss: 0.7538 - val_accuracy: 0.9444\n",
            "Epoch 2/50\n",
            "469/469 - 1s - loss: 0.4287 - accuracy: 0.9607 - val_loss: 0.4996 - val_accuracy: 0.9551\n",
            "Epoch 3/50\n",
            "469/469 - 1s - loss: 0.2387 - accuracy: 0.9710 - val_loss: 0.4286 - val_accuracy: 0.9553\n",
            "Epoch 4/50\n",
            "469/469 - 1s - loss: 0.1704 - accuracy: 0.9766 - val_loss: 0.4109 - val_accuracy: 0.9607\n",
            "Epoch 5/50\n",
            "469/469 - 1s - loss: 0.1726 - accuracy: 0.9765 - val_loss: 0.4299 - val_accuracy: 0.9599\n",
            "Epoch 6/50\n",
            "469/469 - 1s - loss: 0.1959 - accuracy: 0.9759 - val_loss: 0.4565 - val_accuracy: 0.9610\n",
            "Epoch 7/50\n",
            "469/469 - 1s - loss: 0.2090 - accuracy: 0.9750 - val_loss: 0.4080 - val_accuracy: 0.9639\n",
            "Epoch 8/50\n",
            "469/469 - 1s - loss: 0.1993 - accuracy: 0.9766 - val_loss: 0.5190 - val_accuracy: 0.9625\n",
            "Epoch 9/50\n",
            "469/469 - 1s - loss: 0.1964 - accuracy: 0.9769 - val_loss: 0.3695 - val_accuracy: 0.9680\n",
            "Epoch 10/50\n",
            "469/469 - 1s - loss: 0.1890 - accuracy: 0.9784 - val_loss: 0.5115 - val_accuracy: 0.9627\n",
            "Epoch 11/50\n",
            "469/469 - 1s - loss: 0.1956 - accuracy: 0.9783 - val_loss: 0.4580 - val_accuracy: 0.9673\n",
            "Epoch 12/50\n",
            "469/469 - 1s - loss: 0.1807 - accuracy: 0.9790 - val_loss: 0.4635 - val_accuracy: 0.9627\n",
            "Epoch 13/50\n",
            "469/469 - 1s - loss: 0.1751 - accuracy: 0.9816 - val_loss: 0.5898 - val_accuracy: 0.9660\n",
            "Epoch 14/50\n",
            "469/469 - 1s - loss: 0.1950 - accuracy: 0.9809 - val_loss: 0.6354 - val_accuracy: 0.9650\n",
            "Epoch 15/50\n",
            "469/469 - 1s - loss: 0.2051 - accuracy: 0.9816 - val_loss: 0.8503 - val_accuracy: 0.9555\n",
            "Epoch 16/50\n",
            "469/469 - 1s - loss: 0.1690 - accuracy: 0.9839 - val_loss: 0.5386 - val_accuracy: 0.9737\n",
            "Epoch 17/50\n",
            "469/469 - 1s - loss: 0.1177 - accuracy: 0.9875 - val_loss: 0.6156 - val_accuracy: 0.9686\n",
            "Epoch 18/50\n",
            "469/469 - 1s - loss: 0.1439 - accuracy: 0.9865 - val_loss: 0.6061 - val_accuracy: 0.9676\n",
            "Epoch 19/50\n",
            "469/469 - 1s - loss: 0.1385 - accuracy: 0.9871 - val_loss: 0.6753 - val_accuracy: 0.9693\n",
            "Epoch 20/50\n",
            "469/469 - 1s - loss: 0.1645 - accuracy: 0.9859 - val_loss: 0.7066 - val_accuracy: 0.9691\n",
            "Epoch 21/50\n",
            "469/469 - 1s - loss: 0.1572 - accuracy: 0.9870 - val_loss: 0.5956 - val_accuracy: 0.9752\n",
            "Epoch 22/50\n",
            "469/469 - 1s - loss: 0.1212 - accuracy: 0.9887 - val_loss: 0.7714 - val_accuracy: 0.9695\n",
            "Epoch 23/50\n",
            "469/469 - 1s - loss: 0.1497 - accuracy: 0.9886 - val_loss: 0.7865 - val_accuracy: 0.9698\n",
            "Epoch 24/50\n",
            "469/469 - 1s - loss: 0.1590 - accuracy: 0.9884 - val_loss: 0.7590 - val_accuracy: 0.9733\n",
            "Epoch 25/50\n",
            "469/469 - 1s - loss: 0.1349 - accuracy: 0.9897 - val_loss: 0.7638 - val_accuracy: 0.9735\n",
            "Epoch 26/50\n",
            "469/469 - 1s - loss: 0.1188 - accuracy: 0.9912 - val_loss: 0.7568 - val_accuracy: 0.9744\n",
            "Epoch 27/50\n",
            "469/469 - 1s - loss: 0.0998 - accuracy: 0.9919 - val_loss: 0.8599 - val_accuracy: 0.9733\n",
            "Epoch 28/50\n",
            "469/469 - 1s - loss: 0.1291 - accuracy: 0.9909 - val_loss: 1.0463 - val_accuracy: 0.9702\n",
            "Epoch 29/50\n",
            "469/469 - 1s - loss: 0.1149 - accuracy: 0.9919 - val_loss: 0.9241 - val_accuracy: 0.9744\n",
            "Epoch 30/50\n",
            "469/469 - 1s - loss: 0.1452 - accuracy: 0.9911 - val_loss: 0.9413 - val_accuracy: 0.9726\n",
            "Epoch 31/50\n",
            "469/469 - 1s - loss: 0.1315 - accuracy: 0.9923 - val_loss: 0.9199 - val_accuracy: 0.9759\n",
            "Epoch 32/50\n",
            "469/469 - 1s - loss: 0.0907 - accuracy: 0.9943 - val_loss: 0.7500 - val_accuracy: 0.9767\n",
            "Epoch 33/50\n",
            "469/469 - 1s - loss: 0.1134 - accuracy: 0.9926 - val_loss: 1.1943 - val_accuracy: 0.9739\n",
            "Epoch 34/50\n",
            "469/469 - 1s - loss: 0.1323 - accuracy: 0.9928 - val_loss: 1.1304 - val_accuracy: 0.9724\n",
            "Epoch 35/50\n",
            "469/469 - 1s - loss: 0.1159 - accuracy: 0.9929 - val_loss: 1.0701 - val_accuracy: 0.9756\n",
            "Epoch 36/50\n",
            "469/469 - 1s - loss: 0.1184 - accuracy: 0.9929 - val_loss: 1.1184 - val_accuracy: 0.9747\n",
            "Epoch 37/50\n",
            "469/469 - 1s - loss: 0.0825 - accuracy: 0.9943 - val_loss: 1.0836 - val_accuracy: 0.9746\n",
            "Epoch 38/50\n",
            "469/469 - 1s - loss: 0.0855 - accuracy: 0.9949 - val_loss: 1.1881 - val_accuracy: 0.9778\n",
            "Epoch 39/50\n",
            "469/469 - 1s - loss: 0.0984 - accuracy: 0.9943 - val_loss: 1.2223 - val_accuracy: 0.9766\n",
            "Epoch 40/50\n",
            "469/469 - 1s - loss: 0.1045 - accuracy: 0.9945 - val_loss: 1.2516 - val_accuracy: 0.9735\n",
            "Epoch 41/50\n",
            "469/469 - 1s - loss: 0.1252 - accuracy: 0.9939 - val_loss: 1.3482 - val_accuracy: 0.9738\n",
            "Epoch 42/50\n",
            "469/469 - 1s - loss: 0.1233 - accuracy: 0.9944 - val_loss: 1.3812 - val_accuracy: 0.9744\n",
            "Epoch 43/50\n",
            "469/469 - 1s - loss: 0.0870 - accuracy: 0.9953 - val_loss: 1.2266 - val_accuracy: 0.9781\n",
            "Epoch 44/50\n",
            "469/469 - 1s - loss: 0.1280 - accuracy: 0.9939 - val_loss: 1.4803 - val_accuracy: 0.9742\n",
            "Epoch 45/50\n",
            "469/469 - 1s - loss: 0.0798 - accuracy: 0.9953 - val_loss: 1.2628 - val_accuracy: 0.9780\n",
            "Epoch 46/50\n",
            "469/469 - 1s - loss: 0.0768 - accuracy: 0.9959 - val_loss: 1.2801 - val_accuracy: 0.9776\n",
            "Epoch 47/50\n",
            "469/469 - 1s - loss: 0.1035 - accuracy: 0.9953 - val_loss: 1.5828 - val_accuracy: 0.9758\n",
            "Epoch 48/50\n",
            "469/469 - 1s - loss: 0.1161 - accuracy: 0.9951 - val_loss: 1.4840 - val_accuracy: 0.9767\n",
            "Epoch 49/50\n",
            "469/469 - 1s - loss: 0.1118 - accuracy: 0.9952 - val_loss: 1.3804 - val_accuracy: 0.9768\n",
            "Epoch 50/50\n",
            "469/469 - 1s - loss: 0.0769 - accuracy: 0.9963 - val_loss: 1.4194 - val_accuracy: 0.9771\n"
          ],
          "name": "stdout"
        }
      ]
    },
    {
      "cell_type": "markdown",
      "metadata": {
        "id": "6LCiRcs3YQK9"
      },
      "source": [
        "#### 画图"
      ]
    },
    {
      "cell_type": "code",
      "metadata": {
        "id": "y4Cg5CRbXBAd",
        "outputId": "da33b28f-7390-4b45-9115-d933a040c79f",
        "colab": {
          "base_uri": "https://localhost:8080/",
          "height": 513
        }
      },
      "source": [
        "render_loss(losses, optimizers)"
      ],
      "execution_count": null,
      "outputs": [
        {
          "output_type": "display_data",
          "data": {
            "image/png": "[encoded data removed]",
            "text/plain": [
              "<Figure size 864x576 with 4 Axes>"
            ]
          },
          "metadata": {
            "tags": [],
            "needs_background": "light"
          }
        }
      ]
    },
    {
      "cell_type": "markdown",
      "metadata": {
        "id": "lrdeKN1IqxHx"
      },
      "source": [
        "### 四、结果分析"
      ]
    },
    {
      "cell_type": "markdown",
      "metadata": {
        "id": "VL2uHeGXq3tC"
      },
      "source": [
        "#### 不同优化器的比较\n",
        "\n",
        "* 收敛速度\n",
        "\n",
        "* 泛化能力"
      ]
    },
    {
      "cell_type": "markdown",
      "metadata": {
        "id": "1A5GDQJnrLTb"
      },
      "source": [
        "#### loss和AUC的不一致性"
      ]
    },
    {
      "cell_type": "markdown",
      "metadata": {
        "id": "eFpQPIYeql-S"
      },
      "source": [
        "> Suppose there are 3 classes- dog, cat and horse. For our case, the correct class is horse . Now, the output of the softmax is [0.9, 0.1]. For this loss ~0.37. The classifier will predict that it is a horse. Take another case where softmax output is [0.6, 0.4]. Loss ~0.6. The classifier will still predict that it is a horse. But surely, the loss has increased. So, it is all about the output distribution.\n",
        "\n",
        "https://stats.stackexchange.com/questions/282160/how-is-it-possible-that-validation-loss-is-increasing-while-validation-accuracy"
      ]
    }
  ]
}