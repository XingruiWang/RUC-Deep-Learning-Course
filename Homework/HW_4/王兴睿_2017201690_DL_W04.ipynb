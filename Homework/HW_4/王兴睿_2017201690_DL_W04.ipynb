{
  "nbformat": 4,
  "nbformat_minor": 0,
  "metadata": {
    "colab": {
      "name": "Untitled1.ipynb",
      "provenance": [],
      "authorship_tag": "ABX9TyPXikvoTwMdRHe9+q7rgf6a",
      "include_colab_link": true
    },
    "kernelspec": {
      "name": "python3",
      "display_name": "Python 3"
    },
    "accelerator": "GPU"
  },
  "cells": [
    {
      "cell_type": "markdown",
      "metadata": {
        "id": "view-in-github",
        "colab_type": "text"
      },
      "source": [
        "<a href=\"https://colab.research.google.com/github/XingruiWang/RUC-Deep-Learning-Course/blob/master/Homework/HW_4/%E7%8E%8B%E5%85%B4%E7%9D%BF_2017201690_DL_W04.ipynb\" target=\"_parent\"><img src=\"https://colab.research.google.com/assets/colab-badge.svg\" alt=\"Open In Colab\"/></a>"
      ]
    },
    {
      "cell_type": "markdown",
      "metadata": {
        "id": "yAD79lKDIVQw"
      },
      "source": [
        "# Homework 4: Comparison between Different Optimizers\n",
        "\n",
        "王兴睿 2017201690"
      ]
    },
    {
      "cell_type": "code",
      "metadata": {
        "id": "2XsH6fC-Hv0I",
        "outputId": "b25e7533-1cb4-4889-b78f-64b2a26e2a56",
        "colab": {
          "base_uri": "https://localhost:8080/",
          "height": 69
        }
      },
      "source": [
        "from google.colab import drive\n",
        "drive.mount('/content/gdrive')\n",
        "%cd /content/gdrive/My\\ Drive/RUC/DeepLearning/course7\n",
        "!ls"
      ],
      "execution_count": 1,
      "outputs": [
        {
          "output_type": "stream",
          "text": [
            "Mounted at /content/gdrive\n",
            "/content/gdrive/My Drive/RUC/DeepLearning/course7\n",
            "data_facescore\tdata_foodscore\tFoodScore.csv  程序\n"
          ],
          "name": "stdout"
        }
      ]
    },
    {
      "cell_type": "markdown",
      "metadata": {
        "id": "HDZrYqTbIJ2R"
      },
      "source": [
        "### 一、载入函数包"
      ]
    },
    {
      "cell_type": "code",
      "metadata": {
        "id": "SAmj28XAH8wD"
      },
      "source": [
        "import numpy as np\n",
        "import matplotlib.pyplot as plt\n",
        "\n",
        "import tensorflow as tf\n",
        "from keras import Model, Input\n",
        "from keras.layers import Dense,Flatten,Input\n",
        "from keras.optimizers import SGD,RMSprop,Adam\n",
        "\n",
        "from keras.utils import to_categorical "
      ],
      "execution_count": 2,
      "outputs": []
    },
    {
      "cell_type": "code",
      "metadata": {
        "id": "Y8LDwgj5IvkF",
        "outputId": "c975dc4f-1036-4860-916b-2f7e7cf5f606",
        "colab": {
          "base_uri": "https://localhost:8080/",
          "height": 87
        }
      },
      "source": [
        "## loading mnist dataset\n",
        "mnist = tf.keras.datasets.mnist\n",
        "(X_train, y_train), (X_test, y_test) = mnist.load_data() \n",
        "\n",
        "## One-hot encode y label\n",
        "Y_train=to_categorical(y_train)\n",
        "Y_test=to_categorical(y_test)\n",
        "\n",
        "print(Y_train.shape) # 60000 * 10. 60000 means the amount of training data, 10 means 10 classes of number in dataset.\n",
        "print(Y_train[0]) # [0. 0. 0. 0. 0. 1. 0. 0. 0. 0.] means number 5"
      ],
      "execution_count": 3,
      "outputs": [
        {
          "output_type": "stream",
          "text": [
            "Downloading data from https://storage.googleapis.com/tensorflow/tf-keras-datasets/mnist.npz\n",
            "11493376/11490434 [==============================] - 0s 0us/step\n",
            "(60000, 10)\n",
            "[0. 0. 0. 0. 0. 1. 0. 0. 0. 0.]\n"
          ],
          "name": "stdout"
        }
      ]
    },
    {
      "cell_type": "markdown",
      "metadata": {
        "id": "mYlRvV9cKKDl"
      },
      "source": [
        "### 二、使用Keras搭建模型"
      ]
    },
    {
      "cell_type": "markdown",
      "metadata": {
        "id": "vALzfTkqNBML"
      },
      "source": [
        "* 定义`NewModel()`函数，每次调用可以返回新的**初始化模型**"
      ]
    },
    {
      "cell_type": "code",
      "metadata": {
        "id": "1t01y8pDKF0N"
      },
      "source": [
        "def NewModel(IMSIZE = 28, p = 1000, q = 10):  \n",
        "    '''\n",
        "    Description: Define the model\n",
        "    ----------------------\n",
        "    Args:\n",
        "        IMSIZE: the size of input image, the width and height are same here.\n",
        "        p: the number of neurons in first hidden layer, defult value is 1000\n",
        "        q: the number of neurons in output layer，defult value is 10 since there are 10 classes.\n",
        "    ----------------------\n",
        "    return:\n",
        "        model: the keras model\n",
        "    ----------------------\n",
        "    Usages:\n",
        "    >>> model = NNModel(28, 1000, 10)\n",
        "\n",
        "    '''                                            \n",
        "    input_layer = Input([IMSIZE,IMSIZE])         # the size of a MNIST image is 28 * 28 * 1\n",
        "    x = input_layer                              \n",
        "    x = Flatten()(input_layer)                   # flatten the Tensor (28*28*1) to a vetor (784 * 1)\n",
        "    x = Dense(1000, activation = 'relu')(x)       # hidden layer: fully connection (1000 neurons) + relu\n",
        "    x = Dense(10, activation = 'softmax')(x)      # output layer，fully connection (10 neurons) + softmax, output value range from 0 to 1\n",
        "    output_layer = x\n",
        "    model=Model(input_layer,output_layer)        # connect the input layer, hidden layer and output layer.\n",
        "    model.summary()\n",
        "    return model"
      ],
      "execution_count": 4,
      "outputs": []
    },
    {
      "cell_type": "markdown",
      "metadata": {
        "id": "5L0dZ5T7WoNe"
      },
      "source": [
        "* 定义`Momentum()`函数，因为keras中Momentum是用`SGD`函数实现的，为了方便循环可以重新定义"
      ]
    },
    {
      "cell_type": "code",
      "metadata": {
        "id": "4Y_0_8g6WVCi"
      },
      "source": [
        "def Momentum(lr, momentum = 0.5):\n",
        "    '''\n",
        "    Momentum optimizer, defined by keras.optimizers.SGD() function with the parameter `momentum > 0`\n",
        "    '''\n",
        "    return SGD(lr = lr, momentum = momentum)\n"
      ],
      "execution_count": 5,
      "outputs": []
    },
    {
      "cell_type": "markdown",
      "metadata": {
        "id": "bRwbKnZnW9Lp"
      },
      "source": [
        "* 定义`train()`函数，用来训练搭建好的模型。在`train()`函数中，**传入参数**为模型、数据集、超参数，**返回值**为训练好的模型`model` 和 `loss`"
      ]
    },
    {
      "cell_type": "code",
      "metadata": {
        "id": "5M8gjIf9QATK"
      },
      "source": [
        "def train(model, X_train, X_test, y_train, y_test,\n",
        "            batch_size = 128, epochs = 50,\n",
        "            opt = SGD, lr = 0.001, \n",
        "            loss_type = \"categorical_crossentropy\",\n",
        "            metrics = ['accuracy']):\n",
        "    '''\n",
        "    Desctiption: Training function. Compile the model with different optimizers\n",
        "    ------------------------------------------------\n",
        "    Parameter:\n",
        "        model: keras Model\n",
        "        X_train, X_test, y_train, y_test: <numpy.array> training set and validation set, \n",
        "        batch_size: <int> batch size, defualt value is 128\n",
        "        epochs: <int> maximum epochs of training, defualt value is 50\n",
        "        opt: optimizer function, e.g. keras.optimizers.SGD\n",
        "        lr: learning rate, default value is 0.001\n",
        "        loss_type: <string> the name of loss function, for the classification task here, default value is 'categorical_crossentropy'\n",
        "        metrics: <string> the name of matric, for the classification task here, default value is 'accuracy'\n",
        "    -------------------------------------------------\n",
        "    return:\n",
        "        model:     |        | the keras model\n",
        "        train_loss | <list> | loss in training of each epoch\n",
        "        val_loss   | <list> | loss in validation of each epoch\n",
        "        train_auc  | <list> | AUC in training of each epoch\n",
        "        val_auc    | <list> | AUC in validation of each epoch\n",
        "    ----------------------------------------------------\n",
        "    Usage:\n",
        "    >>> model, loss = train(model,  X_train, X_test, Y_train, Y_test, opt = eval(optimizors[i]))\n",
        "    >>> print(loss['train_loss'], loss['val_loss'], loss['accuracy'], loss['val_accuracy'])\n",
        "    '''\n",
        "\n",
        "    model.compile(loss = loss_type, optimizer = opt(lr = lr), metrics = metrics)\n",
        "    history = model.fit(X_train, Y_train, validation_data = (X_test, Y_test), batch_size = batch_size, epochs = epochs, verbose = 2)\n",
        "    \n",
        "    train_loss = history.history[\"loss\"]\n",
        "    val_loss = history.history[\"val_loss\"]\n",
        "    train_auc = history.history[\"accuracy\"]\n",
        "    val_auc = history.history[\"val_accuracy\"]\n",
        "\n",
        "    return model, {\"loss\": train_loss, \"val_loss\": val_loss, \"accuracy\": train_auc, \"val_accuracy\": val_auc}"
      ],
      "execution_count": 6,
      "outputs": []
    },
    {
      "cell_type": "markdown",
      "metadata": {
        "id": "jgGqribYXZEf"
      },
      "source": [
        "* 定义函数`render_loss`，将四组`loss`画成**折线图**"
      ]
    },
    {
      "cell_type": "code",
      "metadata": {
        "id": "rJWwcbWISCnk"
      },
      "source": [
        "def render_loss(losses, name):\n",
        "    t = np.arange(len(losses[0]['loss']))\n",
        "    fig, axs = plt.subplots(2, 2, figsize=(12, 8), sharex = True, sharey = \"row\")\n",
        "    axs = axs.flatten()\n",
        "    for i, loss in enumerate(losses): # [\"SGD\", \"Momentum\", \"RMSprop\", \"Adam\"]\n",
        "        for j, l in enumerate(loss): # [\"loss\", \"val_loss\", \"accuracy\", \"val_accuracy\"]\n",
        "            axs[j].plot(t, loss[l], label = name[i])\n",
        "            axs[j].set_title(l)\n",
        "    plt.xlabel('Epochs')\n",
        "    plt.ylabel('loss') \n",
        "    plt.legend()\n",
        "    plt.show()"
      ],
      "execution_count": 7,
      "outputs": []
    },
    {
      "cell_type": "markdown",
      "metadata": {
        "id": "Qj8mhPzJXpdl"
      },
      "source": [
        "### 三、正式训练"
      ]
    },
    {
      "cell_type": "markdown",
      "metadata": {
        "id": "DBqEKFc9XxAJ"
      },
      "source": [
        "* optimizers 是四个优化器的名称，**和函数名一致**\n",
        "\n",
        "* 每一个循环中都会先**初始化新的模型**`model`，之后在`train()`中设定**不同的优化器**\n",
        "\n",
        "* `eval()`函数可以把**优化器名称**转化为**优化器函数**"
      ]
    },
    {
      "cell_type": "code",
      "metadata": {
        "id": "0faVky43T0QI",
        "outputId": "72b6755e-1fb2-42a7-f958-249cdc3b454d",
        "colab": {
          "base_uri": "https://localhost:8080/",
          "height": 1000
        }
      },
      "source": [
        "optimizers = [\"SGD\", \"Momentum\", \"RMSprop\", \"Adam\"]\n",
        "losses = [None]*4\n",
        "\n",
        "for i, opt in enumerate(optimizers):\n",
        "    print(\"=====================================\\n Training %s \\n\"%(opt))\n",
        "    model = NewModel()\n",
        "    model, loss = train(model,  X_train, X_test, Y_train, Y_test, epochs = 50, opt = eval(optimizers[i]))\n",
        "    losses[i] = loss"
      ],
      "execution_count": 15,
      "outputs": [
        {
          "output_type": "stream",
          "text": [
            "=====================================\n",
            " Training SGD \n",
            "\n",
            "Model: \"functional_17\"\n",
            "_________________________________________________________________\n",
            "Layer (type)                 Output Shape              Param #   \n",
            "=================================================================\n",
            "input_9 (InputLayer)         [(None, 28, 28)]          0         \n",
            "_________________________________________________________________\n",
            "flatten_8 (Flatten)          (None, 784)               0         \n",
            "_________________________________________________________________\n",
            "dense_16 (Dense)             (None, 1000)              785000    \n",
            "_________________________________________________________________\n",
            "dense_17 (Dense)             (None, 10)                10010     \n",
            "=================================================================\n",
            "Total params: 795,010\n",
            "Trainable params: 795,010\n",
            "Non-trainable params: 0\n",
            "_________________________________________________________________\n",
            "Epoch 1/50\n",
            "469/469 - 1s - loss: 5.1385 - accuracy: 0.9003 - val_loss: 0.8588 - val_accuracy: 0.9448\n",
            "Epoch 2/50\n",
            "469/469 - 1s - loss: 0.5361 - accuracy: 0.9555 - val_loss: 0.6234 - val_accuracy: 0.9517\n",
            "Epoch 3/50\n",
            "469/469 - 1s - loss: 0.2495 - accuracy: 0.9706 - val_loss: 0.5432 - val_accuracy: 0.9553\n",
            "Epoch 4/50\n",
            "469/469 - 1s - loss: 0.1223 - accuracy: 0.9817 - val_loss: 0.5180 - val_accuracy: 0.9559\n",
            "Epoch 5/50\n",
            "469/469 - 1s - loss: 0.0607 - accuracy: 0.9882 - val_loss: 0.5005 - val_accuracy: 0.9572\n",
            "Epoch 6/50\n",
            "469/469 - 1s - loss: 0.0292 - accuracy: 0.9936 - val_loss: 0.4814 - val_accuracy: 0.9611\n",
            "Epoch 7/50\n",
            "469/469 - 1s - loss: 0.0129 - accuracy: 0.9968 - val_loss: 0.4729 - val_accuracy: 0.9595\n",
            "Epoch 8/50\n",
            "469/469 - 1s - loss: 0.0057 - accuracy: 0.9987 - val_loss: 0.4731 - val_accuracy: 0.9597\n",
            "Epoch 9/50\n",
            "469/469 - 1s - loss: 0.0024 - accuracy: 0.9995 - val_loss: 0.4685 - val_accuracy: 0.9611\n",
            "Epoch 10/50\n",
            "469/469 - 1s - loss: 0.0012 - accuracy: 0.9999 - val_loss: 0.4681 - val_accuracy: 0.9608\n",
            "Epoch 11/50\n",
            "469/469 - 1s - loss: 6.2440e-04 - accuracy: 1.0000 - val_loss: 0.4688 - val_accuracy: 0.9602\n",
            "Epoch 12/50\n",
            "469/469 - 1s - loss: 4.6593e-04 - accuracy: 1.0000 - val_loss: 0.4669 - val_accuracy: 0.9609\n",
            "Epoch 13/50\n",
            "469/469 - 1s - loss: 3.8835e-04 - accuracy: 1.0000 - val_loss: 0.4669 - val_accuracy: 0.9610\n",
            "Epoch 14/50\n",
            "469/469 - 1s - loss: 3.4975e-04 - accuracy: 1.0000 - val_loss: 0.4669 - val_accuracy: 0.9610\n",
            "Epoch 15/50\n",
            "469/469 - 1s - loss: 3.2091e-04 - accuracy: 1.0000 - val_loss: 0.4664 - val_accuracy: 0.9612\n",
            "Epoch 16/50\n",
            "469/469 - 1s - loss: 2.9906e-04 - accuracy: 1.0000 - val_loss: 0.4662 - val_accuracy: 0.9614\n",
            "Epoch 17/50\n",
            "469/469 - 1s - loss: 2.8088e-04 - accuracy: 1.0000 - val_loss: 0.4659 - val_accuracy: 0.9611\n",
            "Epoch 18/50\n",
            "469/469 - 1s - loss: 2.6597e-04 - accuracy: 1.0000 - val_loss: 0.4661 - val_accuracy: 0.9613\n",
            "Epoch 19/50\n",
            "469/469 - 1s - loss: 2.5196e-04 - accuracy: 1.0000 - val_loss: 0.4661 - val_accuracy: 0.9614\n",
            "Epoch 20/50\n",
            "469/469 - 1s - loss: 2.4038e-04 - accuracy: 1.0000 - val_loss: 0.4658 - val_accuracy: 0.9613\n",
            "Epoch 21/50\n",
            "469/469 - 1s - loss: 2.2975e-04 - accuracy: 1.0000 - val_loss: 0.4658 - val_accuracy: 0.9613\n",
            "Epoch 22/50\n",
            "469/469 - 1s - loss: 2.2050e-04 - accuracy: 1.0000 - val_loss: 0.4656 - val_accuracy: 0.9615\n",
            "Epoch 23/50\n",
            "469/469 - 1s - loss: 2.1209e-04 - accuracy: 1.0000 - val_loss: 0.4656 - val_accuracy: 0.9615\n",
            "Epoch 24/50\n",
            "469/469 - 1s - loss: 2.0467e-04 - accuracy: 1.0000 - val_loss: 0.4653 - val_accuracy: 0.9615\n",
            "Epoch 25/50\n",
            "469/469 - 1s - loss: 1.9794e-04 - accuracy: 1.0000 - val_loss: 0.4654 - val_accuracy: 0.9616\n",
            "Epoch 26/50\n",
            "469/469 - 1s - loss: 1.9151e-04 - accuracy: 1.0000 - val_loss: 0.4653 - val_accuracy: 0.9617\n",
            "Epoch 27/50\n",
            "469/469 - 1s - loss: 1.8559e-04 - accuracy: 1.0000 - val_loss: 0.4652 - val_accuracy: 0.9617\n",
            "Epoch 28/50\n",
            "469/469 - 1s - loss: 1.8018e-04 - accuracy: 1.0000 - val_loss: 0.4653 - val_accuracy: 0.9616\n",
            "Epoch 29/50\n",
            "469/469 - 1s - loss: 1.7488e-04 - accuracy: 1.0000 - val_loss: 0.4651 - val_accuracy: 0.9617\n",
            "Epoch 30/50\n",
            "469/469 - 1s - loss: 1.7010e-04 - accuracy: 1.0000 - val_loss: 0.4651 - val_accuracy: 0.9617\n",
            "Epoch 31/50\n",
            "469/469 - 1s - loss: 1.6580e-04 - accuracy: 1.0000 - val_loss: 0.4651 - val_accuracy: 0.9617\n",
            "Epoch 32/50\n",
            "469/469 - 1s - loss: 1.6134e-04 - accuracy: 1.0000 - val_loss: 0.4650 - val_accuracy: 0.9617\n",
            "Epoch 33/50\n",
            "469/469 - 1s - loss: 1.5745e-04 - accuracy: 1.0000 - val_loss: 0.4649 - val_accuracy: 0.9617\n",
            "Epoch 34/50\n",
            "469/469 - 1s - loss: 1.5388e-04 - accuracy: 1.0000 - val_loss: 0.4649 - val_accuracy: 0.9616\n",
            "Epoch 35/50\n",
            "469/469 - 1s - loss: 1.5031e-04 - accuracy: 1.0000 - val_loss: 0.4649 - val_accuracy: 0.9616\n",
            "Epoch 36/50\n",
            "469/469 - 1s - loss: 1.4689e-04 - accuracy: 1.0000 - val_loss: 0.4648 - val_accuracy: 0.9617\n",
            "Epoch 37/50\n",
            "469/469 - 1s - loss: 1.4364e-04 - accuracy: 1.0000 - val_loss: 0.4646 - val_accuracy: 0.9617\n",
            "Epoch 38/50\n",
            "469/469 - 1s - loss: 1.4081e-04 - accuracy: 1.0000 - val_loss: 0.4646 - val_accuracy: 0.9618\n",
            "Epoch 39/50\n",
            "469/469 - 1s - loss: 1.3781e-04 - accuracy: 1.0000 - val_loss: 0.4646 - val_accuracy: 0.9617\n",
            "Epoch 40/50\n",
            "469/469 - 1s - loss: 1.3521e-04 - accuracy: 1.0000 - val_loss: 0.4646 - val_accuracy: 0.9616\n",
            "Epoch 41/50\n",
            "469/469 - 1s - loss: 1.3251e-04 - accuracy: 1.0000 - val_loss: 0.4644 - val_accuracy: 0.9617\n",
            "Epoch 42/50\n",
            "469/469 - 1s - loss: 1.3018e-04 - accuracy: 1.0000 - val_loss: 0.4644 - val_accuracy: 0.9618\n",
            "Epoch 43/50\n",
            "469/469 - 1s - loss: 1.2775e-04 - accuracy: 1.0000 - val_loss: 0.4644 - val_accuracy: 0.9618\n",
            "Epoch 44/50\n",
            "469/469 - 1s - loss: 1.2547e-04 - accuracy: 1.0000 - val_loss: 0.4643 - val_accuracy: 0.9618\n",
            "Epoch 45/50\n",
            "469/469 - 1s - loss: 1.2330e-04 - accuracy: 1.0000 - val_loss: 0.4644 - val_accuracy: 0.9616\n",
            "Epoch 46/50\n",
            "469/469 - 1s - loss: 1.2111e-04 - accuracy: 1.0000 - val_loss: 0.4643 - val_accuracy: 0.9616\n",
            "Epoch 47/50\n",
            "469/469 - 1s - loss: 1.1914e-04 - accuracy: 1.0000 - val_loss: 0.4642 - val_accuracy: 0.9617\n",
            "Epoch 48/50\n",
            "469/469 - 1s - loss: 1.1721e-04 - accuracy: 1.0000 - val_loss: 0.4643 - val_accuracy: 0.9616\n",
            "Epoch 49/50\n",
            "469/469 - 1s - loss: 1.1527e-04 - accuracy: 1.0000 - val_loss: 0.4642 - val_accuracy: 0.9616\n",
            "Epoch 50/50\n",
            "469/469 - 1s - loss: 1.1353e-04 - accuracy: 1.0000 - val_loss: 0.4642 - val_accuracy: 0.9616\n",
            "=====================================\n",
            " Training Momentum \n",
            "\n",
            "Model: \"functional_19\"\n",
            "_________________________________________________________________\n",
            "Layer (type)                 Output Shape              Param #   \n",
            "=================================================================\n",
            "input_10 (InputLayer)        [(None, 28, 28)]          0         \n",
            "_________________________________________________________________\n",
            "flatten_9 (Flatten)          (None, 784)               0         \n",
            "_________________________________________________________________\n",
            "dense_18 (Dense)             (None, 1000)              785000    \n",
            "_________________________________________________________________\n",
            "dense_19 (Dense)             (None, 10)                10010     \n",
            "=================================================================\n",
            "Total params: 795,010\n",
            "Trainable params: 795,010\n",
            "Non-trainable params: 0\n",
            "_________________________________________________________________\n",
            "Epoch 1/50\n",
            "469/469 - 1s - loss: 6.1375 - accuracy: 0.8793 - val_loss: 0.4649 - val_accuracy: 0.9163\n",
            "Epoch 2/50\n",
            "469/469 - 1s - loss: 0.2788 - accuracy: 0.9409 - val_loss: 0.3542 - val_accuracy: 0.9329\n",
            "Epoch 3/50\n",
            "469/469 - 1s - loss: 0.1593 - accuracy: 0.9610 - val_loss: 0.3299 - val_accuracy: 0.9412\n",
            "Epoch 4/50\n",
            "469/469 - 1s - loss: 0.1048 - accuracy: 0.9721 - val_loss: 0.2997 - val_accuracy: 0.9468\n",
            "Epoch 5/50\n",
            "469/469 - 1s - loss: 0.0728 - accuracy: 0.9791 - val_loss: 0.2873 - val_accuracy: 0.9482\n",
            "Epoch 6/50\n",
            "469/469 - 1s - loss: 0.0531 - accuracy: 0.9848 - val_loss: 0.2839 - val_accuracy: 0.9515\n",
            "Epoch 7/50\n",
            "469/469 - 1s - loss: 0.0409 - accuracy: 0.9884 - val_loss: 0.2777 - val_accuracy: 0.9525\n",
            "Epoch 8/50\n",
            "469/469 - 1s - loss: 0.0321 - accuracy: 0.9914 - val_loss: 0.2764 - val_accuracy: 0.9545\n",
            "Epoch 9/50\n",
            "469/469 - 1s - loss: 0.0259 - accuracy: 0.9932 - val_loss: 0.2726 - val_accuracy: 0.9563\n",
            "Epoch 10/50\n",
            "469/469 - 1s - loss: 0.0213 - accuracy: 0.9943 - val_loss: 0.2737 - val_accuracy: 0.9542\n",
            "Epoch 11/50\n",
            "469/469 - 1s - loss: 0.0181 - accuracy: 0.9956 - val_loss: 0.2734 - val_accuracy: 0.9559\n",
            "Epoch 12/50\n",
            "469/469 - 1s - loss: 0.0154 - accuracy: 0.9963 - val_loss: 0.2760 - val_accuracy: 0.9566\n",
            "Epoch 13/50\n",
            "469/469 - 1s - loss: 0.0133 - accuracy: 0.9971 - val_loss: 0.2761 - val_accuracy: 0.9566\n",
            "Epoch 14/50\n",
            "469/469 - 1s - loss: 0.0114 - accuracy: 0.9977 - val_loss: 0.2791 - val_accuracy: 0.9568\n",
            "Epoch 15/50\n",
            "469/469 - 1s - loss: 0.0101 - accuracy: 0.9980 - val_loss: 0.2795 - val_accuracy: 0.9568\n",
            "Epoch 16/50\n",
            "469/469 - 1s - loss: 0.0090 - accuracy: 0.9985 - val_loss: 0.2778 - val_accuracy: 0.9572\n",
            "Epoch 17/50\n",
            "469/469 - 1s - loss: 0.0081 - accuracy: 0.9986 - val_loss: 0.2805 - val_accuracy: 0.9575\n",
            "Epoch 18/50\n",
            "469/469 - 1s - loss: 0.0072 - accuracy: 0.9990 - val_loss: 0.2791 - val_accuracy: 0.9588\n",
            "Epoch 19/50\n",
            "469/469 - 1s - loss: 0.0066 - accuracy: 0.9990 - val_loss: 0.2801 - val_accuracy: 0.9587\n",
            "Epoch 20/50\n",
            "469/469 - 1s - loss: 0.0060 - accuracy: 0.9992 - val_loss: 0.2811 - val_accuracy: 0.9578\n",
            "Epoch 21/50\n",
            "469/469 - 1s - loss: 0.0054 - accuracy: 0.9994 - val_loss: 0.2840 - val_accuracy: 0.9586\n",
            "Epoch 22/50\n",
            "469/469 - 1s - loss: 0.0051 - accuracy: 0.9994 - val_loss: 0.2840 - val_accuracy: 0.9589\n",
            "Epoch 23/50\n",
            "469/469 - 1s - loss: 0.0046 - accuracy: 0.9995 - val_loss: 0.2823 - val_accuracy: 0.9593\n",
            "Epoch 24/50\n",
            "469/469 - 1s - loss: 0.0043 - accuracy: 0.9996 - val_loss: 0.2835 - val_accuracy: 0.9593\n",
            "Epoch 25/50\n",
            "469/469 - 1s - loss: 0.0039 - accuracy: 0.9996 - val_loss: 0.2839 - val_accuracy: 0.9592\n",
            "Epoch 26/50\n",
            "469/469 - 1s - loss: 0.0037 - accuracy: 0.9997 - val_loss: 0.2858 - val_accuracy: 0.9591\n",
            "Epoch 27/50\n",
            "469/469 - 1s - loss: 0.0034 - accuracy: 0.9997 - val_loss: 0.2866 - val_accuracy: 0.9597\n",
            "Epoch 28/50\n",
            "469/469 - 1s - loss: 0.0032 - accuracy: 0.9997 - val_loss: 0.2873 - val_accuracy: 0.9598\n",
            "Epoch 29/50\n",
            "469/469 - 1s - loss: 0.0031 - accuracy: 0.9998 - val_loss: 0.2864 - val_accuracy: 0.9598\n",
            "Epoch 30/50\n",
            "469/469 - 1s - loss: 0.0029 - accuracy: 0.9998 - val_loss: 0.2886 - val_accuracy: 0.9602\n",
            "Epoch 31/50\n",
            "469/469 - 1s - loss: 0.0027 - accuracy: 0.9998 - val_loss: 0.2882 - val_accuracy: 0.9595\n",
            "Epoch 32/50\n",
            "469/469 - 1s - loss: 0.0025 - accuracy: 0.9998 - val_loss: 0.2877 - val_accuracy: 0.9601\n",
            "Epoch 33/50\n",
            "469/469 - 1s - loss: 0.0024 - accuracy: 0.9998 - val_loss: 0.2882 - val_accuracy: 0.9608\n",
            "Epoch 34/50\n",
            "469/469 - 1s - loss: 0.0023 - accuracy: 0.9999 - val_loss: 0.2901 - val_accuracy: 0.9603\n",
            "Epoch 35/50\n",
            "469/469 - 1s - loss: 0.0021 - accuracy: 0.9999 - val_loss: 0.2896 - val_accuracy: 0.9600\n",
            "Epoch 36/50\n",
            "469/469 - 1s - loss: 0.0020 - accuracy: 0.9999 - val_loss: 0.2902 - val_accuracy: 0.9608\n",
            "Epoch 37/50\n",
            "469/469 - 1s - loss: 0.0020 - accuracy: 0.9999 - val_loss: 0.2912 - val_accuracy: 0.9602\n",
            "Epoch 38/50\n",
            "469/469 - 1s - loss: 0.0019 - accuracy: 0.9999 - val_loss: 0.2908 - val_accuracy: 0.9608\n",
            "Epoch 39/50\n",
            "469/469 - 1s - loss: 0.0018 - accuracy: 0.9999 - val_loss: 0.2916 - val_accuracy: 0.9609\n",
            "Epoch 40/50\n",
            "469/469 - 1s - loss: 0.0017 - accuracy: 0.9999 - val_loss: 0.2928 - val_accuracy: 0.9603\n",
            "Epoch 41/50\n",
            "469/469 - 1s - loss: 0.0016 - accuracy: 0.9999 - val_loss: 0.2923 - val_accuracy: 0.9603\n",
            "Epoch 42/50\n",
            "469/469 - 1s - loss: 0.0016 - accuracy: 0.9999 - val_loss: 0.2928 - val_accuracy: 0.9603\n",
            "Epoch 43/50\n",
            "469/469 - 1s - loss: 0.0015 - accuracy: 0.9999 - val_loss: 0.2938 - val_accuracy: 0.9605\n",
            "Epoch 44/50\n",
            "469/469 - 1s - loss: 0.0014 - accuracy: 0.9999 - val_loss: 0.2933 - val_accuracy: 0.9609\n",
            "Epoch 45/50\n",
            "469/469 - 1s - loss: 0.0014 - accuracy: 1.0000 - val_loss: 0.2936 - val_accuracy: 0.9610\n",
            "Epoch 46/50\n",
            "469/469 - 1s - loss: 0.0013 - accuracy: 0.9999 - val_loss: 0.2938 - val_accuracy: 0.9608\n",
            "Epoch 47/50\n",
            "469/469 - 1s - loss: 0.0013 - accuracy: 1.0000 - val_loss: 0.2941 - val_accuracy: 0.9611\n",
            "Epoch 48/50\n",
            "469/469 - 1s - loss: 0.0012 - accuracy: 1.0000 - val_loss: 0.2944 - val_accuracy: 0.9610\n",
            "Epoch 49/50\n",
            "469/469 - 1s - loss: 0.0012 - accuracy: 1.0000 - val_loss: 0.2947 - val_accuracy: 0.9611\n",
            "Epoch 50/50\n",
            "469/469 - 1s - loss: 0.0012 - accuracy: 1.0000 - val_loss: 0.2946 - val_accuracy: 0.9613\n",
            "=====================================\n",
            " Training RMSprop \n",
            "\n",
            "Model: \"functional_21\"\n",
            "_________________________________________________________________\n",
            "Layer (type)                 Output Shape              Param #   \n",
            "=================================================================\n",
            "input_11 (InputLayer)        [(None, 28, 28)]          0         \n",
            "_________________________________________________________________\n",
            "flatten_10 (Flatten)         (None, 784)               0         \n",
            "_________________________________________________________________\n",
            "dense_20 (Dense)             (None, 1000)              785000    \n",
            "_________________________________________________________________\n",
            "dense_21 (Dense)             (None, 10)                10010     \n",
            "=================================================================\n",
            "Total params: 795,010\n",
            "Trainable params: 795,010\n",
            "Non-trainable params: 0\n",
            "_________________________________________________________________\n",
            "Epoch 1/50\n",
            "469/469 - 1s - loss: 5.7466 - accuracy: 0.9072 - val_loss: 0.7551 - val_accuracy: 0.9527\n",
            "Epoch 2/50\n",
            "469/469 - 1s - loss: 0.6979 - accuracy: 0.9577 - val_loss: 0.7133 - val_accuracy: 0.9613\n",
            "Epoch 3/50\n",
            "469/469 - 1s - loss: 0.5086 - accuracy: 0.9685 - val_loss: 0.7067 - val_accuracy: 0.9601\n",
            "Epoch 4/50\n",
            "469/469 - 1s - loss: 0.4328 - accuracy: 0.9739 - val_loss: 0.7144 - val_accuracy: 0.9672\n",
            "Epoch 5/50\n",
            "469/469 - 1s - loss: 0.3782 - accuracy: 0.9772 - val_loss: 0.8460 - val_accuracy: 0.9648\n",
            "Epoch 6/50\n",
            "469/469 - 1s - loss: 0.3257 - accuracy: 0.9811 - val_loss: 0.6839 - val_accuracy: 0.9718\n",
            "Epoch 7/50\n",
            "469/469 - 1s - loss: 0.2895 - accuracy: 0.9838 - val_loss: 0.8469 - val_accuracy: 0.9671\n",
            "Epoch 8/50\n",
            "469/469 - 1s - loss: 0.2511 - accuracy: 0.9855 - val_loss: 0.9873 - val_accuracy: 0.9688\n",
            "Epoch 9/50\n",
            "469/469 - 1s - loss: 0.2644 - accuracy: 0.9868 - val_loss: 0.9248 - val_accuracy: 0.9731\n",
            "Epoch 10/50\n",
            "469/469 - 1s - loss: 0.2293 - accuracy: 0.9877 - val_loss: 0.9932 - val_accuracy: 0.9720\n",
            "Epoch 11/50\n",
            "469/469 - 1s - loss: 0.2324 - accuracy: 0.9890 - val_loss: 0.8989 - val_accuracy: 0.9760\n",
            "Epoch 12/50\n",
            "469/469 - 1s - loss: 0.2277 - accuracy: 0.9895 - val_loss: 1.0299 - val_accuracy: 0.9720\n",
            "Epoch 13/50\n",
            "469/469 - 1s - loss: 0.1974 - accuracy: 0.9906 - val_loss: 1.1393 - val_accuracy: 0.9715\n",
            "Epoch 14/50\n",
            "469/469 - 1s - loss: 0.1784 - accuracy: 0.9913 - val_loss: 1.0676 - val_accuracy: 0.9741\n",
            "Epoch 15/50\n",
            "469/469 - 1s - loss: 0.1793 - accuracy: 0.9916 - val_loss: 1.0603 - val_accuracy: 0.9764\n",
            "Epoch 16/50\n",
            "469/469 - 1s - loss: 0.1811 - accuracy: 0.9920 - val_loss: 0.9316 - val_accuracy: 0.9791\n",
            "Epoch 17/50\n",
            "469/469 - 1s - loss: 0.1401 - accuracy: 0.9934 - val_loss: 1.1313 - val_accuracy: 0.9762\n",
            "Epoch 18/50\n",
            "469/469 - 1s - loss: 0.1481 - accuracy: 0.9934 - val_loss: 1.0460 - val_accuracy: 0.9792\n",
            "Epoch 19/50\n",
            "469/469 - 1s - loss: 0.1445 - accuracy: 0.9935 - val_loss: 1.1951 - val_accuracy: 0.9753\n",
            "Epoch 20/50\n",
            "469/469 - 1s - loss: 0.1489 - accuracy: 0.9935 - val_loss: 1.2937 - val_accuracy: 0.9731\n",
            "Epoch 21/50\n",
            "469/469 - 1s - loss: 0.1386 - accuracy: 0.9939 - val_loss: 1.2024 - val_accuracy: 0.9771\n",
            "Epoch 22/50\n",
            "469/469 - 1s - loss: 0.1479 - accuracy: 0.9938 - val_loss: 1.2680 - val_accuracy: 0.9762\n",
            "Epoch 23/50\n",
            "469/469 - 1s - loss: 0.1217 - accuracy: 0.9948 - val_loss: 1.3419 - val_accuracy: 0.9763\n",
            "Epoch 24/50\n",
            "469/469 - 1s - loss: 0.0912 - accuracy: 0.9956 - val_loss: 0.9635 - val_accuracy: 0.9796\n",
            "Epoch 25/50\n",
            "469/469 - 1s - loss: 0.1259 - accuracy: 0.9949 - val_loss: 1.1762 - val_accuracy: 0.9799\n",
            "Epoch 26/50\n",
            "469/469 - 1s - loss: 0.0968 - accuracy: 0.9957 - val_loss: 1.2543 - val_accuracy: 0.9774\n",
            "Epoch 27/50\n",
            "469/469 - 1s - loss: 0.1086 - accuracy: 0.9957 - val_loss: 1.1482 - val_accuracy: 0.9809\n",
            "Epoch 28/50\n",
            "469/469 - 1s - loss: 0.1136 - accuracy: 0.9959 - val_loss: 1.1746 - val_accuracy: 0.9786\n",
            "Epoch 29/50\n",
            "469/469 - 1s - loss: 0.0978 - accuracy: 0.9960 - val_loss: 1.2339 - val_accuracy: 0.9788\n",
            "Epoch 30/50\n",
            "469/469 - 1s - loss: 0.0937 - accuracy: 0.9957 - val_loss: 1.2817 - val_accuracy: 0.9801\n",
            "Epoch 31/50\n",
            "469/469 - 1s - loss: 0.0883 - accuracy: 0.9961 - val_loss: 1.2032 - val_accuracy: 0.9792\n",
            "Epoch 32/50\n",
            "469/469 - 1s - loss: 0.0675 - accuracy: 0.9968 - val_loss: 1.3545 - val_accuracy: 0.9793\n",
            "Epoch 33/50\n",
            "469/469 - 1s - loss: 0.0881 - accuracy: 0.9966 - val_loss: 1.3813 - val_accuracy: 0.9787\n",
            "Epoch 34/50\n",
            "469/469 - 1s - loss: 0.0682 - accuracy: 0.9970 - val_loss: 1.4546 - val_accuracy: 0.9780\n",
            "Epoch 35/50\n",
            "469/469 - 1s - loss: 0.0664 - accuracy: 0.9973 - val_loss: 1.3867 - val_accuracy: 0.9786\n",
            "Epoch 36/50\n",
            "469/469 - 1s - loss: 0.0646 - accuracy: 0.9973 - val_loss: 1.4059 - val_accuracy: 0.9799\n",
            "Epoch 37/50\n",
            "469/469 - 1s - loss: 0.0560 - accuracy: 0.9976 - val_loss: 1.6086 - val_accuracy: 0.9777\n",
            "Epoch 38/50\n",
            "469/469 - 1s - loss: 0.0898 - accuracy: 0.9966 - val_loss: 1.4676 - val_accuracy: 0.9787\n",
            "Epoch 39/50\n",
            "469/469 - 1s - loss: 0.0715 - accuracy: 0.9971 - val_loss: 1.4357 - val_accuracy: 0.9804\n",
            "Epoch 40/50\n",
            "469/469 - 1s - loss: 0.0726 - accuracy: 0.9971 - val_loss: 1.4129 - val_accuracy: 0.9804\n",
            "Epoch 41/50\n",
            "469/469 - 1s - loss: 0.0523 - accuracy: 0.9977 - val_loss: 1.4345 - val_accuracy: 0.9787\n",
            "Epoch 42/50\n",
            "469/469 - 1s - loss: 0.0541 - accuracy: 0.9977 - val_loss: 1.3111 - val_accuracy: 0.9813\n",
            "Epoch 43/50\n",
            "469/469 - 1s - loss: 0.0693 - accuracy: 0.9973 - val_loss: 1.6302 - val_accuracy: 0.9802\n",
            "Epoch 44/50\n",
            "469/469 - 1s - loss: 0.0498 - accuracy: 0.9981 - val_loss: 1.5942 - val_accuracy: 0.9774\n",
            "Epoch 45/50\n",
            "469/469 - 1s - loss: 0.0435 - accuracy: 0.9981 - val_loss: 1.5904 - val_accuracy: 0.9789\n",
            "Epoch 46/50\n",
            "469/469 - 1s - loss: 0.0565 - accuracy: 0.9980 - val_loss: 1.4445 - val_accuracy: 0.9811\n",
            "Epoch 47/50\n",
            "469/469 - 1s - loss: 0.0532 - accuracy: 0.9978 - val_loss: 1.5422 - val_accuracy: 0.9797\n",
            "Epoch 48/50\n",
            "469/469 - 1s - loss: 0.0482 - accuracy: 0.9980 - val_loss: 1.5009 - val_accuracy: 0.9801\n",
            "Epoch 49/50\n",
            "469/469 - 1s - loss: 0.0561 - accuracy: 0.9979 - val_loss: 1.5625 - val_accuracy: 0.9800\n",
            "Epoch 50/50\n",
            "469/469 - 1s - loss: 0.0557 - accuracy: 0.9980 - val_loss: 1.4739 - val_accuracy: 0.9805\n",
            "=====================================\n",
            " Training Adam \n",
            "\n",
            "Model: \"functional_23\"\n",
            "_________________________________________________________________\n",
            "Layer (type)                 Output Shape              Param #   \n",
            "=================================================================\n",
            "input_12 (InputLayer)        [(None, 28, 28)]          0         \n",
            "_________________________________________________________________\n",
            "flatten_11 (Flatten)         (None, 784)               0         \n",
            "_________________________________________________________________\n",
            "dense_22 (Dense)             (None, 1000)              785000    \n",
            "_________________________________________________________________\n",
            "dense_23 (Dense)             (None, 10)                10010     \n",
            "=================================================================\n",
            "Total params: 795,010\n",
            "Trainable params: 795,010\n",
            "Non-trainable params: 0\n",
            "_________________________________________________________________\n",
            "Epoch 1/50\n",
            "469/469 - 1s - loss: 3.9039 - accuracy: 0.9178 - val_loss: 0.6892 - val_accuracy: 0.9449\n",
            "Epoch 2/50\n",
            "469/469 - 1s - loss: 0.4121 - accuracy: 0.9607 - val_loss: 0.4494 - val_accuracy: 0.9597\n",
            "Epoch 3/50\n",
            "469/469 - 1s - loss: 0.2264 - accuracy: 0.9707 - val_loss: 0.4152 - val_accuracy: 0.9578\n",
            "Epoch 4/50\n",
            "469/469 - 1s - loss: 0.1936 - accuracy: 0.9742 - val_loss: 0.4162 - val_accuracy: 0.9632\n",
            "Epoch 5/50\n",
            "469/469 - 1s - loss: 0.1862 - accuracy: 0.9751 - val_loss: 0.4254 - val_accuracy: 0.9606\n",
            "Epoch 6/50\n",
            "469/469 - 1s - loss: 0.1799 - accuracy: 0.9751 - val_loss: 0.4004 - val_accuracy: 0.9653\n",
            "Epoch 7/50\n",
            "469/469 - 1s - loss: 0.1919 - accuracy: 0.9747 - val_loss: 0.4389 - val_accuracy: 0.9627\n",
            "Epoch 8/50\n",
            "469/469 - 1s - loss: 0.1871 - accuracy: 0.9762 - val_loss: 0.4081 - val_accuracy: 0.9657\n",
            "Epoch 9/50\n",
            "469/469 - 1s - loss: 0.1848 - accuracy: 0.9767 - val_loss: 0.4957 - val_accuracy: 0.9645\n",
            "Epoch 10/50\n",
            "469/469 - 1s - loss: 0.1764 - accuracy: 0.9781 - val_loss: 0.4323 - val_accuracy: 0.9671\n",
            "Epoch 11/50\n",
            "469/469 - 1s - loss: 0.1676 - accuracy: 0.9792 - val_loss: 0.4671 - val_accuracy: 0.9628\n",
            "Epoch 12/50\n",
            "469/469 - 1s - loss: 0.1806 - accuracy: 0.9784 - val_loss: 0.4024 - val_accuracy: 0.9700\n",
            "Epoch 13/50\n",
            "469/469 - 1s - loss: 0.1460 - accuracy: 0.9825 - val_loss: 0.4896 - val_accuracy: 0.9642\n",
            "Epoch 14/50\n",
            "469/469 - 1s - loss: 0.1758 - accuracy: 0.9796 - val_loss: 0.4467 - val_accuracy: 0.9685\n",
            "Epoch 15/50\n",
            "469/469 - 1s - loss: 0.1362 - accuracy: 0.9847 - val_loss: 0.5143 - val_accuracy: 0.9681\n",
            "Epoch 16/50\n",
            "469/469 - 1s - loss: 0.1402 - accuracy: 0.9838 - val_loss: 0.4426 - val_accuracy: 0.9708\n",
            "Epoch 17/50\n",
            "469/469 - 1s - loss: 0.1255 - accuracy: 0.9849 - val_loss: 0.5611 - val_accuracy: 0.9637\n",
            "Epoch 18/50\n",
            "469/469 - 1s - loss: 0.1264 - accuracy: 0.9861 - val_loss: 0.7108 - val_accuracy: 0.9646\n",
            "Epoch 19/50\n",
            "469/469 - 1s - loss: 0.1451 - accuracy: 0.9849 - val_loss: 0.6913 - val_accuracy: 0.9649\n",
            "Epoch 20/50\n",
            "469/469 - 1s - loss: 0.1297 - accuracy: 0.9872 - val_loss: 0.5384 - val_accuracy: 0.9690\n",
            "Epoch 21/50\n",
            "469/469 - 1s - loss: 0.1228 - accuracy: 0.9872 - val_loss: 0.8023 - val_accuracy: 0.9666\n",
            "Epoch 22/50\n",
            "469/469 - 1s - loss: 0.1250 - accuracy: 0.9882 - val_loss: 0.7539 - val_accuracy: 0.9664\n",
            "Epoch 23/50\n",
            "469/469 - 1s - loss: 0.1262 - accuracy: 0.9879 - val_loss: 0.6560 - val_accuracy: 0.9725\n",
            "Epoch 24/50\n",
            "469/469 - 1s - loss: 0.1032 - accuracy: 0.9897 - val_loss: 0.8177 - val_accuracy: 0.9682\n",
            "Epoch 25/50\n",
            "469/469 - 1s - loss: 0.1207 - accuracy: 0.9891 - val_loss: 0.7823 - val_accuracy: 0.9727\n",
            "Epoch 26/50\n",
            "469/469 - 1s - loss: 0.0940 - accuracy: 0.9904 - val_loss: 0.9017 - val_accuracy: 0.9685\n",
            "Epoch 27/50\n",
            "469/469 - 1s - loss: 0.1133 - accuracy: 0.9902 - val_loss: 0.6794 - val_accuracy: 0.9740\n",
            "Epoch 28/50\n",
            "469/469 - 1s - loss: 0.0894 - accuracy: 0.9914 - val_loss: 0.8848 - val_accuracy: 0.9703\n",
            "Epoch 29/50\n",
            "469/469 - 1s - loss: 0.1206 - accuracy: 0.9902 - val_loss: 1.0306 - val_accuracy: 0.9678\n",
            "Epoch 30/50\n",
            "469/469 - 1s - loss: 0.1497 - accuracy: 0.9900 - val_loss: 0.8872 - val_accuracy: 0.9723\n",
            "Epoch 31/50\n",
            "469/469 - 1s - loss: 0.0768 - accuracy: 0.9929 - val_loss: 0.8273 - val_accuracy: 0.9747\n",
            "Epoch 32/50\n",
            "469/469 - 1s - loss: 0.0937 - accuracy: 0.9926 - val_loss: 0.9252 - val_accuracy: 0.9735\n",
            "Epoch 33/50\n",
            "469/469 - 1s - loss: 0.1010 - accuracy: 0.9922 - val_loss: 0.8702 - val_accuracy: 0.9724\n",
            "Epoch 34/50\n",
            "469/469 - 1s - loss: 0.1049 - accuracy: 0.9922 - val_loss: 1.0210 - val_accuracy: 0.9740\n",
            "Epoch 35/50\n",
            "469/469 - 1s - loss: 0.1222 - accuracy: 0.9920 - val_loss: 1.0355 - val_accuracy: 0.9726\n",
            "Epoch 36/50\n",
            "469/469 - 1s - loss: 0.0935 - accuracy: 0.9935 - val_loss: 1.2287 - val_accuracy: 0.9715\n",
            "Epoch 37/50\n",
            "469/469 - 1s - loss: 0.1051 - accuracy: 0.9936 - val_loss: 1.2061 - val_accuracy: 0.9707\n",
            "Epoch 38/50\n",
            "469/469 - 1s - loss: 0.0751 - accuracy: 0.9944 - val_loss: 1.0377 - val_accuracy: 0.9757\n",
            "Epoch 39/50\n",
            "469/469 - 1s - loss: 0.0988 - accuracy: 0.9934 - val_loss: 1.3705 - val_accuracy: 0.9719\n",
            "Epoch 40/50\n",
            "469/469 - 1s - loss: 0.1142 - accuracy: 0.9933 - val_loss: 1.2613 - val_accuracy: 0.9737\n",
            "Epoch 41/50\n",
            "469/469 - 1s - loss: 0.1258 - accuracy: 0.9933 - val_loss: 1.2376 - val_accuracy: 0.9700\n",
            "Epoch 42/50\n",
            "469/469 - 1s - loss: 0.0827 - accuracy: 0.9948 - val_loss: 1.1736 - val_accuracy: 0.9743\n",
            "Epoch 43/50\n",
            "469/469 - 1s - loss: 0.0953 - accuracy: 0.9942 - val_loss: 1.3882 - val_accuracy: 0.9724\n",
            "Epoch 44/50\n",
            "469/469 - 1s - loss: 0.0830 - accuracy: 0.9949 - val_loss: 1.3254 - val_accuracy: 0.9735\n",
            "Epoch 45/50\n",
            "469/469 - 1s - loss: 0.0895 - accuracy: 0.9949 - val_loss: 1.3855 - val_accuracy: 0.9744\n",
            "Epoch 46/50\n",
            "469/469 - 1s - loss: 0.1059 - accuracy: 0.9944 - val_loss: 1.3241 - val_accuracy: 0.9746\n",
            "Epoch 47/50\n",
            "469/469 - 1s - loss: 0.0644 - accuracy: 0.9958 - val_loss: 1.3824 - val_accuracy: 0.9734\n",
            "Epoch 48/50\n",
            "469/469 - 1s - loss: 0.1009 - accuracy: 0.9950 - val_loss: 1.4445 - val_accuracy: 0.9727\n",
            "Epoch 49/50\n",
            "469/469 - 1s - loss: 0.1072 - accuracy: 0.9942 - val_loss: 1.4118 - val_accuracy: 0.9766\n",
            "Epoch 50/50\n",
            "469/469 - 1s - loss: 0.0846 - accuracy: 0.9956 - val_loss: 1.4530 - val_accuracy: 0.9777\n"
          ],
          "name": "stdout"
        }
      ]
    },
    {
      "cell_type": "markdown",
      "metadata": {
        "id": "6LCiRcs3YQK9"
      },
      "source": [
        "#### 画图"
      ]
    },
    {
      "cell_type": "code",
      "metadata": {
        "id": "y4Cg5CRbXBAd",
        "outputId": "29191af0-b0c2-4c46-85e6-c69d7688c06b",
        "colab": {
          "base_uri": "https://localhost:8080/",
          "height": 513
        }
      },
      "source": [
        "render_loss(losses, optimizers)"
      ],
      "execution_count": 16,
      "outputs": [
        {
          "output_type": "display_data",
          "data": {
            "image/png": "[encoded data removed]",
            "text/plain": [
              "<Figure size 864x576 with 4 Axes>"
            ]
          },
          "metadata": {
            "tags": [],
            "needs_background": "light"
          }
        }
      ]
    },
    {
      "cell_type": "markdown",
      "metadata": {
        "id": "lrdeKN1IqxHx"
      },
      "source": [
        "### 四、结果分析"
      ]
    },
    {
      "cell_type": "markdown",
      "metadata": {
        "id": "VL2uHeGXq3tC"
      },
      "source": [
        "#### 不同优化器的比较\n",
        "\n",
        "* 收敛速度\n",
        "\n",
        "  比较四个模型在训练集上loss下降的速度，可以看出在学习率相同 (0.001) 的情况下，**收敛速度最快**的是 Momentum 和 SGD 方法；速度**最慢**的是RMSprop方法\n",
        "\n",
        "\n",
        "* 收敛点的稳定性\n",
        "  \n",
        "  比较测试集上AUC的变化和loss的变化，发现Adam和RMSprop数值波动很大，和其他两个相比**不太稳定**。\n",
        "\n",
        "* 泛化能力\n",
        "\n",
        "  通过比较测试集上loss的变化情况，发现RMSprop**最早**出现了validation上loss增加（**过拟合**）的情况。虽然Adam基本达到了**测试集上loss最小的位置**，但是也出现了**过拟合**的现象。相比较而言，SGD和Momentum**没有出现过拟合**，并且Momentum的**loss更低**。\n",
        "\n",
        "  但不太一样的是，比较测试集上AUC的表现，Adam和RMSprop能达到更好的预测，RMSprop略高于Adam。\n",
        "\n",
        "\n",
        "\n"
      ]
    },
    {
      "cell_type": "markdown",
      "metadata": {
        "id": "1A5GDQJnrLTb"
      },
      "source": [
        "#### loss和AUC的不一致性的讨论"
      ]
    },
    {
      "cell_type": "markdown",
      "metadata": {
        "id": "eFpQPIYeql-S"
      },
      "source": [
        "> Suppose there are 3 classes- dog, cat and horse. For our case, the correct class is horse . Now, the output of the softmax is [0.9, 0.1]. For this loss ~ 0.37. The classifier will predict that it is a horse. Take another case where softmax output is [0.6, 0.4]. Loss ~ 0.6. The classifier will still predict that it is a horse. But surely, the loss has increased. So, it is all about the output distribution.\n",
        "\n",
        "https://stats.stackexchange.com/questions/282160/how-is-it-possible-that-validation-loss-is-increasing-while-validation-accuracy"
      ]
    },
    {
      "cell_type": "markdown",
      "metadata": {
        "id": "cTk4SAdJCB9Q"
      },
      "source": [
        "loss和AUC并不是永远保持一致的，在预测结果不变（AUC不变）的情况下，loss的数值也依然会发生变化，这也可以解释为什么Adam和RMSprop在测试集上收敛到更高的AUC，但是loss却很大。"
      ]
    }
  ]
}