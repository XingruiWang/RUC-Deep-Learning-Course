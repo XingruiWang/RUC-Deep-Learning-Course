{
  "nbformat": 4,
  "nbformat_minor": 0,
  "metadata": {
    "kernelspec": {
      "display_name": "Python 3",
      "language": "python",
      "name": "python3"
    },
    "language_info": {
      "codemirror_mode": {
        "name": "ipython",
        "version": 3
      },
      "file_extension": ".py",
      "mimetype": "text/x-python",
      "name": "python",
      "nbconvert_exporter": "python",
      "pygments_lexer": "ipython3",
      "version": "3.7.6"
    },
    "colab": {
      "name": "Code2_optimizer comparison-homework.ipynb",
      "provenance": []
    },
    "accelerator": "GPU"
  },
  "cells": [
    {
      "cell_type": "code",
      "metadata": {
        "id": "PfQrJ_28DkGk",
        "outputId": "5607afcc-967d-4d7a-c0a3-3a1755df0aad",
        "colab": {
          "base_uri": "https://localhost:8080/",
          "height": 69
        }
      },
      "source": [
        "from google.colab import drive\n",
        "drive.mount('/content/gdrive')\n",
        "%cd /content/gdrive/My\\ Drive/RUC/DeepLearning/course7\n",
        "!ls"
      ],
      "execution_count": 4,
      "outputs": [
        {
          "output_type": "stream",
          "text": [
            "Mounted at /content/gdrive\n",
            "/content/gdrive/My Drive/RUC/DeepLearning/course7\n",
            "data_facescore\tdata_foodscore\tFoodScore.csv  程序\n"
          ],
          "name": "stdout"
        }
      ]
    },
    {
      "cell_type": "markdown",
      "metadata": {
        "id": "sk0KrRPS56gE"
      },
      "source": [
        "### 几中不同优化算法的比较"
      ]
    },
    {
      "cell_type": "code",
      "metadata": {
        "id": "0Ac4d7qu56gF"
      },
      "source": [
        "# 载入必要的函数库\n",
        "import numpy as np\n",
        "import matplotlib.pyplot as plt\n",
        "\n",
        "import tensorflow as tf\n",
        "from keras import Model\n",
        "from keras.layers import Dense,Flatten,Input\n",
        "from keras.optimizers import SGD,RMSprop,Adam\n",
        "\n",
        "from keras.utils import to_categorical "
      ],
      "execution_count": 9,
      "outputs": []
    },
    {
      "cell_type": "code",
      "metadata": {
        "id": "4gTRdsJs56gI",
        "outputId": "2efb3ef5-2e68-41ff-9e6e-865088457408",
        "colab": {
          "base_uri": "https://localhost:8080/",
          "height": 52
        }
      },
      "source": [
        "## 载入mnist数据集\n",
        "mnist = tf.keras.datasets.mnist\n",
        "(X_train, y_train), (X_test, y_test) = mnist.load_data() \n",
        "\n",
        "## 转换为one - hot型向量\n",
        "Y_train=to_categorical(y_train)\n",
        "Y_test=to_categorical(y_test)\n",
        "\n",
        "print(Y_train.shape)\n",
        "print(Y_train[0])"
      ],
      "execution_count": 10,
      "outputs": [
        {
          "output_type": "stream",
          "text": [
            "(60000, 10)\n",
            "[0. 0. 0. 0. 0. 1. 0. 0. 0. 0.]\n"
          ],
          "name": "stdout"
        }
      ]
    },
    {
      "cell_type": "code",
      "metadata": {
        "id": "poCLxLU356gL",
        "outputId": "3aaf62ed-03f7-4a2a-f37a-738b6c2f1da0",
        "colab": {
          "base_uri": "https://localhost:8080/",
          "height": 1000
        }
      },
      "source": [
        "'''\n",
        " 实验：构建 Multi-layer Nueral Network 模型 \n",
        "'''\n",
        "\n",
        "##  第一步  创建模型结构 ##\n",
        "\n",
        "IMSIZE = 28                                               \n",
        "input_layer = Input([IMSIZE,IMSIZE])       # MNIST图像为28*28的单层图片\n",
        "x = input_layer                              \n",
        "x = Flatten()(input_layer)                   # 将28*28*1的Tensor拉直为784维向量\n",
        "x = Dense(1000,activation = 'relu')(x)       # 全连接到1000个节点，并采用relu激活函数\n",
        "x = Dense(10,activation = 'softmax')(x)      # 全连接到10个节点，并采用softmax激活函数转化为(0,1)取值\n",
        "output_layer=x\n",
        "model=Model(input_layer,output_layer)    # Model函数将input_layer 和 output_layer中间的部分连接起来\n",
        "model.summary()\n",
        "\n",
        "##  第二步  模型编译 ##\n",
        "\n",
        "model.compile(loss='categorical_crossentropy',optimizer=SGD(lr=0.001),metrics=['accuracy'])\n",
        "\n",
        "##  第三步  模型拟合 ##\n",
        "\n",
        "history1 = model.fit(X_train,Y_train, validation_data=(X_test,Y_test), batch_size=1000, epochs=50)\n",
        "\n",
        "# 第四部  提取loss指标\n",
        "# model.fit会返回一个history对象，里面记录了训练集和测试集的loss以及acc\n",
        "# 我们将这些指标取出，绘制折线图\n",
        "\n",
        "train_loss1 = history1.history[\"loss\"]"
      ],
      "execution_count": 11,
      "outputs": [
        {
          "output_type": "stream",
          "text": [
            "Model: \"functional_3\"\n",
            "_________________________________________________________________\n",
            "Layer (type)                 Output Shape              Param #   \n",
            "=================================================================\n",
            "input_2 (InputLayer)         [(None, 28, 28)]          0         \n",
            "_________________________________________________________________\n",
            "flatten_1 (Flatten)          (None, 784)               0         \n",
            "_________________________________________________________________\n",
            "dense_2 (Dense)              (None, 1000)              785000    \n",
            "_________________________________________________________________\n",
            "dense_3 (Dense)              (None, 10)                10010     \n",
            "=================================================================\n",
            "Total params: 795,010\n",
            "Trainable params: 795,010\n",
            "Non-trainable params: 0\n",
            "_________________________________________________________________\n",
            "Epoch 1/50\n",
            "60/60 [==============================] - 0s 7ms/step - loss: 24.9132 - accuracy: 0.7991 - val_loss: 2.7134 - val_accuracy: 0.8918\n",
            "Epoch 2/50\n",
            "60/60 [==============================] - 0s 4ms/step - loss: 2.1681 - accuracy: 0.9036 - val_loss: 1.9669 - val_accuracy: 0.9074\n",
            "Epoch 3/50\n",
            "60/60 [==============================] - 0s 4ms/step - loss: 1.5104 - accuracy: 0.9219 - val_loss: 1.6171 - val_accuracy: 0.9146\n",
            "Epoch 4/50\n",
            "60/60 [==============================] - 0s 4ms/step - loss: 1.1619 - accuracy: 0.9325 - val_loss: 1.4253 - val_accuracy: 0.9208\n",
            "Epoch 5/50\n",
            "60/60 [==============================] - 0s 4ms/step - loss: 0.9387 - accuracy: 0.9398 - val_loss: 1.2867 - val_accuracy: 0.9272\n",
            "Epoch 6/50\n",
            "60/60 [==============================] - 0s 4ms/step - loss: 0.7710 - accuracy: 0.9473 - val_loss: 1.1975 - val_accuracy: 0.9297\n",
            "Epoch 7/50\n",
            "60/60 [==============================] - 0s 4ms/step - loss: 0.6445 - accuracy: 0.9530 - val_loss: 1.1160 - val_accuracy: 0.9330\n",
            "Epoch 8/50\n",
            "60/60 [==============================] - 0s 4ms/step - loss: 0.5461 - accuracy: 0.9574 - val_loss: 1.0774 - val_accuracy: 0.9333\n",
            "Epoch 9/50\n",
            "60/60 [==============================] - 0s 4ms/step - loss: 0.4697 - accuracy: 0.9613 - val_loss: 1.0253 - val_accuracy: 0.9351\n",
            "Epoch 10/50\n",
            "60/60 [==============================] - 0s 4ms/step - loss: 0.4051 - accuracy: 0.9646 - val_loss: 0.9926 - val_accuracy: 0.9370\n",
            "Epoch 11/50\n",
            "60/60 [==============================] - 0s 4ms/step - loss: 0.3523 - accuracy: 0.9685 - val_loss: 0.9651 - val_accuracy: 0.9372\n",
            "Epoch 12/50\n",
            "60/60 [==============================] - 0s 4ms/step - loss: 0.3065 - accuracy: 0.9711 - val_loss: 0.9431 - val_accuracy: 0.9371\n",
            "Epoch 13/50\n",
            "60/60 [==============================] - 0s 4ms/step - loss: 0.2692 - accuracy: 0.9742 - val_loss: 0.9374 - val_accuracy: 0.9370\n",
            "Epoch 14/50\n",
            "60/60 [==============================] - 0s 4ms/step - loss: 0.2368 - accuracy: 0.9756 - val_loss: 0.9199 - val_accuracy: 0.9389\n",
            "Epoch 15/50\n",
            "60/60 [==============================] - 0s 4ms/step - loss: 0.2074 - accuracy: 0.9790 - val_loss: 0.9042 - val_accuracy: 0.9391\n",
            "Epoch 16/50\n",
            "60/60 [==============================] - 0s 4ms/step - loss: 0.1835 - accuracy: 0.9805 - val_loss: 0.8953 - val_accuracy: 0.9395\n",
            "Epoch 17/50\n",
            "60/60 [==============================] - 0s 4ms/step - loss: 0.1616 - accuracy: 0.9830 - val_loss: 0.8833 - val_accuracy: 0.9399\n",
            "Epoch 18/50\n",
            "60/60 [==============================] - 0s 4ms/step - loss: 0.1438 - accuracy: 0.9847 - val_loss: 0.8837 - val_accuracy: 0.9391\n",
            "Epoch 19/50\n",
            "60/60 [==============================] - 0s 4ms/step - loss: 0.1277 - accuracy: 0.9864 - val_loss: 0.8717 - val_accuracy: 0.9403\n",
            "Epoch 20/50\n",
            "60/60 [==============================] - 0s 4ms/step - loss: 0.1141 - accuracy: 0.9873 - val_loss: 0.8719 - val_accuracy: 0.9398\n",
            "Epoch 21/50\n",
            "60/60 [==============================] - 0s 4ms/step - loss: 0.1009 - accuracy: 0.9891 - val_loss: 0.8598 - val_accuracy: 0.9405\n",
            "Epoch 22/50\n",
            "60/60 [==============================] - 0s 4ms/step - loss: 0.0902 - accuracy: 0.9904 - val_loss: 0.8554 - val_accuracy: 0.9402\n",
            "Epoch 23/50\n",
            "60/60 [==============================] - 0s 4ms/step - loss: 0.0807 - accuracy: 0.9909 - val_loss: 0.8533 - val_accuracy: 0.9403\n",
            "Epoch 24/50\n",
            "60/60 [==============================] - 0s 4ms/step - loss: 0.0716 - accuracy: 0.9920 - val_loss: 0.8494 - val_accuracy: 0.9408\n",
            "Epoch 25/50\n",
            "60/60 [==============================] - 0s 4ms/step - loss: 0.0639 - accuracy: 0.9928 - val_loss: 0.8473 - val_accuracy: 0.9401\n",
            "Epoch 26/50\n",
            "60/60 [==============================] - 0s 4ms/step - loss: 0.0567 - accuracy: 0.9933 - val_loss: 0.8400 - val_accuracy: 0.9400\n",
            "Epoch 27/50\n",
            "60/60 [==============================] - 0s 4ms/step - loss: 0.0503 - accuracy: 0.9944 - val_loss: 0.8388 - val_accuracy: 0.9401\n",
            "Epoch 28/50\n",
            "60/60 [==============================] - 0s 4ms/step - loss: 0.0445 - accuracy: 0.9949 - val_loss: 0.8354 - val_accuracy: 0.9404\n",
            "Epoch 29/50\n",
            "60/60 [==============================] - 0s 4ms/step - loss: 0.0399 - accuracy: 0.9956 - val_loss: 0.8371 - val_accuracy: 0.9401\n",
            "Epoch 30/50\n",
            "60/60 [==============================] - 0s 4ms/step - loss: 0.0353 - accuracy: 0.9962 - val_loss: 0.8314 - val_accuracy: 0.9413\n",
            "Epoch 31/50\n",
            "60/60 [==============================] - 0s 4ms/step - loss: 0.0317 - accuracy: 0.9968 - val_loss: 0.8324 - val_accuracy: 0.9402\n",
            "Epoch 32/50\n",
            "60/60 [==============================] - 0s 4ms/step - loss: 0.0282 - accuracy: 0.9974 - val_loss: 0.8292 - val_accuracy: 0.9410\n",
            "Epoch 33/50\n",
            "60/60 [==============================] - 0s 4ms/step - loss: 0.0254 - accuracy: 0.9977 - val_loss: 0.8275 - val_accuracy: 0.9399\n",
            "Epoch 34/50\n",
            "60/60 [==============================] - 0s 4ms/step - loss: 0.0228 - accuracy: 0.9980 - val_loss: 0.8247 - val_accuracy: 0.9407\n",
            "Epoch 35/50\n",
            "60/60 [==============================] - 0s 4ms/step - loss: 0.0206 - accuracy: 0.9981 - val_loss: 0.8253 - val_accuracy: 0.9413\n",
            "Epoch 36/50\n",
            "60/60 [==============================] - 0s 4ms/step - loss: 0.0185 - accuracy: 0.9984 - val_loss: 0.8229 - val_accuracy: 0.9410\n",
            "Epoch 37/50\n",
            "60/60 [==============================] - 0s 4ms/step - loss: 0.0166 - accuracy: 0.9985 - val_loss: 0.8217 - val_accuracy: 0.9415\n",
            "Epoch 38/50\n",
            "60/60 [==============================] - 0s 4ms/step - loss: 0.0149 - accuracy: 0.9987 - val_loss: 0.8213 - val_accuracy: 0.9415\n",
            "Epoch 39/50\n",
            "60/60 [==============================] - 0s 4ms/step - loss: 0.0133 - accuracy: 0.9989 - val_loss: 0.8187 - val_accuracy: 0.9419\n",
            "Epoch 40/50\n",
            "60/60 [==============================] - 0s 4ms/step - loss: 0.0120 - accuracy: 0.9990 - val_loss: 0.8164 - val_accuracy: 0.9420\n",
            "Epoch 41/50\n",
            "60/60 [==============================] - 0s 4ms/step - loss: 0.0108 - accuracy: 0.9991 - val_loss: 0.8162 - val_accuracy: 0.9418\n",
            "Epoch 42/50\n",
            "60/60 [==============================] - 0s 4ms/step - loss: 0.0098 - accuracy: 0.9991 - val_loss: 0.8175 - val_accuracy: 0.9423\n",
            "Epoch 43/50\n",
            "60/60 [==============================] - 0s 4ms/step - loss: 0.0087 - accuracy: 0.9993 - val_loss: 0.8138 - val_accuracy: 0.9422\n",
            "Epoch 44/50\n",
            "60/60 [==============================] - 0s 4ms/step - loss: 0.0079 - accuracy: 0.9994 - val_loss: 0.8140 - val_accuracy: 0.9427\n",
            "Epoch 45/50\n",
            "60/60 [==============================] - 0s 4ms/step - loss: 0.0071 - accuracy: 0.9995 - val_loss: 0.8130 - val_accuracy: 0.9424\n",
            "Epoch 46/50\n",
            "60/60 [==============================] - 0s 4ms/step - loss: 0.0065 - accuracy: 0.9996 - val_loss: 0.8112 - val_accuracy: 0.9433\n",
            "Epoch 47/50\n",
            "60/60 [==============================] - 0s 4ms/step - loss: 0.0060 - accuracy: 0.9995 - val_loss: 0.8106 - val_accuracy: 0.9429\n",
            "Epoch 48/50\n",
            "60/60 [==============================] - 0s 4ms/step - loss: 0.0055 - accuracy: 0.9997 - val_loss: 0.8101 - val_accuracy: 0.9430\n",
            "Epoch 49/50\n",
            "60/60 [==============================] - 0s 4ms/step - loss: 0.0051 - accuracy: 0.9997 - val_loss: 0.8091 - val_accuracy: 0.9433\n",
            "Epoch 50/50\n",
            "60/60 [==============================] - 0s 4ms/step - loss: 0.0046 - accuracy: 0.9997 - val_loss: 0.8077 - val_accuracy: 0.9433\n"
          ],
          "name": "stdout"
        }
      ]
    },
    {
      "cell_type": "markdown",
      "metadata": {
        "id": "ZEL9TUYU56gN"
      },
      "source": [
        "### 请编写出Momentum、RMSprop和Adam优化算法下的train loss情况，并将四种优化算法绘制在一张折线图下，如下\n",
        "\n",
        "<img src=\"https://github.com/XingruiWang/RUC-Deep-Learning-Course/blob/master/NoteBook/optimizer.PNG?raw=1\" alt=\"drawing\" width=\"500\"/>\n",
        "\n",
        "\n",
        "### 提示：\n",
        "\n",
        "### 1、你需要去查找资料，其他优化器的代码是什么？\n",
        "### 2、一个最简单粗暴的办法，把上面的程序运行四个不同的版本，即可得到不同优化算法下的loss值，有愿意挑战的同学，不妨想想如何通话循环的方式将上述过程简化？"
      ]
    },
    {
      "cell_type": "code",
      "metadata": {
        "id": "any0xaUT56gN"
      },
      "source": [
        ""
      ],
      "execution_count": 11,
      "outputs": []
    }
  ]
}