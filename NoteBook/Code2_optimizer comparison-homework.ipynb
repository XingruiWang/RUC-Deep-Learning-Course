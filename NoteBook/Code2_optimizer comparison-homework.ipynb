{
  "nbformat": 4,
  "nbformat_minor": 0,
  "metadata": {
    "kernelspec": {
      "display_name": "Python 3",
      "language": "python",
      "name": "python3"
    },
    "language_info": {
      "codemirror_mode": {
        "name": "ipython",
        "version": 3
      },
      "file_extension": ".py",
      "mimetype": "text/x-python",
      "name": "python",
      "nbconvert_exporter": "python",
      "pygments_lexer": "ipython3",
      "version": "3.7.6"
    },
    "colab": {
      "name": "Code2_optimizer comparison-homework.ipynb",
      "provenance": []
    },
    "accelerator": "GPU"
  },
  "cells": [
    {
      "cell_type": "markdown",
      "metadata": {
        "id": "sk0KrRPS56gE"
      },
      "source": [
        "### 几中不同优化算法的比较"
      ]
    },
    {
      "cell_type": "code",
      "metadata": {
        "id": "0Ac4d7qu56gF"
      },
      "source": [
        "# 载入必要的函数库\n",
        "import numpy as np\n",
        "import matplotlib.pyplot as plt\n",
        "\n",
        "import tensorflow as tf\n",
        "from keras import Model\n",
        "from keras.layers import Dense,Flatten,Input\n",
        "from keras.optimizers import SGD,RMSprop,Adam\n",
        "\n",
        "from keras.utils import to_categorical "
      ],
      "execution_count": 1,
      "outputs": []
    },
    {
      "cell_type": "code",
      "metadata": {
        "id": "4gTRdsJs56gI",
        "outputId": "b6c99470-32b4-4a3f-c231-064ec3c6fc6f",
        "colab": {
          "base_uri": "https://localhost:8080/",
          "height": 87
        }
      },
      "source": [
        "## 载入mnist数据集\n",
        "mnist = tf.keras.datasets.mnist\n",
        "(X_train, y_train), (X_test, y_test) = mnist.load_data() \n",
        "\n",
        "## 转换为one - hot型向量\n",
        "Y_train=to_categorical(y_train)\n",
        "Y_test=to_categorical(y_test)\n",
        "\n",
        "print(Y_train.shape)\n",
        "print(Y_train[0])"
      ],
      "execution_count": 2,
      "outputs": [
        {
          "output_type": "stream",
          "text": [
            "Downloading data from https://storage.googleapis.com/tensorflow/tf-keras-datasets/mnist.npz\n",
            "11493376/11490434 [==============================] - 0s 0us/step\n",
            "(60000, 10)\n",
            "[0. 0. 0. 0. 0. 1. 0. 0. 0. 0.]\n"
          ],
          "name": "stdout"
        }
      ]
    },
    {
      "cell_type": "code",
      "metadata": {
        "id": "poCLxLU356gL",
        "outputId": "780a616d-52e2-4b7d-ee17-b08efa6a8b02",
        "colab": {
          "base_uri": "https://localhost:8080/",
          "height": 1000
        }
      },
      "source": [
        "'''\n",
        " 实验：构建 Multi-layer Nueral Network 模型 \n",
        "'''\n",
        "\n",
        "##  第一步  创建模型结构 ##\n",
        "\n",
        "IMSIZE = 28                                               \n",
        "input_layer = Input([IMSIZE,IMSIZE])       # MNIST图像为28*28的单层图片\n",
        "x = input_layer                              \n",
        "x = Flatten()(input_layer)                   # 将28*28*1的Tensor拉直为784维向量\n",
        "x = Dense(1000,activation = 'relu')(x)       # 全连接到1000个节点，并采用relu激活函数\n",
        "x = Dense(10,activation = 'softmax')(x)      # 全连接到10个节点，并采用softmax激活函数转化为(0,1)取值\n",
        "output_layer=x\n",
        "model=Model(input_layer,output_layer)    # Model函数将input_layer 和 output_layer中间的部分连接起来\n",
        "model.summary()\n",
        "\n",
        "##  第二步  模型编译 ##\n",
        "\n",
        "model.compile(loss='categorical_crossentropy',optimizer=SGD(lr=0.001),metrics=['accuracy'])\n",
        "\n",
        "##  第三步  模型拟合 ##\n",
        "\n",
        "history1 = model.fit(X_train,Y_train, validation_data=(X_test,Y_test), batch_size=1000, epochs=50)\n",
        "\n",
        "# 第四部  提取loss指标\n",
        "# model.fit会返回一个history对象，里面记录了训练集和测试集的loss以及acc\n",
        "# 我们将这些指标取出，绘制折线图\n",
        "\n",
        "train_loss1 = history1.history[\"loss\"]"
      ],
      "execution_count": 3,
      "outputs": [
        {
          "output_type": "stream",
          "text": [
            "Model: \"functional_1\"\n",
            "_________________________________________________________________\n",
            "Layer (type)                 Output Shape              Param #   \n",
            "=================================================================\n",
            "input_1 (InputLayer)         [(None, 28, 28)]          0         \n",
            "_________________________________________________________________\n",
            "flatten (Flatten)            (None, 784)               0         \n",
            "_________________________________________________________________\n",
            "dense (Dense)                (None, 1000)              785000    \n",
            "_________________________________________________________________\n",
            "dense_1 (Dense)              (None, 10)                10010     \n",
            "=================================================================\n",
            "Total params: 795,010\n",
            "Trainable params: 795,010\n",
            "Non-trainable params: 0\n",
            "_________________________________________________________________\n",
            "Epoch 1/50\n",
            "60/60 [==============================] - 0s 7ms/step - loss: 29.1943 - accuracy: 0.7960 - val_loss: 2.4602 - val_accuracy: 0.8935\n",
            "Epoch 2/50\n",
            "60/60 [==============================] - 0s 4ms/step - loss: 2.0275 - accuracy: 0.9053 - val_loss: 1.7355 - val_accuracy: 0.9129\n",
            "Epoch 3/50\n",
            "60/60 [==============================] - 0s 4ms/step - loss: 1.4015 - accuracy: 0.9220 - val_loss: 1.4660 - val_accuracy: 0.9206\n",
            "Epoch 4/50\n",
            "60/60 [==============================] - 0s 4ms/step - loss: 1.0727 - accuracy: 0.9327 - val_loss: 1.2878 - val_accuracy: 0.9253\n",
            "Epoch 5/50\n",
            "60/60 [==============================] - 0s 4ms/step - loss: 0.8596 - accuracy: 0.9414 - val_loss: 1.1760 - val_accuracy: 0.9271\n",
            "Epoch 6/50\n",
            "60/60 [==============================] - 0s 4ms/step - loss: 0.7100 - accuracy: 0.9474 - val_loss: 1.0926 - val_accuracy: 0.9317\n",
            "Epoch 7/50\n",
            "60/60 [==============================] - 0s 4ms/step - loss: 0.5975 - accuracy: 0.9523 - val_loss: 1.0540 - val_accuracy: 0.9318\n",
            "Epoch 8/50\n",
            "60/60 [==============================] - 0s 4ms/step - loss: 0.5092 - accuracy: 0.9581 - val_loss: 0.9966 - val_accuracy: 0.9355\n",
            "Epoch 9/50\n",
            "60/60 [==============================] - 0s 4ms/step - loss: 0.4376 - accuracy: 0.9619 - val_loss: 0.9710 - val_accuracy: 0.9365\n",
            "Epoch 10/50\n",
            "60/60 [==============================] - 0s 4ms/step - loss: 0.3812 - accuracy: 0.9657 - val_loss: 0.9261 - val_accuracy: 0.9374\n",
            "Epoch 11/50\n",
            "60/60 [==============================] - 0s 4ms/step - loss: 0.3330 - accuracy: 0.9690 - val_loss: 0.9074 - val_accuracy: 0.9371\n",
            "Epoch 12/50\n",
            "60/60 [==============================] - 0s 4ms/step - loss: 0.2911 - accuracy: 0.9715 - val_loss: 0.8949 - val_accuracy: 0.9384\n",
            "Epoch 13/50\n",
            "60/60 [==============================] - 0s 4ms/step - loss: 0.2573 - accuracy: 0.9740 - val_loss: 0.8667 - val_accuracy: 0.9397\n",
            "Epoch 14/50\n",
            "60/60 [==============================] - 0s 3ms/step - loss: 0.2257 - accuracy: 0.9766 - val_loss: 0.8493 - val_accuracy: 0.9402\n",
            "Epoch 15/50\n",
            "60/60 [==============================] - 0s 4ms/step - loss: 0.2004 - accuracy: 0.9782 - val_loss: 0.8364 - val_accuracy: 0.9402\n",
            "Epoch 16/50\n",
            "60/60 [==============================] - 0s 4ms/step - loss: 0.1765 - accuracy: 0.9803 - val_loss: 0.8242 - val_accuracy: 0.9405\n",
            "Epoch 17/50\n",
            "60/60 [==============================] - 0s 4ms/step - loss: 0.1571 - accuracy: 0.9820 - val_loss: 0.8114 - val_accuracy: 0.9409\n",
            "Epoch 18/50\n",
            "60/60 [==============================] - 0s 4ms/step - loss: 0.1387 - accuracy: 0.9841 - val_loss: 0.7968 - val_accuracy: 0.9421\n",
            "Epoch 19/50\n",
            "60/60 [==============================] - 0s 3ms/step - loss: 0.1228 - accuracy: 0.9852 - val_loss: 0.7863 - val_accuracy: 0.9416\n",
            "Epoch 20/50\n",
            "60/60 [==============================] - 0s 4ms/step - loss: 0.1094 - accuracy: 0.9868 - val_loss: 0.7798 - val_accuracy: 0.9417\n",
            "Epoch 21/50\n",
            "60/60 [==============================] - 0s 4ms/step - loss: 0.0968 - accuracy: 0.9880 - val_loss: 0.7725 - val_accuracy: 0.9416\n",
            "Epoch 22/50\n",
            "60/60 [==============================] - 0s 4ms/step - loss: 0.0857 - accuracy: 0.9893 - val_loss: 0.7693 - val_accuracy: 0.9407\n",
            "Epoch 23/50\n",
            "60/60 [==============================] - 0s 4ms/step - loss: 0.0759 - accuracy: 0.9905 - val_loss: 0.7640 - val_accuracy: 0.9416\n",
            "Epoch 24/50\n",
            "60/60 [==============================] - 0s 4ms/step - loss: 0.0682 - accuracy: 0.9919 - val_loss: 0.7550 - val_accuracy: 0.9419\n",
            "Epoch 25/50\n",
            "60/60 [==============================] - 0s 4ms/step - loss: 0.0603 - accuracy: 0.9928 - val_loss: 0.7523 - val_accuracy: 0.9417\n",
            "Epoch 26/50\n",
            "60/60 [==============================] - 0s 3ms/step - loss: 0.0540 - accuracy: 0.9935 - val_loss: 0.7496 - val_accuracy: 0.9423\n",
            "Epoch 27/50\n",
            "60/60 [==============================] - 0s 4ms/step - loss: 0.0485 - accuracy: 0.9944 - val_loss: 0.7465 - val_accuracy: 0.9418\n",
            "Epoch 28/50\n",
            "60/60 [==============================] - 0s 4ms/step - loss: 0.0434 - accuracy: 0.9950 - val_loss: 0.7402 - val_accuracy: 0.9430\n",
            "Epoch 29/50\n",
            "60/60 [==============================] - 0s 4ms/step - loss: 0.0390 - accuracy: 0.9955 - val_loss: 0.7377 - val_accuracy: 0.9430\n",
            "Epoch 30/50\n",
            "60/60 [==============================] - 0s 3ms/step - loss: 0.0351 - accuracy: 0.9961 - val_loss: 0.7350 - val_accuracy: 0.9432\n",
            "Epoch 31/50\n",
            "60/60 [==============================] - 0s 3ms/step - loss: 0.0317 - accuracy: 0.9965 - val_loss: 0.7304 - val_accuracy: 0.9441\n",
            "Epoch 32/50\n",
            "60/60 [==============================] - 0s 4ms/step - loss: 0.0285 - accuracy: 0.9971 - val_loss: 0.7318 - val_accuracy: 0.9432\n",
            "Epoch 33/50\n",
            "60/60 [==============================] - 0s 4ms/step - loss: 0.0258 - accuracy: 0.9973 - val_loss: 0.7327 - val_accuracy: 0.9431\n",
            "Epoch 34/50\n",
            "60/60 [==============================] - 0s 4ms/step - loss: 0.0233 - accuracy: 0.9976 - val_loss: 0.7296 - val_accuracy: 0.9438\n",
            "Epoch 35/50\n",
            "60/60 [==============================] - 0s 4ms/step - loss: 0.0209 - accuracy: 0.9979 - val_loss: 0.7255 - val_accuracy: 0.9436\n",
            "Epoch 36/50\n",
            "60/60 [==============================] - 0s 4ms/step - loss: 0.0189 - accuracy: 0.9981 - val_loss: 0.7254 - val_accuracy: 0.9439\n",
            "Epoch 37/50\n",
            "60/60 [==============================] - 0s 4ms/step - loss: 0.0170 - accuracy: 0.9983 - val_loss: 0.7249 - val_accuracy: 0.9440\n",
            "Epoch 38/50\n",
            "60/60 [==============================] - 0s 3ms/step - loss: 0.0153 - accuracy: 0.9984 - val_loss: 0.7244 - val_accuracy: 0.9433\n",
            "Epoch 39/50\n",
            "60/60 [==============================] - 0s 4ms/step - loss: 0.0138 - accuracy: 0.9987 - val_loss: 0.7209 - val_accuracy: 0.9438\n",
            "Epoch 40/50\n",
            "60/60 [==============================] - 0s 4ms/step - loss: 0.0124 - accuracy: 0.9988 - val_loss: 0.7222 - val_accuracy: 0.9439\n",
            "Epoch 41/50\n",
            "60/60 [==============================] - 0s 4ms/step - loss: 0.0113 - accuracy: 0.9990 - val_loss: 0.7178 - val_accuracy: 0.9446\n",
            "Epoch 42/50\n",
            "60/60 [==============================] - 0s 4ms/step - loss: 0.0102 - accuracy: 0.9991 - val_loss: 0.7195 - val_accuracy: 0.9443\n",
            "Epoch 43/50\n",
            "60/60 [==============================] - 0s 4ms/step - loss: 0.0092 - accuracy: 0.9991 - val_loss: 0.7168 - val_accuracy: 0.9444\n",
            "Epoch 44/50\n",
            "60/60 [==============================] - 0s 3ms/step - loss: 0.0083 - accuracy: 0.9992 - val_loss: 0.7175 - val_accuracy: 0.9447\n",
            "Epoch 45/50\n",
            "60/60 [==============================] - 0s 4ms/step - loss: 0.0075 - accuracy: 0.9992 - val_loss: 0.7162 - val_accuracy: 0.9448\n",
            "Epoch 46/50\n",
            "60/60 [==============================] - 0s 3ms/step - loss: 0.0067 - accuracy: 0.9993 - val_loss: 0.7147 - val_accuracy: 0.9447\n",
            "Epoch 47/50\n",
            "60/60 [==============================] - 0s 3ms/step - loss: 0.0060 - accuracy: 0.9995 - val_loss: 0.7140 - val_accuracy: 0.9454\n",
            "Epoch 48/50\n",
            "60/60 [==============================] - 0s 4ms/step - loss: 0.0055 - accuracy: 0.9996 - val_loss: 0.7130 - val_accuracy: 0.9454\n",
            "Epoch 49/50\n",
            "60/60 [==============================] - 0s 4ms/step - loss: 0.0050 - accuracy: 0.9997 - val_loss: 0.7119 - val_accuracy: 0.9452\n",
            "Epoch 50/50\n",
            "60/60 [==============================] - 0s 4ms/step - loss: 0.0046 - accuracy: 0.9998 - val_loss: 0.7113 - val_accuracy: 0.9454\n"
          ],
          "name": "stdout"
        }
      ]
    },
    {
      "cell_type": "markdown",
      "metadata": {
        "id": "ZEL9TUYU56gN"
      },
      "source": [
        "### 请编写出Momentum、RMSprop和Adam优化算法下的train loss情况，并将四种优化算法绘制在一张折线图下，如下\n",
        "\n",
        "<img src=\"https://github.com/XingruiWang/RUC-Deep-Learning-Course/blob/master/NoteBook/optimizer.PNG?raw=1\" alt=\"drawing\" width=\"500\"/>\n",
        "\n",
        "\n",
        "### 提示：\n",
        "\n",
        "### 1、你需要去查找资料，其他优化器的代码是什么？\n",
        "### 2、一个最简单粗暴的办法，把上面的程序运行四个不同的版本，即可得到不同优化算法下的loss值，有愿意挑战的同学，不妨想想如何通话循环的方式将上述过程简化？"
      ]
    },
    {
      "cell_type": "code",
      "metadata": {
        "id": "any0xaUT56gN"
      },
      "source": [
        ""
      ],
      "execution_count": 3,
      "outputs": []
    }
  ]
}