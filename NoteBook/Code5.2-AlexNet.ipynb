{
 "cells": [
  {
   "cell_type": "markdown",
   "metadata": {},
   "source": [
    "## AlexNet代码实现 "
   ]
  },
  {
   "cell_type": "code",
   "execution_count": null,
   "metadata": {},
   "outputs": [],
   "source": [
    "import tensorflow as tf\n",
    "import keras\n",
    "from keras.layers import Activation,Conv2D, BatchNormalization, Dense\n",
    "from keras.layers import Dropout, Flatten, Input, MaxPooling2D, ZeroPadding2D\n",
    "from keras import Model\n",
    "\n",
    "IMSIZE = 227\n",
    "input_layer = Input([IMSIZE,IMSIZE,3])\n",
    "x = input_layer\n",
    "x = Conv2D(96,[11,11],strides = [4,4], activation = 'relu')(x) \n",
    "x = MaxPooling2D([3,3], strides = [2,2])(x)    \n",
    "x = Conv2D(256,[5,5],padding = \"same\", activation = 'relu')(x)\n",
    "x = MaxPooling2D([3,3], strides = [2,2])(x)\n",
    "x = Conv2D(384,[3,3],padding = \"same\", activation = 'relu')(x) \n",
    "x = Conv2D(384,[3,3],padding = \"same\", activation = 'relu')(x) \n",
    "x = Conv2D(256,[3,3],padding = \"same\", activation = 'relu')(x) \n",
    "x = MaxPooling2D([3,3], strides = [2,2])(x)\n",
    "x = Flatten()(x)   \n",
    "x = Dense(4096,activation = 'relu')(x)\n",
    "x = Dropout(0.5)(x)\n",
    "x = Dense(4096,activation = 'relu')(x)\n",
    "x = Dropout(0.5)(x)\n",
    "x = Dense(2,activation = 'softmax')(x) \n",
    "output_layer=x\n",
    "model=Model(input_layer,output_layer)\n",
    "model.summary()"
   ]
  },
  {
   "cell_type": "markdown",
   "metadata": {},
   "source": [
    "## 数据生成器"
   ]
  },
  {
   "cell_type": "code",
   "execution_count": null,
   "metadata": {},
   "outputs": [],
   "source": [
    "from keras.preprocessing.image import ImageDataGenerator\n",
    "\n",
    "IMSIZE=227\n",
    "\n",
    "validation_generator = ImageDataGenerator(rescale=1./255).flow_from_directory(\n",
    "    './data/ChineseStyle/test/',\n",
    "    target_size=(IMSIZE, IMSIZE),\n",
    "    batch_size=200,\n",
    "    class_mode='categorical')\n",
    "\n",
    "train_generator = ImageDataGenerator(rescale=1./255).flow_from_directory(\n",
    "    './data/ChineseStyle/train',\n",
    "    target_size=(IMSIZE, IMSIZE),\n",
    "    batch_size=200,\n",
    "    class_mode='categorical')"
   ]
  },
  {
   "cell_type": "markdown",
   "metadata": {},
   "source": [
    "## 数据展示"
   ]
  },
  {
   "cell_type": "code",
   "execution_count": null,
   "metadata": {},
   "outputs": [],
   "source": [
    "from matplotlib import pyplot as plt\n",
    "\n",
    "plt.figure()\n",
    "fig,ax = plt.subplots(2,5)\n",
    "fig.set_figheight(7)\n",
    "fig.set_figwidth(15)\n",
    "ax=ax.flatten()\n",
    "X,Y=next(validation_generator)\n",
    "for i in range(10): ax[i].imshow(X[i,:,:,:])"
   ]
  },
  {
   "cell_type": "markdown",
   "metadata": {},
   "source": [
    "## 训练模型"
   ]
  },
  {
   "cell_type": "code",
   "execution_count": null,
   "metadata": {},
   "outputs": [],
   "source": [
    "from keras.optimizers import Adam\n",
    "model.compile(loss='categorical_crossentropy',\n",
    "              optimizer=Adam(lr=0.001),metrics=['accuracy'])\n",
    "model.fit_generator(train_generator,epochs=10,\n",
    "                    validation_data=validation_generator)"
   ]
  },
  {
   "cell_type": "code",
   "execution_count": null,
   "metadata": {},
   "outputs": [],
   "source": []
  }
 ],
 "metadata": {
  "kernelspec": {
   "display_name": "Python 3",
   "language": "python",
   "name": "python3"
  },
  "language_info": {
   "codemirror_mode": {
    "name": "ipython",
    "version": 3
   },
   "file_extension": ".py",
   "mimetype": "text/x-python",
   "name": "python",
   "nbconvert_exporter": "python",
   "pygments_lexer": "ipython3",
   "version": "3.7.6"
  }
 },
 "nbformat": 4,
 "nbformat_minor": 4
}
