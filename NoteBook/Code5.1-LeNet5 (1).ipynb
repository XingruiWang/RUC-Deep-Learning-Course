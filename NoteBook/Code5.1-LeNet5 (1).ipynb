{
 "cells": [
  {
   "cell_type": "markdown",
   "metadata": {},
   "source": [
    "## 载入数据 "
   ]
  },
  {
   "cell_type": "code",
   "execution_count": 7,
   "metadata": {},
   "outputs": [],
   "source": [
    "from keras.datasets import mnist\n",
    "(X0, Y0), (X1, Y1) = mnist.load_data() "
   ]
  },
  {
   "cell_type": "markdown",
   "metadata": {},
   "source": [
    "## 数据展示"
   ]
  },
  {
   "cell_type": "code",
   "execution_count": 8,
   "metadata": {},
   "outputs": [
    {
     "data": {
      "text/plain": [
       "<Figure size 432x288 with 0 Axes>"
      ]
     },
     "metadata": {},
     "output_type": "display_data"
    },
    {
     "data": {
      "image/png": "[encoded data removed]",
      "text/plain": [
       "<Figure size 432x288 with 10 Axes>"
      ]
     },
     "metadata": {
      "needs_background": "light"
     },
     "output_type": "display_data"
    }
   ],
   "source": [
    "from matplotlib import pyplot as plt\n",
    "plt.figure()\n",
    "fig,ax = plt.subplots(2,5)\n",
    "ax=ax.flatten()\n",
    "for i in range(10):\n",
    "    Im=X0[Y0==i][0]\n",
    "    ax[i].imshow(Im)\n",
    "plt.show()"
   ]
  },
  {
   "cell_type": "markdown",
   "metadata": {},
   "source": [
    "## 数据处理"
   ]
  },
  {
   "cell_type": "code",
   "execution_count": 9,
   "metadata": {},
   "outputs": [
    {
     "name": "stdout",
     "output_type": "stream",
     "text": [
      "[60000, 10000]\n"
     ]
    },
    {
     "data": {
      "text/plain": [
       "array([[0., 0., 0., ..., 1., 0., 0.],\n",
       "       [0., 0., 1., ..., 0., 0., 0.],\n",
       "       [0., 1., 0., ..., 0., 0., 0.],\n",
       "       ...,\n",
       "       [0., 0., 0., ..., 0., 0., 0.],\n",
       "       [0., 0., 0., ..., 0., 0., 0.],\n",
       "       [0., 0., 0., ..., 0., 0., 0.]], dtype=float32)"
      ]
     },
     "execution_count": 9,
     "metadata": {},
     "output_type": "execute_result"
    }
   ],
   "source": [
    "from keras.utils import np_utils\n",
    "N0=X0.shape[0];N1=X1.shape[0]\n",
    "print([N0,N1])\n",
    "X0 = X0.reshape(N0,28,28,1)/255\n",
    "X1 = X1.reshape(N1,28,28,1)/255\n",
    "YY0 = np_utils.to_categorical(Y0)\n",
    "YY1 = np_utils.to_categorical(Y1)\n",
    "YY1"
   ]
  },
  {
   "cell_type": "markdown",
   "metadata": {},
   "source": [
    "## 构建LeNet-5模型"
   ]
  },
  {
   "cell_type": "code",
   "execution_count": 10,
   "metadata": {},
   "outputs": [
    {
     "name": "stdout",
     "output_type": "stream",
     "text": [
      "Model: \"model_1\"\n",
      "_________________________________________________________________\n",
      "Layer (type)                 Output Shape              Param #   \n",
      "=================================================================\n",
      "input_1 (InputLayer)         (None, 28, 28, 1)         0         \n",
      "_________________________________________________________________\n",
      "conv2d_1 (Conv2D)            (None, 28, 28, 6)         156       \n",
      "_________________________________________________________________\n",
      "max_pooling2d_1 (MaxPooling2 (None, 14, 14, 6)         0         \n",
      "_________________________________________________________________\n",
      "conv2d_2 (Conv2D)            (None, 10, 10, 16)        2416      \n",
      "_________________________________________________________________\n",
      "max_pooling2d_2 (MaxPooling2 (None, 5, 5, 16)          0         \n",
      "_________________________________________________________________\n",
      "flatten_1 (Flatten)          (None, 400)               0         \n",
      "_________________________________________________________________\n",
      "dense_1 (Dense)              (None, 120)               48120     \n",
      "_________________________________________________________________\n",
      "dense_2 (Dense)              (None, 84)                10164     \n",
      "_________________________________________________________________\n",
      "dense_3 (Dense)              (None, 10)                850       \n",
      "=================================================================\n",
      "Total params: 61,706\n",
      "Trainable params: 61,706\n",
      "Non-trainable params: 0\n",
      "_________________________________________________________________\n"
     ]
    }
   ],
   "source": [
    "from keras.layers import Conv2D,Dense,Flatten,Input,MaxPooling2D \n",
    "from keras import Model\n",
    "\n",
    "input_layer = Input([28,28,1])\n",
    "x = input_layer\n",
    "x = Conv2D(6,[5,5],padding = \"same\", activation = 'relu')(x) \n",
    "x = MaxPooling2D(pool_size = [2,2], strides = [2,2])(x)    \n",
    "x = Conv2D(16,[5,5],padding = \"valid\", activation = 'relu')(x) \n",
    "x = MaxPooling2D(pool_size = [2,2], strides = [2,2])(x)\n",
    "x = Flatten()(x)   \n",
    "x = Dense(120,activation = 'relu')(x)\n",
    "x = Dense(84,activation = 'relu')(x)\n",
    "x = Dense(10,activation = 'softmax')(x)\n",
    "output_layer=x\n",
    "model=Model(input_layer,output_layer)\n",
    "model.summary()"
   ]
  },
  {
   "cell_type": "code",
   "execution_count": 11,
   "metadata": {},
   "outputs": [
    {
     "name": "stdout",
     "output_type": "stream",
     "text": [
      "Train on 60000 samples, validate on 10000 samples\n",
      "Epoch 1/10\n",
      "60000/60000 [==============================] - 3s 53us/step - loss: 0.3901 - accuracy: 0.8858 - val_loss: 0.1267 - val_accuracy: 0.9628\n",
      "Epoch 2/10\n",
      "60000/60000 [==============================] - 1s 19us/step - loss: 0.1068 - accuracy: 0.9675 - val_loss: 0.0674 - val_accuracy: 0.9779\n",
      "Epoch 3/10\n",
      "60000/60000 [==============================] - 1s 19us/step - loss: 0.0734 - accuracy: 0.9772 - val_loss: 0.0608 - val_accuracy: 0.9809\n",
      "Epoch 4/10\n",
      "60000/60000 [==============================] - 1s 20us/step - loss: 0.0591 - accuracy: 0.9819 - val_loss: 0.0538 - val_accuracy: 0.9821\n",
      "Epoch 5/10\n",
      "60000/60000 [==============================] - 1s 20us/step - loss: 0.0482 - accuracy: 0.9847 - val_loss: 0.0439 - val_accuracy: 0.9864\n",
      "Epoch 6/10\n",
      "60000/60000 [==============================] - 1s 21us/step - loss: 0.0411 - accuracy: 0.9872 - val_loss: 0.0369 - val_accuracy: 0.9882\n",
      "Epoch 7/10\n",
      "60000/60000 [==============================] - 1s 20us/step - loss: 0.0346 - accuracy: 0.9891 - val_loss: 0.0379 - val_accuracy: 0.9873\n",
      "Epoch 8/10\n",
      "60000/60000 [==============================] - 1s 20us/step - loss: 0.0320 - accuracy: 0.9898 - val_loss: 0.0379 - val_accuracy: 0.9869\n",
      "Epoch 9/10\n",
      "60000/60000 [==============================] - 1s 20us/step - loss: 0.0290 - accuracy: 0.9906 - val_loss: 0.0311 - val_accuracy: 0.9889\n",
      "Epoch 10/10\n",
      "60000/60000 [==============================] - 1s 20us/step - loss: 0.0247 - accuracy: 0.9920 - val_loss: 0.0382 - val_accuracy: 0.9883\n"
     ]
    },
    {
     "data": {
      "text/plain": [
       "<keras.callbacks.callbacks.History at 0x7fbc003114d0>"
      ]
     },
     "execution_count": 11,
     "metadata": {},
     "output_type": "execute_result"
    }
   ],
   "source": [
    "model.compile(loss = 'categorical_crossentropy',optimizer='adam',metrics = ['accuracy'])\n",
    "model.fit(X0,YY0,epochs = 10,batch_size = 200,validation_data=[X1,YY1]) "
   ]
  },
  {
   "cell_type": "code",
   "execution_count": null,
   "metadata": {},
   "outputs": [],
   "source": []
  }
 ],
 "metadata": {
  "kernelspec": {
   "display_name": "Python 3",
   "language": "python",
   "name": "python3"
  },
  "language_info": {
   "codemirror_mode": {
    "name": "ipython",
    "version": 3
   },
   "file_extension": ".py",
   "mimetype": "text/x-python",
   "name": "python",
   "nbconvert_exporter": "python",
   "pygments_lexer": "ipython3",
   "version": "3.7.6"
  }
 },
 "nbformat": 4,
 "nbformat_minor": 4
}
