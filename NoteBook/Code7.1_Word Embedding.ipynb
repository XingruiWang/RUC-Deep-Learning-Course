{
 "cells": [
  {
   "cell_type": "markdown",
   "metadata": {},
   "source": [
    "### Word Embedding实现"
   ]
  },
  {
   "cell_type": "code",
   "execution_count": 1,
   "metadata": {},
   "outputs": [
    {
     "data": {
      "text/html": [
       "<div>\n",
       "<style scoped>\n",
       "    .dataframe tbody tr th:only-of-type {\n",
       "        vertical-align: middle;\n",
       "    }\n",
       "\n",
       "    .dataframe tbody tr th {\n",
       "        vertical-align: top;\n",
       "    }\n",
       "\n",
       "    .dataframe thead th {\n",
       "        text-align: right;\n",
       "    }\n",
       "</style>\n",
       "<table border=\"1\" class=\"dataframe\">\n",
       "  <thead>\n",
       "    <tr style=\"text-align: right;\">\n",
       "      <th></th>\n",
       "      <th>label</th>\n",
       "      <th>review</th>\n",
       "    </tr>\n",
       "  </thead>\n",
       "  <tbody>\n",
       "    <tr>\n",
       "      <th>0</th>\n",
       "      <td>1</td>\n",
       "      <td>距离川沙公路较近,但是公交指示不对,如果是\"蔡陆线\"的话,会非常麻烦.建议用别的路线.房间较...</td>\n",
       "    </tr>\n",
       "    <tr>\n",
       "      <th>1</th>\n",
       "      <td>1</td>\n",
       "      <td>商务大床房，房间很大，床有2M宽，整体感觉经济实惠不错!</td>\n",
       "    </tr>\n",
       "    <tr>\n",
       "      <th>2</th>\n",
       "      <td>1</td>\n",
       "      <td>早餐太差，无论去多少人，那边也不加食品的。酒店应该重视一下这个问题了。房间本身很好。</td>\n",
       "    </tr>\n",
       "    <tr>\n",
       "      <th>3</th>\n",
       "      <td>1</td>\n",
       "      <td>宾馆在小街道上，不大好找，但还好北京热心同胞很多~宾馆设施跟介绍的差不多，房间很小，确实挺小...</td>\n",
       "    </tr>\n",
       "    <tr>\n",
       "      <th>4</th>\n",
       "      <td>1</td>\n",
       "      <td>CBD中心,周围没什么店铺,说5星有点勉强.不知道为什么卫生间没有电吹风</td>\n",
       "    </tr>\n",
       "  </tbody>\n",
       "</table>\n",
       "</div>"
      ],
      "text/plain": [
       "   label                                             review\n",
       "0      1  距离川沙公路较近,但是公交指示不对,如果是\"蔡陆线\"的话,会非常麻烦.建议用别的路线.房间较...\n",
       "1      1                       商务大床房，房间很大，床有2M宽，整体感觉经济实惠不错!\n",
       "2      1         早餐太差，无论去多少人，那边也不加食品的。酒店应该重视一下这个问题了。房间本身很好。\n",
       "3      1  宾馆在小街道上，不大好找，但还好北京热心同胞很多~宾馆设施跟介绍的差不多，房间很小，确实挺小...\n",
       "4      1               CBD中心,周围没什么店铺,说5星有点勉强.不知道为什么卫生间没有电吹风"
      ]
     },
     "execution_count": 1,
     "metadata": {},
     "output_type": "execute_result"
    }
   ],
   "source": [
    "import pandas as pd\n",
    "data = pd.read_csv('/course7/data/Comment.csv')\n",
    "data.head()"
   ]
  },
  {
   "cell_type": "code",
   "execution_count": 3,
   "metadata": {},
   "outputs": [
    {
     "name": "stderr",
     "output_type": "stream",
     "text": [
      "Building prefix dict from the default dictionary ...\n",
      "Dumping model to file cache /tmp/jieba.cache\n",
      "Loading model cost 1.026 seconds.\n",
      "Prefix dict has been built successfully.\n"
     ]
    }
   ],
   "source": [
    "import jieba\n",
    "train_data = []\n",
    "for line in data.review:\n",
    "    line_fenci = jieba.lcut(line)\n",
    "    train_data.append(line_fenci)"
   ]
  },
  {
   "cell_type": "code",
   "execution_count": 4,
   "metadata": {},
   "outputs": [
    {
     "name": "stdout",
     "output_type": "stream",
     "text": [
      "['距离', '川沙', '公路', '较近', ',', '但是', '公交', '指示', '不', '对', ',', '如果', '是', '\"', '蔡陆线', '\"', '的话', ',', '会', '非常', '麻烦', '.', '建议', '用', '别的', '路线', '.', '房间', '较为简单', '.']\n",
      "['商务', '大床', '房', '，', '房间', '很大', '，', '床有', '2M', '宽', '，', '整体', '感觉', '经济', '实惠', '不错', '!']\n",
      "['早餐', '太', '差', '，', '无论', '去', '多少', '人', '，', '那边', '也', '不加', '食品', '的', '。', '酒店', '应该', '重视', '一下', '这个', '问题', '了', '。', '房间', '本身', '很', '好', '。']\n"
     ]
    }
   ],
   "source": [
    "print(train_data[0])\n",
    "print(train_data[1])\n",
    "print(train_data[2])"
   ]
  },
  {
   "cell_type": "code",
   "execution_count": 8,
   "metadata": {},
   "outputs": [],
   "source": [
    "from gensim.models import Word2Vec\n",
    "model = Word2Vec(train_data, size=100, min_count=1)"
   ]
  },
  {
   "cell_type": "code",
   "execution_count": 11,
   "metadata": {},
   "outputs": [
    {
     "name": "stdout",
     "output_type": "stream",
     "text": [
      "100\n"
     ]
    },
    {
     "data": {
      "text/plain": [
       "array([ 0.89542145, -0.6490312 , -0.22642516,  1.3973131 , -1.2703098 ,\n",
       "        1.4666559 , -2.8541923 , -1.0024719 ,  1.2495021 ,  0.16921973,\n",
       "       -0.7407625 ,  0.63915855,  1.0088823 , -0.52416617, -0.32766086,\n",
       "       -1.2599182 ,  0.52562827,  1.0042164 , -0.9164284 , -0.06590842,\n",
       "       -0.8616598 ,  0.19080268,  0.06248818, -1.1315471 ,  0.36244953,\n",
       "       -1.5895543 , -0.39227715,  0.5407594 ,  0.5208427 , -0.320173  ,\n",
       "       -0.5906558 , -0.47391018, -0.605822  , -1.2000997 , -0.02445757,\n",
       "        0.5606645 ,  0.48994425,  0.07362944,  0.6624281 , -0.06188135,\n",
       "        0.1663311 , -0.14351374, -0.33823588,  0.1625293 , -0.28120252,\n",
       "        1.3417573 ,  0.344856  , -0.5217829 , -0.60360044, -1.0310396 ,\n",
       "       -0.5065341 , -0.24301203,  0.9591832 , -0.8376389 ,  0.48685855,\n",
       "       -1.4390694 , -2.2389643 , -1.2260243 , -1.5074431 ,  1.4989314 ,\n",
       "       -1.5054322 ,  0.2818238 , -0.4107325 ,  0.7610969 , -0.8763903 ,\n",
       "        0.3631358 ,  0.26877886, -1.2533702 , -0.05610239,  0.07100725,\n",
       "       -0.47294506,  1.3585863 , -0.20269056,  0.43290693,  0.45087394,\n",
       "       -0.21375522, -0.4207183 ,  0.44140944, -0.49693486,  0.07567549,\n",
       "       -0.41898465, -0.76437527,  1.8594651 , -0.15459533,  0.7834381 ,\n",
       "        0.03570893,  0.6038852 ,  0.256681  ,  0.40962678, -0.8670929 ,\n",
       "        0.3136174 ,  0.60215026, -0.19840857, -0.13875118, -1.0433698 ,\n",
       "       -0.3265628 , -0.16621383,  0.8075391 ,  1.3168069 , -1.4319441 ],\n",
       "      dtype=float32)"
      ]
     },
     "execution_count": 11,
     "metadata": {},
     "output_type": "execute_result"
    }
   ],
   "source": [
    "print(len(model.wv['酒店']))\n",
    "model.wv['酒店']"
   ]
  },
  {
   "cell_type": "code",
   "execution_count": 12,
   "metadata": {},
   "outputs": [
    {
     "name": "stdout",
     "output_type": "stream",
     "text": [
      "0.8103319\n",
      "0.54225594\n",
      "('行', 0.881237804889679)\n",
      "('挺不错', 0.8779298067092896)\n",
      "('马马虎虎', 0.8619875907897949)\n",
      "('物有所值', 0.8615782260894775)\n",
      "('优越', 0.8604171276092529)\n"
     ]
    }
   ],
   "source": [
    "print(model.wv.similarity('酒店', '饭店'))\n",
    "print(model.wv.similarity('酒店', '不错'))\n",
    "for key in model.wv.similar_by_word('不错', topn =5):\n",
    "    print(key)"
   ]
  },
  {
   "cell_type": "code",
   "execution_count": null,
   "metadata": {},
   "outputs": [],
   "source": []
  }
 ],
 "metadata": {
  "kernelspec": {
   "display_name": "Python 3",
   "language": "python",
   "name": "python3"
  },
  "language_info": {
   "codemirror_mode": {
    "name": "ipython",
    "version": 3
   },
   "file_extension": ".py",
   "mimetype": "text/x-python",
   "name": "python",
   "nbconvert_exporter": "python",
   "pygments_lexer": "ipython3",
   "version": "3.7.6"
  }
 },
 "nbformat": 4,
 "nbformat_minor": 2
}
